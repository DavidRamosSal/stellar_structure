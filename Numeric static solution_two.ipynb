{
 "cells": [
  {
   "cell_type": "code",
   "execution_count": 1,
   "metadata": {},
   "outputs": [],
   "source": [
    "import numpy as np\n",
    "import matplotlib.pyplot as plt\n",
    "from scipy import integrate\n",
    "from scipy import interpolate\n",
    "import pylab as pl"
   ]
  },
  {
   "cell_type": "markdown",
   "metadata": {},
   "source": [
    "### Alternative to the standar method for solving TOV, inspired on the newtonian case worked by astrophysicists."
   ]
  },
  {
   "cell_type": "markdown",
   "metadata": {},
   "source": [
    "## System of Equations"
   ]
  },
  {
   "cell_type": "markdown",
   "metadata": {},
   "source": [
    "The equations of structure of an compact object with spherical symmetry (neutron stars in our case) is given by (in units where $c=G=1$):"
   ]
  },
  {
   "cell_type": "markdown",
   "metadata": {},
   "source": [
    "$$ P=P(\\rho), $$\n",
    "$$ \\frac{dm}{dr}=4\\pi \\rho r^2 , $$\n",
    "$$ \\frac{dP}{dr}=-(\\rho+P)\\frac{m+4\\pi r^3 P}{r(r-2m)} , $$"
   ]
  },
  {
   "cell_type": "markdown",
   "metadata": {},
   "source": [
    "Keeping the same nondimensionalization:\n",
    "$$r=b\\bar{r} \\quad ; \\quad \\rho=\\Sigma \\bar{\\rho} \\quad ; \\quad m=m_c\\bar{m} \\quad ; \\quad  P=P_c \\bar{P}$$"
   ]
  },
  {
   "cell_type": "markdown",
   "metadata": {},
   "source": [
    "$$ \\Sigma=\\frac{m_{n}^{4}c^{3}}{8 \\pi^2 \\hbar^3}\\quad;\\quad b=\\frac{c}{\\sqrt{\\Sigma G}}\\quad, \\quad m= \\frac{b c^2}{G} \\bar{m} \\quad; \\quad P= \\Sigma c^2 \\bar{P},$$"
   ]
  },
  {
   "cell_type": "markdown",
   "metadata": {},
   "source": [
    "we have the system of equations"
   ]
  },
  {
   "cell_type": "markdown",
   "metadata": {},
   "source": [
    "$$ \\bar{P}=\\bar{P}(\\bar{\\rho}), $$\n",
    "$$ \\frac{d\\bar{m}}{\\bar{dr}}=4\\pi \\bar{\\rho} \\bar{r}^2 , $$\n",
    "$$ \\frac{d\\bar{P}}{d\\bar{r}}=-\\left(\\bar{\\rho}+\\bar{P}\\right)\\frac{\\bar{m}+4\\pi \\bar{r}^3 \\bar{P}}{\\bar{r}(\\bar{r}-2\\bar{m})} . $$"
   ]
  },
  {
   "cell_type": "markdown",
   "metadata": {},
   "source": [
    "We want to change the independent variable to $m$, we find the reciprocal to the second equation:\n",
    "\n",
    "$$\\frac{d\\bar{r}}{d\\bar{m}}=\\frac{1}{4\\pi\\bar{\\rho}\\bar{r}^2}\\quad \\longrightarrow \\quad \\frac{1}{d\\bar{r}}=\\frac{4\\pi \\bar{\\rho} \\bar{r}^2}{dm},$$\n",
    "\n",
    "and replacing it in the third we have the system in the form:"
   ]
  },
  {
   "cell_type": "markdown",
   "metadata": {},
   "source": [
    "$$ \\bar{P}=\\bar{P}{\\left(\\bar{\\rho}\\right)}  \\quad  ; \\quad \\bar{\\rho}=\\bar{\\rho}{\\left(\\bar{P}\\right)} $$\n",
    "\n",
    "$$ \\frac{d\\bar{P}}{d\\bar{m}} = -\\frac{\\left(\\bar{\\rho}+\\bar{P}\\right)}{4\\pi\\bar{r}^2\\bar{\\rho}} \\frac{m+4\\pi\\bar{P}\\bar{r}^2}{r(r-2m)} $$\n",
    "\n",
    "$$ \\frac{d\\bar{r}}{d\\bar{m}}=\\frac{1}{4\\pi\\bar{\\rho}\\bar{r}^2} $$"
   ]
  },
  {
   "cell_type": "markdown",
   "metadata": {},
   "source": [
    "## Solving the system"
   ]
  },
  {
   "cell_type": "code",
   "execution_count": null,
   "metadata": {},
   "outputs": [],
   "source": []
  }
 ],
 "metadata": {
  "kernelspec": {
   "display_name": "Python 3",
   "language": "python",
   "name": "python3"
  },
  "language_info": {
   "codemirror_mode": {
    "name": "ipython",
    "version": 3
   },
   "file_extension": ".py",
   "mimetype": "text/x-python",
   "name": "python",
   "nbconvert_exporter": "python",
   "pygments_lexer": "ipython3",
   "version": "3.6.4"
  }
 },
 "nbformat": 4,
 "nbformat_minor": 2
}
