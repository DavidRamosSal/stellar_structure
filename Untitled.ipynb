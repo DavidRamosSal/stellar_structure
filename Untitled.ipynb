{
 "cells": [
  {
   "cell_type": "code",
   "execution_count": 12,
   "metadata": {},
   "outputs": [],
   "source": [
    "import os"
   ]
  },
  {
   "cell_type": "code",
   "execution_count": 13,
   "metadata": {},
   "outputs": [],
   "source": [
    "owd=os.getcwd()\n",
    "path=os.chdir('EOS')\n",
    "EOSlist=[]\n",
    "with os.scandir(path) as listOfEntries:\n",
    "    for entry in listOfEntries:\n",
    "        if entry.path.endswith('dat'):\n",
    "            EOSlist.append(entry.name)\n",
    "os.chdir(owd)"
   ]
  },
  {
   "cell_type": "code",
   "execution_count": 14,
   "metadata": {},
   "outputs": [
    {
     "data": {
      "text/plain": [
       "['wff3.dat',\n",
       " 'ms1b.dat',\n",
       " 'fps.dat',\n",
       " 'eng.dat',\n",
       " 'wff2.dat',\n",
       " 'nl3.dat',\n",
       " 'pal6.dat',\n",
       " 'mpa1.dat',\n",
       " 'gs1.dat',\n",
       " 'ps.dat',\n",
       " 'H4.dat',\n",
       " 'ap4.dat',\n",
       " 'sqm1.dat',\n",
       " 'alf2.dat',\n",
       " 'H5.dat',\n",
       " 'H3.dat',\n",
       " 'ap1.dat',\n",
       " 'H7.dat',\n",
       " 'H2.dat',\n",
       " 'alf3.dat',\n",
       " 'sly.dat',\n",
       " 'bgn1h1.dat',\n",
       " 'ap2.dat',\n",
       " 'bpal12.dat',\n",
       " 'gnh3.dat',\n",
       " 'bsk20.dat',\n",
       " 'bbb2.dat',\n",
       " 'qmc700.dat',\n",
       " 'alf4.dat',\n",
       " 'sqm2.dat',\n",
       " 'H1.dat',\n",
       " 'ap3.dat',\n",
       " 'pcl2.dat',\n",
       " 'ms2.dat',\n",
       " 'sqm3.dat',\n",
       " 'alf1.dat',\n",
       " 'H6.dat',\n",
       " 'gs2.dat',\n",
       " 'wff1.dat',\n",
       " 'bsk19.dat',\n",
       " 'ms1.dat',\n",
       " 'bsk21.dat']"
      ]
     },
     "execution_count": 14,
     "metadata": {},
     "output_type": "execute_result"
    }
   ],
   "source": [
    "EOSlist"
   ]
  },
  {
   "cell_type": "code",
   "execution_count": 15,
   "metadata": {},
   "outputs": [
    {
     "data": {
      "text/plain": [
       "'wff3'"
      ]
     },
     "execution_count": 15,
     "metadata": {},
     "output_type": "execute_result"
    }
   ],
   "source": [
    "EOSlist[0][:-4]"
   ]
  },
  {
   "cell_type": "code",
   "execution_count": 16,
   "metadata": {},
   "outputs": [],
   "source": [
    "os.mkdir('results/'+EOSlist[0][:-4])"
   ]
  },
  {
   "cell_type": "code",
   "execution_count": 1,
   "metadata": {},
   "outputs": [],
   "source": [
    "import Physical_Const as phys\n",
    "c=phys.c"
   ]
  },
  {
   "cell_type": "code",
   "execution_count": 7,
   "metadata": {},
   "outputs": [],
   "source": [
    "f=open('tryone.dat','w+')\n",
    "f.write(str(c)+'\\t'+str(c)+'\\t'+'\\n')\n",
    "f.write(str(c)+'\\t'+str(c)+'\\t'+'\\n')\n",
    "a=22\n",
    "f.close()"
   ]
  },
  {
   "cell_type": "code",
   "execution_count": 8,
   "metadata": {},
   "outputs": [
    {
     "data": {
      "text/plain": [
       "22"
      ]
     },
     "execution_count": 8,
     "metadata": {},
     "output_type": "execute_result"
    }
   ],
   "source": [
    "a"
   ]
  },
  {
   "cell_type": "code",
   "execution_count": 10,
   "metadata": {},
   "outputs": [],
   "source": [
    "import numpy as np\n",
    "A=np.arange(2,4,0.3)"
   ]
  },
  {
   "cell_type": "code",
   "execution_count": 11,
   "metadata": {},
   "outputs": [
    {
     "name": "stdout",
     "output_type": "stream",
     "text": [
      "1.0\n",
      "1.15\n",
      "1.2999999999999998\n",
      "1.4499999999999997\n",
      "1.5999999999999996\n",
      "1.7499999999999996\n",
      "1.8999999999999995\n"
     ]
    }
   ],
   "source": [
    "for a in A/2.0:\n",
    "    print(a)"
   ]
  },
  {
   "cell_type": "code",
   "execution_count": null,
   "metadata": {},
   "outputs": [],
   "source": []
  }
 ],
 "metadata": {
  "kernelspec": {
   "display_name": "Python 3",
   "language": "python",
   "name": "python3"
  },
  "language_info": {
   "codemirror_mode": {
    "name": "ipython",
    "version": 3
   },
   "file_extension": ".py",
   "mimetype": "text/x-python",
   "name": "python",
   "nbconvert_exporter": "python",
   "pygments_lexer": "ipython3",
   "version": "3.7.1"
  }
 },
 "nbformat": 4,
 "nbformat_minor": 2
}
