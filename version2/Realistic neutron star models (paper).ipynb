{
 "cells": [
  {
   "cell_type": "markdown",
   "metadata": {},
   "source": [
    "# Anisotropic models"
   ]
  },
  {
   "cell_type": "markdown",
   "metadata": {},
   "source": [
    "If the energy-momentum tensor for the matter of the start is modified by \n",
    "\n",
    "$$ T_\\mu^\\nu = \\mbox{diag}\\left[\\rho(r),-P(r),-P_\\perp(r),-P_\\perp(r)  \\right] ,$$\n",
    "the Einstein equations for the physical variables become\n",
    "\n",
    "$$ \\rho(r)= \\frac{ {\\rm e}^{-2\\lambda}\\left(2 r \\lambda^{\\prime}-1\\right)+1 }{8\\pi r^{2}}, $$\n",
    "$$ P(r) =  \\frac {{{\\rm e}^{-2\\,\\lambda}}\\left(2r \\,\\nu^{\\prime} +1\\right) -1}{8 \\pi\\,{r}^{2}}, $$\n",
    "$$ P_\\perp(r) =-\\frac{{\\rm e}^{-2\\lambda}}{8\\pi}\\left[ \\frac{\\lambda^{\\prime}-\\nu^{\\prime}}r-\\nu^{\\prime \\prime }+\\nu^{\\prime}\\lambda^{\\prime}-\\left(\\nu^{\\prime}\\right)^2\\right]. $$"
   ]
  },
  {
   "cell_type": "markdown",
   "metadata": {},
   "source": [
    "If we propose that the anistropy modifies the density as $\\rho=\\alpha \\rho_{\\text{iso}}$ and that modification is entirely due to the tangential pressure so that $P_r=P_{\\text{iso}}$, one can re arrange the system to find $\\lambda$,  $\\nu$ and $P_{\\perp}$:\n",
    "$$ \\lambda^{\\prime} = \\frac{1}{2r}\\left[ e^{2\\lambda}\\left( 8 \\pi \\alpha r^2 \\rho_{\\text{iso}} -1 \\right) +1 \\right], $$\n",
    "$$ \\nu^{\\prime} = \\frac{1}{2r}\\left[ e^{2\\lambda}\\left( 8 \\pi r^2 P_{\\text{iso}} +1 \\right) -1 \\right], $$\n",
    "$$  P_\\perp(r) =-\\frac{{\\rm e}^{-2\\lambda}}{8\\pi}\\left[ \\frac{\\lambda^{\\prime}-\\nu^{\\prime}}r-\\nu^{\\prime \\prime }+\\nu^{\\prime}\\lambda^{\\prime}-\\left(\\nu^{\\prime}\\right)^2\\right]. $$\n",
    "This system can be solved if we write $\\nu^{\\prime\\prime}$ using a backward finite difference:\n",
    "\n",
    "$$ \\nu^{\\prime\\prime} = \\frac{\\nu^{\\prime}(r)-\\nu^{\\prime}(r-\\Delta{r})}{\\Delta{r}}. $$"
   ]
  },
  {
   "cell_type": "markdown",
   "metadata": {},
   "source": [
    "To deal with the aparent singularity of the metric functions in the center one can use a series expansion to first order of $e^{2\\lambda}$ around $r=0$ \n",
    "$$ e^{2\\lambda} = \\left( 1 - \\frac{2m}{r} \\right)^{-1} \\approx \\left( 1 - \\frac{8}{3} \\alpha \\pi r^2 \\rho_c \\right)^{-1} \\approx 1 + \\frac{8}{3} \\alpha \\pi r^2 \\rho_c, $$\n",
    "where it was used $m \\approx \\frac{4}{3}\\alpha\\pi \\rho_{c} r^3 $ close to $r=0$.\n",
    "\n",
    "With this result the system can be re-written close to the center as\n",
    "\n",
    "$$ \\lambda^{\\prime} = 4\\alpha\\pi r \\rho_{c} + \\frac{32}{3} \\alpha^2 \\pi^2 r^3 \\rho_c ^2 - \\frac{4}{3} \\alpha \\pi r \\rho_c ,$$\n",
    "$$ \\nu^{\\prime} = 4\\pi r P_{c} + \\frac{32}{3} \\alpha \\pi^2 r^3 \\rho_c P_c + \\frac{4}{3} \\alpha r \\pi \\rho_c ,$$\n",
    "$$ P_{\\perp} = -\\frac{1}{8\\pi} \\left( 1 - \\frac{8}{3} \\alpha \\pi r^2 \\rho_c \\right) \\left[ 4 \\pi (\\alpha\\rho_c - P_c) + \\frac{32}{3}\\alpha \\pi^2 r^2 \\rho_c(\\alpha\\rho_c - P_c) - \\frac{8}{3} \\alpha \\pi \\rho_c -\\nu^{\\prime \\prime }+\\nu^{\\prime}\\lambda^{\\prime}-\\left(\\nu^{\\prime}\\right)^2 \\right] .$$"
   ]
  },
  {
   "cell_type": "code",
   "execution_count": 1,
   "metadata": {},
   "outputs": [],
   "source": [
    "import numpy as np\n",
    "import matplotlib.pyplot as plt\n",
    "from scipy import integrate, interpolate\n",
    "import math"
   ]
  },
  {
   "cell_type": "code",
   "execution_count": 2,
   "metadata": {},
   "outputs": [
    {
     "name": "stdout",
     "output_type": "stream",
     "text": [
      "2.220446049250313e-16\n"
     ]
    }
   ],
   "source": [
    "epsilon = np.finfo(float).eps\n",
    "print(epsilon)"
   ]
  },
  {
   "cell_type": "code",
   "execution_count": 3,
   "metadata": {},
   "outputs": [],
   "source": [
    "import Physical_Const as phys\n",
    "h=phys.h \n",
    "c=phys.c\n",
    "G=phys.G\n",
    "Msun=phys.Msun\n",
    "mn=phys.mn # Neutron mass\n",
    "\n",
    "\n",
    "rhodim=mn**4.0*c**3.0/(8.0*np.pi**2*(h/(2.0*np.pi))**3.0) #Dimensions of energy density\n",
    "rdim=c/np.sqrt(rhodim*G) # Dimensions of radius\n",
    "mdim=rdim*c**2.0/G # Dimensions of mass\n",
    "Pdim=rhodim*c**2 # Dimensions of pressure"
   ]
  },
  {
   "cell_type": "code",
   "execution_count": 17,
   "metadata": {},
   "outputs": [],
   "source": [
    "SLy145=np.loadtxt('results2/sly/15.0.dat',unpack=True)\n",
    "rhoiso=SLy145[2]\n",
    "Piso=SLy145[1]\n",
    "riso=SLy145[-1]\n",
    "alpha=1.1\n",
    "\n",
    "def pisosly(r):\n",
    "    P=interpolate.interp1d(riso,Piso)\n",
    "    return P(r)\n",
    "def rhoisosly(r):\n",
    "    rho=interpolate.interp1d(riso,rhoiso)\n",
    "    return rho(r)"
   ]
  },
  {
   "cell_type": "code",
   "execution_count": 18,
   "metadata": {},
   "outputs": [
    {
     "data": {
      "text/plain": [
       "0.43843658778"
      ]
     },
     "execution_count": 18,
     "metadata": {},
     "output_type": "execute_result"
    }
   ],
   "source": [
    "rhoiso[0]"
   ]
  },
  {
   "cell_type": "code",
   "execution_count": 39,
   "metadata": {},
   "outputs": [],
   "source": [
    "def RK4(f, r, y, dr,rho_iso,P_iso,r_iso):\n",
    "    \"\"\"Propagates the solver one step further. Takes as inputs the RHS of the system f, the current location r,\n",
    "    the current value of the variables y, and the stepsize. Returns the value of the variables in location r+dr.\"\"\"\n",
    "    k1,l1 = f(r,y)\n",
    "    \n",
    "    k2,l2 = f(r+0.5*dr,[y[0]+0.5*dr*k1,y[1]+0.5*dr*l1])   \n",
    "    \n",
    "    k3,l3 = f(r+0.5*dr,[y[0]+0.5*dr*k2,y[1]+0.5*dr*l2])\n",
    "    \n",
    "    k4,l4 = f(r+dr,[y[0]+dr*k3,y[1]+dr*l3])\n",
    "    \n",
    "    k=(dr/6)*(k1+2.0*k2+2.0*k3+k4)\n",
    "    l=(dr/6)*(l1+2.0*l2+2.0*l3+l4)\n",
    "    \n",
    "    dlambdanew, dnunew = f(r+dr,[y[0]+k,y[1]+l])\n",
    "    \n",
    "    if (1.0-rho_iso(r)/rho_iso(r_iso[0])) < 10000000*epsilon :\n",
    "        pt = - (1/(8*np.pi))*(1 - (8/3)*alpha*np.pi*(r**2)*rho_iso(r_iso[0]))*(4*np.pi*(alpha*rho_iso(r_iso[0])-P_iso(r_iso[0]))+(32/3)*(alpha)*(np.pi**2)*(r**2)*rho_iso(r_iso[0])*(alpha*rho_iso(r_iso[0])-P_iso(r_iso[0]))-(8/3)*alpha*np.pi*rho_iso(r_iso[0])-(dnunew-l1)/dr + dnunew*dlambdanew - dnunew**2)\n",
    "        print('Cool2')\n",
    "    else: \n",
    "        pt = - (np.exp(-2*(y[0]+k))/(8*np.pi))*(((dlambdanew)-dnunew)/r-(dnunew-l1)/dr + dnunew*dlambdanew - dnunew**2)\n",
    "    \n",
    "    return [[y[0]+k,y[1]+l],pt]"
   ]
  },
  {
   "cell_type": "code",
   "execution_count": 40,
   "metadata": {},
   "outputs": [],
   "source": [
    "def static_anisotropic(rho_iso,P_iso,r_iso):\n",
    "    def TOVa(r,y):\n",
    "        lambdas, nus = y\n",
    "        if (1.0-rho_iso(r)/rho_iso(r_iso[0])) < 10000000*epsilon :\n",
    "            dlambda=4*alpha*np.pi*r*rho_iso(r_iso[0]) + (32/3)*(alpha**2)*(np.pi**2)*(r**3)*(rho_iso(r_iso[0]))**2 - (4/3)*alpha*np.pi*r*rho_iso(r_iso[0])\n",
    "            dnu=4*np.pi*r*P_iso(r_iso[0]) + (32/3)*(alpha)*(np.pi**2)*(r**3)*(rho_iso(r_iso[0])*P_iso(r_iso[0])) + (4/3)*alpha*np.pi*r*P_iso(r_iso[0])\n",
    "            print('Cool1')\n",
    "        else:\n",
    "            dlambda = (1/(2*r))*(np.exp(2*lambdas)*(8*np.pi*alpha*r**2*rho_iso(r)-1)+1)\n",
    "            dnu = (1/(2*r))*(np.exp(2*lambdas)*(8*np.pi*alpha*r**2*P_iso(r)+1)-1)\n",
    "        return np.array([dlambda,dnu])\n",
    "    ls=[]; nuns=[]; pts=[]\n",
    "    y=np.array([0.0,0.0]) \n",
    "    ls.append(0.0); nuns.append(0.0); pts.append(P_iso(r_iso[0]))\n",
    "    for i in range(len(r_iso)-1):\n",
    "        r=r_iso[i]\n",
    "        dr=r_iso[i+1]-r_iso[i]\n",
    "        #print(dr,r)\n",
    "        y, pt=RK4(TOVa,r,np.array(y),dr,rho_iso,P_iso,r_iso)\n",
    "        ls.append(y[0]); nuns.append(y[1]); pts.append(pt)\n",
    "    return np.array([ls,nuns,pts])"
   ]
  },
  {
   "cell_type": "code",
   "execution_count": 41,
   "metadata": {
    "scrolled": false
   },
   "outputs": [
    {
     "name": "stdout",
     "output_type": "stream",
     "text": [
      "Cool1\n",
      "Cool2\n"
     ]
    }
   ],
   "source": [
    "lsa, nunsa, pt = static_anisotropic(rhoisosly,pisosly,riso)"
   ]
  },
  {
   "cell_type": "code",
   "execution_count": 42,
   "metadata": {},
   "outputs": [],
   "source": [
    "plt.rc('text', usetex=True)\n",
    "plt.rc('font', family='serif')\n",
    "plt.rc('axes', labelsize=21)\n",
    "plt.rc('xtick', labelsize=14)\n",
    "plt.rc('ytick', labelsize=14)\n",
    "plt.rc('legend',fontsize= 14,markerscale=1.5)\n",
    "plt.rcParams['axes.spines.right'] = True\n",
    "plt.rcParams['axes.spines.top'] = True"
   ]
  },
  {
   "cell_type": "code",
   "execution_count": 43,
   "metadata": {},
   "outputs": [
    {
     "data": {
      "text/plain": [
       "Text(0, 0.5, '$ P_{t}/P_{c} $')"
      ]
     },
     "execution_count": 43,
     "metadata": {},
     "output_type": "execute_result"
    },
    {
     "data": {
      "image/png": "[encoded data removed]",
      "text/plain": [
       "<Figure size 432x288 with 1 Axes>"
      ]
     },
     "metadata": {
      "needs_background": "light"
     },
     "output_type": "display_data"
    }
   ],
   "source": [
    "#plt.plot(1,3,1)\n",
    "plt.plot(riso/riso[-1],pt/pt[0])\n",
    "plt.xlim(0,1)\n",
    "plt.xlabel(r'$ r / R$ ')\n",
    "plt.ylabel(r'$ P_{t}/P_{c} $')"
   ]
  },
  {
   "cell_type": "code",
   "execution_count": 30,
   "metadata": {
    "scrolled": true
   },
   "outputs": [
    {
     "data": {
      "image/png": "[encoded data removed]",
      "text/plain": [
       "<Figure size 1080x288 with 3 Axes>"
      ]
     },
     "metadata": {
      "needs_background": "light"
     },
     "output_type": "display_data"
    }
   ],
   "source": [
    "fig= plt.figure(figsize=[15,4])\n",
    "\n",
    "fig.tight_layout()\n",
    "fig.subplots_adjust(hspace=1,wspace=0.15)\n",
    "\n",
    "                    \n",
    "plt.subplot(1,3,1)\n",
    "plt.plot(riso/riso[-1],pt/pt[0])\n",
    "plt.xlabel(r'$ r / R$ ')\n",
    "plt.ylabel(r'$ P_{t}/P_{c} $')\n",
    "\n",
    "plt.subplot(1,3,2)\n",
    "plt.plot(riso/riso[-1],Piso/Piso[0])\n",
    "plt.xlabel(r'$ r / R$ ')\n",
    "plt.ylabel(r'$ P_{r}/P_{c} $')\n",
    "\n",
    "\n",
    "plt.subplot(1,3,3)\n",
    "plt.plot(riso/riso[-1],rhoiso/rhoiso[0],label=\"Anisotropic\")\n",
    "plt.plot(riso/riso[-1],rhoiso/rhoiso[0]*(1/alpha),label=\"Isotropic\")\n",
    "plt.xlabel(r'$ r / R$ ')\n",
    "plt.ylabel(r'$ \\rho/\\rho_c $')\n",
    "plt.legend()\n",
    "\n",
    "plt.savefig('figures/ALF1Anis.pdf', format='pdf', dpi=1000,bbox_inches=\"tight\")\n",
    "\n",
    "plt.show()\n"
   ]
  },
  {
   "cell_type": "code",
   "execution_count": null,
   "metadata": {},
   "outputs": [],
   "source": []
  }
 ],
 "metadata": {
  "kernelspec": {
   "display_name": "Python 3",
   "language": "python",
   "name": "python3"
  },
  "language_info": {
   "codemirror_mode": {
    "name": "ipython",
    "version": 3
   },
   "file_extension": ".py",
   "mimetype": "text/x-python",
   "name": "python",
   "nbconvert_exporter": "python",
   "pygments_lexer": "ipython3",
   "version": "3.7.3"
  }
 },
 "nbformat": 4,
 "nbformat_minor": 2
}
