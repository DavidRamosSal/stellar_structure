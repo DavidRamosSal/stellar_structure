{
 "cells": [
  {
   "cell_type": "markdown",
   "metadata": {},
   "source": [
    "The TOV equations are written in an Eulerian description: $m$ is the mass of a mass element at position $r$, for every r, that is, m is a scalar field. An analogous way of looking at the problem is to follow a mass element with mass $m$ to every location $r$, making $m$ the independent coordinate and the radial coordinate $r$ a scalar field $r(m).$"
   ]
  },
  {
   "cell_type": "markdown",
   "metadata": {},
   "source": [
    "Using the fact that  $$\\frac{d\\bar{r}}{d\\bar{m}}=\\frac{1}{4\\pi\\bar{\\rho}\\bar{r}^2}\\quad \\longrightarrow \\quad \\frac{1}{d\\bar{r}}=\\frac{4\\pi \\bar{\\rho} \\bar{r}^2}{d\\bar{m}},$$"
   ]
  },
  {
   "cell_type": "markdown",
   "metadata": {},
   "source": [
    "the system"
   ]
  },
  {
   "cell_type": "markdown",
   "metadata": {},
   "source": [
    "$$ \\bar{P}=\\bar{P}(\\bar{\\rho}), $$\n",
    "$$ \\frac{d\\bar{m}}{\\bar{dr}}=4\\pi \\bar{\\rho} \\bar{r}^2 , $$\n",
    "$$ \\frac{d\\bar{P}}{d\\bar{r}}=-(\\bar{\\rho}+\\bar{P})\\frac{\\bar{m}+4\\pi \\bar{r}^3 \\bar{P}}{\\bar{r}(\\bar{r}-2\\bar{m})}, $$\n",
    "$$ \\frac{d\\nu}{d\\bar{r}}=-\\frac{1}{\\bar{\\rho}+\\bar{P}}\\frac{d\\bar{P}}{d\\bar{r}}. $$"
   ]
  },
  {
   "cell_type": "markdown",
   "metadata": {},
   "source": [
    "becomes\n",
    "$$ \\bar{P}=\\bar{P}{\\left(\\bar{\\rho}\\right)},$$\n",
    "$$ \\frac{d\\bar{r}}{d\\bar{m}}=\\frac{1}{4\\pi\\bar{\\rho}\\bar{r}^2}, $$\n",
    "$$ \\frac{d\\bar{P}}{d\\bar{m}} = -\\frac{\\left(\\bar{\\rho}+\\bar{P}\\right)}{4\\pi\\bar{r}^3\\bar{\\rho}} \\frac{\\bar{m}+4\\pi\\bar{P}\\bar{r}^3}{(\\bar{r}-2\\bar{m})}, $$\n",
    "$$ \\frac{d\\nu}{d\\bar{m}}=-\\frac{1}{\\bar{\\rho}+\\bar{P}}\\frac{d\\bar{P}}{d\\bar{m}}. $$"
   ]
  },
  {
   "cell_type": "markdown",
   "metadata": {},
   "source": [
    "# Solving the system"
   ]
  },
  {
   "cell_type": "code",
   "execution_count": 1,
   "metadata": {},
   "outputs": [],
   "source": [
    "import numpy as np\n",
    "import matplotlib.pyplot as plt\n",
    "from scipy import integrate\n",
    "from scipy import interpolate"
   ]
  },
  {
   "cell_type": "code",
   "execution_count": 2,
   "metadata": {},
   "outputs": [],
   "source": [
    "import Physical_Const as phys\n",
    "h=phys.h \n",
    "c=phys.c\n",
    "G=phys.G\n",
    "Msun=phys.Msun\n",
    "mn=phys.mn # Neutron mass\n",
    "\n",
    "\n",
    "rhodim=mn**4.0*c**3.0/(8.0*np.pi**2*(h/(2.0*np.pi))**3.0) #Dimensions of energy density\n",
    "rdim=c/np.sqrt(rhodim*G) # Dimensions of radius\n",
    "mdim=rdim*c**2.0/G # Dimensions of mass\n",
    "Pdim=rhodim*c**2 # Dimensions of pressure"
   ]
  },
  {
   "cell_type": "code",
   "execution_count": 3,
   "metadata": {},
   "outputs": [],
   "source": [
    "rhoNL3,PNL3=np.loadtxt('EOS/EOSFull_NL3_BPS02.dat',usecols=(0,1),unpack=True) #Only EOS not included in the website\n",
    "def P_NL3(rho):\n",
    "    logP=interpolate.interp1d(np.log10(rhoNL3/rhodim),np.log10(PNL3/Pdim))\n",
    "    return 10.0**logP(np.log10(rho))\n",
    "def rho_NL3(P):\n",
    "    logrho=interpolate.interp1d(np.log10(PNL3/Pdim),np.log10(rhoNL3/rhodim))\n",
    "    return 10.0**logrho(np.log10(P))\n",
    "\n",
    "rhoSLy,PSLy=np.loadtxt('EOS/sly.dat',usecols=(2,1),unpack=True)\n",
    "def P_SLy(rho):\n",
    "    logP=interpolate.interp1d(np.log10(rhoSLy/rhodim),np.log10((PSLy*c**2)/Pdim))\n",
    "    return 10.0**logP(np.log10(rho))\n",
    "def rho_SLy(P):\n",
    "    logrho=interpolate.interp1d(np.log10((PSLy*c**2)/Pdim),np.log10(rhoSLy/rhodim))\n",
    "    return 10.0**logrho(np.log10(P))\n",
    "\n",
    "rhoBSK19,PBSK19=np.loadtxt('EOS/bsk19.dat',usecols=(1,2),unpack=True) #This family of EOS (BSK##) has the column order inverted\n",
    "def P_BSK19(rho):\n",
    "    logP=interpolate.interp1d(np.log10(rhoBSK19/rhodim),np.log10((PBSK19*c**2)/Pdim))\n",
    "    return 10.0**logP(np.log10(rho))\n",
    "def rho_BSK19(P):\n",
    "    logrho=interpolate.interp1d(np.log10((PBSK19*c**2)/Pdim),np.log10(rhoBSK19/rhodim))\n",
    "    return 10.0**logrho(np.log10(P))\n",
    "\n",
    "rhoBSK20,PBSK20=np.loadtxt('EOS/bsk20.dat',usecols=(1,2),unpack=True)\n",
    "def P_BSK20(rho):\n",
    "    logP=interpolate.interp1d(np.log10(rhoBSK20/rhodim),np.log10((PBSK20*c**2)/Pdim))\n",
    "    return 10.0**logP(np.log10(rho))\n",
    "def rho_BSK20(P):\n",
    "    logrho=interpolate.interp1d(np.log10((PBSK20*c**2)/Pdim),np.log10(rhoBSK20/rhodim))\n",
    "    return 10.0**logrho(np.log10(P))\n",
    "\n",
    "rhoALF1,PALF1=np.loadtxt('EOS/alf1.dat',usecols=(2,1),unpack=True)\n",
    "def P_ALF1(rho):\n",
    "    logP=interpolate.interp1d(np.log10(rhoALF1/rhodim),np.log10((PALF1*c**2)/Pdim))\n",
    "    return 10.0**logP(np.log10(rho))\n",
    "def rho_ALF1(P):\n",
    "    logrho=interpolate.interp1d(np.log10((PALF1*c**2)/Pdim),np.log10((rhoALF1/rhodim)))\n",
    "    return 10.0**logrho(np.log10(P))\n",
    "\n",
    "rhoH1,PH1=np.loadtxt('EOS/H1.dat',usecols=(2,1),unpack=True)\n",
    "def P_H1(rho):\n",
    "    logP=interpolate.interp1d(np.log10(rhoH1/rhodim),np.log10((PH1*c**2)/Pdim))\n",
    "    return 10.0**logP(np.log10(rho))\n",
    "def rho_H1(P):\n",
    "    logrho=interpolate.interp1d(np.log10((PH1*c**2)/Pdim),np.log10(rhoH1/rhodim))\n",
    "    return 10.0**logrho(np.log10(P))"
   ]
  },
  {
   "cell_type": "markdown",
   "metadata": {},
   "source": [
    "In standard notation the system of ODEs can be written\n",
    "$$ \\frac{dy^{i}}{dr} = f^{i}(r,y^i). $$\n",
    "Where $y=(r,P,\\nu)$ and $f$ is the right hand side of the system."
   ]
  },
  {
   "cell_type": "code",
   "execution_count": 4,
   "metadata": {},
   "outputs": [],
   "source": [
    "def RK4Step(f, r, y, dr):\n",
    "    \"\"\"Propagates the solver one step further. Takes as inputs the RHS of the system f, the current location r,\n",
    "    the current value of the variables y, and the stepsize. Returns the value of the variables in location r+dr.\"\"\"\n",
    "    k1,l1,n1 = f(r,y)\n",
    "    \n",
    "    k2,l2,n2 = f(r+0.5*dr,[y[0]+0.5*dr*k1,y[1]+0.5*dr*l1,y[2]+0.5*dr*n1])   \n",
    "    \n",
    "    k3,l3,n3 = f(r+0.5*dr,[y[0]+0.5*dr*k2,y[1]+0.5*dr*l2,y[2]+0.5*dr*n2])\n",
    "    \n",
    "    k4,l4,n4 = f(r+dr,[y[0]+dr*k3,y[1]+dr*l3,y[2]+dr*n3])\n",
    "    \n",
    "    k=(dr/6)*(k1+2.0*k2+2.0*k3+k4)\n",
    "    l=(dr/6)*(l1+2.0*l2+2.0*l3+l4)\n",
    "    n=(dr/6)*(n1+2.0*n2+2.0*n3+n4)\n",
    "    \n",
    "    return [y[0]+k,y[1]+l,y[2]+n]"
   ]
  },
  {
   "cell_type": "markdown",
   "metadata": {},
   "source": [
    "Analogous to the radial step, one can define"
   ]
  },
  {
   "cell_type": "markdown",
   "metadata": {},
   "source": [
    "$$  \\Delta{m} = \\delta \\left( \\frac { 1 } { r } \\frac { \\mathop{dr} } { \\mathop{dm}  } - \\frac { 1 } { P } \\frac { \\mathop{dP}  } { \\mathop{dm} } \\right) ^ { - 1 }. $$\n"
   ]
  },
  {
   "cell_type": "code",
   "execution_count": 5,
   "metadata": {},
   "outputs": [],
   "source": [
    "delta=0.1\n",
    "def stepsize(y,dy):\n",
    "    \"\"\"Adaptive stepsize. It takes the current value of the variables and it's gradients. The parameter delta is defined externally.\"\"\"\n",
    "    return delta*((1/y[0])*dy[0]-(1/y[1])*dy[1])**(-1)"
   ]
  },
  {
   "cell_type": "code",
   "execution_count": 6,
   "metadata": {},
   "outputs": [],
   "source": [
    "def staticL(y0,m0,dm0,rhoEoS):\n",
    "    \"\"\"Builds a neutron star model from the initial values y0 and an interpolated EOS. The solver will start\n",
    "    in m0 with an arbitrary stepsize dm0 and will stop when the energy density is less than 20 g/cm^3 or the\n",
    "    pressure becomes negative. Returns the radious, pressure, density and nu profiles as functions of m.\"\"\"\n",
    "    def TOV(m,y):\n",
    "        rns, pns, nuns= y\n",
    "        drdm=1.0/(4.0*np.pi*(rns**2.0)*rhoEoS(pns))\n",
    "        dpdm=-((pns+rhoEoS(pns))*(m+4.0*np.pi*pns*(rns**3.0)))/(4.0*np.pi*rhoEoS(pns)*(rns**3.0)*(rns-2.0*m))\n",
    "        dnudm=-dpdm/(pns+rhoEoS(pns))\n",
    "        return [drdm,dpdm,dnudm]\n",
    "    \n",
    "    rs=[]; ps=[]; rhos=[]; nus=[]; ms=[]  # creating lists to save the solution  \n",
    "    rs.append(y0[0]); ps.append(y0[1]); rhos.append(rhoEoS(y0[1])); nus.append(y0[2]); ms.append(m0) \n",
    "    y=RK4Step(TOV,m0,y0,dm0) # first step taken arbitrary (dr0)  \n",
    "    m=m0+dm0 \n",
    "    rs.append(y[0]); ps.append(y[1]); rhos.append(rhoEoS(y[1])); nus.append(y[2]); ms.append(m) \n",
    "    while rhoEoS(y[1])*rhodim > 2e+1 and y[1] > 0.0: # Taking 20 g/cm^3 as the limiting density if the pressure hasn't changed sign\n",
    "        dm=stepsize(y,TOV(m,y))\n",
    "        y=RK4Step(TOV,m,y,dm)\n",
    "        m=m+dm\n",
    "        rs.append(y[0]); ps.append(y[1]); rhos.append(rhoEoS(y[1])); nus.append(y[2]); ms.append(m) \n",
    "    return np.array([rs,ps,rhos,nus,ms])"
   ]
  },
  {
   "cell_type": "code",
   "execution_count": 7,
   "metadata": {},
   "outputs": [],
   "source": [
    "m0=0\n",
    "dm0=1e-10\n",
    "rho0=10.0**15.61\n",
    "r0=1e-4\n",
    "nu0=0"
   ]
  },
  {
   "cell_type": "code",
   "execution_count": 8,
   "metadata": {},
   "outputs": [],
   "source": [
    "r,p,rho,nu,m = staticL([r0,P_NL3(rho0/rhodim),nu0],m0,dm0,rho_NL3)"
   ]
  },
  {
   "cell_type": "code",
   "execution_count": 11,
   "metadata": {},
   "outputs": [
    {
     "data": {
      "text/plain": [
       "0.4829530178166299"
      ]
     },
     "execution_count": 11,
     "metadata": {},
     "output_type": "execute_result"
    }
   ],
   "source": [
    "r[-1]"
   ]
  },
  {
   "cell_type": "code",
   "execution_count": 9,
   "metadata": {},
   "outputs": [],
   "source": [
    "k=5 #spline order kmax=5\n",
    "s=1e-5 #smooth factor\n",
    "rhos=interpolate.UnivariateSpline(r, rho, k=k, s=s)\n",
    "drho=interpolate.UnivariateSpline(r, rho, k=k, s=s).derivative(n=1)\n",
    "ddrho=interpolate.UnivariateSpline(r, rho, k=k, s=s).derivative(n=2)\n",
    "\n",
    "ps=interpolate.UnivariateSpline(r, p, k=k, s=s)\n",
    "dp=interpolate.UnivariateSpline(r, p, k=k, s=s).derivative(n=1)\n",
    "ddp=interpolate.UnivariateSpline(r, p, k=k, s=s).derivative(n=2)"
   ]
  },
  {
   "cell_type": "code",
   "execution_count": 10,
   "metadata": {},
   "outputs": [
    {
     "data": {
      "image/png": "[encoded data removed]",
      "text/plain": [
       "<Figure size 921.6x576 with 6 Axes>"
      ]
     },
     "metadata": {
      "needs_background": "light"
     },
     "output_type": "display_data"
    },
    {
     "data": {
      "text/plain": [
       "<Figure size 432x288 with 0 Axes>"
      ]
     },
     "metadata": {},
     "output_type": "display_data"
    }
   ],
   "source": [
    "plt.rc('axes', labelsize=20)\n",
    "plt.rc('xtick', labelsize=8)\n",
    "plt.rc('ytick', labelsize=8)\n",
    "\n",
    "fig=plt.figure(figsize=[12.8,8])\n",
    "\n",
    "plt.subplot(321)\n",
    "plt.plot(r/(r[-1]),rho/abs(rho[0]),color='red',marker='o',markersize='0.4') \n",
    "plt.plot(r/(r[-1]),rhos(r)/abs(rho[0]),color='blue',linewidth='0.5') \n",
    "plt.ylabel(r'$\\rho/\\rho_c$')\n",
    "plt.xlim(0,0.8) # leaving the crust out \n",
    "\n",
    "plt.subplot(322)\n",
    "plt.plot(r/(r[-1]),p/abs(p[0]),color='red',marker='o',markersize='0.4') \n",
    "plt.plot(r/(r[-1]),ps(r)/abs(p[0]),color='blue',linewidth='0.5') \n",
    "plt.ylabel(r'$P/P_c$')\n",
    "plt.xlim(0,0.8)\n",
    "\n",
    "plt.subplot(323)\n",
    "plt.plot(r/(r[-1]),drho(r)/abs(drho(r)[0]),'b-', linewidth=0.5) \n",
    "plt.ylabel(r'$\\rho^{\\prime}/\\rho^{\\prime}_{c} $')\n",
    "plt.xlim(0,0.8)\n",
    "\n",
    "plt.subplot(324)\n",
    "plt.plot(r/(r[-1]),dp(r)/abs(drho(r)[0]),'b-', linewidth=0.5) \n",
    "plt.ylabel(r'$P^{\\prime}/P^{\\prime}_{c} $')\n",
    "plt.xlim(0,0.8)\n",
    "\n",
    "plt.subplot(325)\n",
    "plt.plot(r/(r[-1]),ddrho(r)/abs(ddrho(r)[0]),'b-', linewidth=0.5) \n",
    "plt.ylabel(r'$\\rho^{\\prime\\prime}/\\rho^{\\prime\\prime}_{c}$')\n",
    "plt.xlabel(r'$r/R$')\n",
    "plt.xlim(0,0.8)\n",
    "plt.ylim(-1,1)\n",
    "\n",
    "plt.subplot(326)\n",
    "plt.plot(r/(r[-1]),ddp(r)/abs(ddrho(r)[0]),'b-', linewidth=0.5) \n",
    "plt.ylabel(r'$P^{\\prime\\prime}/P^{\\prime\\prime}_{c}$ ')\n",
    "plt.xlabel(r'$r/R$')\n",
    "plt.xlim(0,0.8)\n",
    "plt.ylim(-1,1)\n",
    "\n",
    "fig.subplots_adjust(hspace=0.3,wspace=0.3)\n",
    "\n",
    "plt.savefig('figures/ddsSLy(Lagrange).pdf', format='pdf', dpi=1000,bbox_inches=\"tight\")\n",
    "plt.show()\n",
    "plt.clf()"
   ]
  },
  {
   "cell_type": "markdown",
   "metadata": {},
   "source": [
    "The profiles have the same shape but the values are different."
   ]
  },
  {
   "cell_type": "code",
   "execution_count": null,
   "metadata": {},
   "outputs": [],
   "source": []
  }
 ],
 "metadata": {
  "kernelspec": {
   "display_name": "Python 3",
   "language": "python",
   "name": "python3"
  },
  "language_info": {
   "codemirror_mode": {
    "name": "ipython",
    "version": 3
   },
   "file_extension": ".py",
   "mimetype": "text/x-python",
   "name": "python",
   "nbconvert_exporter": "python",
   "pygments_lexer": "ipython3",
   "version": "3.7.3"
  },
  "toc": {
   "base_numbering": 1,
   "nav_menu": {},
   "number_sections": true,
   "sideBar": true,
   "skip_h1_title": false,
   "title_cell": "Table of Contents",
   "title_sidebar": "Contents",
   "toc_cell": false,
   "toc_position": {},
   "toc_section_display": true,
   "toc_window_display": false
  }
 },
 "nbformat": 4,
 "nbformat_minor": 2
}
