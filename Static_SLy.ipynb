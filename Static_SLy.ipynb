{
 "cells": [
  {
   "cell_type": "code",
   "execution_count": 1,
   "metadata": {},
   "outputs": [],
   "source": [
    "import numpy as np\n",
    "import matplotlib.pyplot as plt\n",
    "from scipy import integrate\n",
    "from scipy import interpolate"
   ]
  },
  {
   "cell_type": "markdown",
   "metadata": {},
   "source": [
    "## System of Equations"
   ]
  },
  {
   "cell_type": "markdown",
   "metadata": {},
   "source": [
    "The equations of structure of an compact object with spherical symmetry (neutron stars in our case) is given by (in units where $c=G=1$):"
   ]
  },
  {
   "cell_type": "markdown",
   "metadata": {},
   "source": [
    "$$ P=P(\\rho), $$\n",
    "$$ \\frac{dm}{dr}=4\\pi \\rho r^2 , $$\n",
    "$$ \\frac{dP}{dr}=-(\\rho+P)\\frac{m+4\\pi r^3 P}{r(r-2m)} , $$"
   ]
  },
  {
   "cell_type": "markdown",
   "metadata": {},
   "source": [
    "and if is required"
   ]
  },
  {
   "cell_type": "markdown",
   "metadata": {},
   "source": [
    "\n",
    "$$ \\frac{d\\nu}{dr}= \\frac{m+4\\pi r^3 P}{r(r-2m)} .$$\n"
   ]
  },
  {
   "cell_type": "markdown",
   "metadata": {},
   "source": [
    "    "
   ]
  },
  {
   "cell_type": "markdown",
   "metadata": {},
   "source": [
    "Nondimensionalizing the variables:\n"
   ]
  },
  {
   "cell_type": "markdown",
   "metadata": {},
   "source": [
    "$r=b\\bar{r} \\quad ; \\quad \\rho=\\Sigma \\bar{\\rho} \\quad ; \\quad m=m_*\\bar{m} \\quad ; \\quad  P=P_* \\bar{P}$ "
   ]
  },
  {
   "cell_type": "markdown",
   "metadata": {},
   "source": [
    "with $\\Sigma=\\Sigma(m_n)$."
   ]
  },
  {
   "cell_type": "markdown",
   "metadata": {},
   "source": [
    "    "
   ]
  },
  {
   "cell_type": "markdown",
   "metadata": {},
   "source": [
    "So if we want just one parameter ($m_n$), given $\\Sigma$, the other parameters $b$, $m_*$, $P_*$ are found by forcing the nondimensional equation to keep the same form:\n",
    "\n",
    "$$ b=\\frac{1}{\\sqrt{\\Sigma}} \\quad ; \\quad m_*=b \\quad ; \\quad P_*=\\Sigma.$$\n",
    "\n",
    "With a particular choice of $\\Sigma$ and fixing the units with factors of $c$ and $G$ we have:\n",
    "\n",
    "\n",
    "$$ \\Sigma=\\frac{m_{n}^{4}c^{3}}{8 \\pi^2 \\hbar^3}\\quad;\\quad b=\\frac{c}{\\sqrt{\\Sigma G}}\\quad, \\quad m= \\frac{b c^2}{G} \\bar{m} \\quad; \\quad P= \\Sigma c^2 \\bar{P},$$"
   ]
  },
  {
   "cell_type": "markdown",
   "metadata": {},
   "source": [
    "and the nondimensional system of equations keeps the same form:"
   ]
  },
  {
   "cell_type": "markdown",
   "metadata": {},
   "source": [
    "$$ \\bar{P}=\\bar{P}(\\bar{\\rho}), $$\n",
    "$$ \\frac{d\\bar{m}}{\\bar{dr}}=4\\pi \\bar{\\rho} \\bar{r}^2 , $$\n",
    "$$ \\frac{d\\bar{P}}{d\\bar{r}}=-(\\bar{\\rho}+\\bar{P})\\frac{\\bar{m}+4\\pi \\bar{r}^3 \\bar{P}}{\\bar{r}(\\bar{r}-2\\bar{m})} . $$"
   ]
  },
  {
   "cell_type": "markdown",
   "metadata": {},
   "source": [
    "## Solving the system"
   ]
  },
  {
   "cell_type": "markdown",
   "metadata": {},
   "source": [
    "To solve this system of equations we need two initial conditions:\n",
    "\n",
    "$$ \\bar{P}{(0)}=P_{c}{(\\bar{\\rho_{c}})} \\quad ; \\quad \\bar{m}{(0)}=0,$$\n",
    "\n",
    "depending on the choice of $\\rho_{c}$."
   ]
  },
  {
   "cell_type": "markdown",
   "metadata": {},
   "source": [
    "We want our equation of state to be a table of numbers $(\\rho_{i},P_{i})$, this equation of state will depend on the theoretical model used to study the interior of the neutron star."
   ]
  },
  {
   "cell_type": "markdown",
   "metadata": {},
   "source": [
    "Loading some constants (in cgs units) from a separeted file and declaring the parameters that carry the dimensions"
   ]
  },
  {
   "cell_type": "code",
   "execution_count": 2,
   "metadata": {},
   "outputs": [],
   "source": [
    "import Physical_Const as phys\n",
    "h=phys.h \n",
    "c=phys.c\n",
    "G=phys.G\n",
    "Msun=phys.Msun\n",
    "mn=phys.mn # Neutron mass\n",
    "\n",
    "\n",
    "Sigma=mn**4.0*c**3.0/(8.0*np.pi**2*(h/(2.0*np.pi))**3.0) #Dimensions of energy density\n",
    "b=c/np.sqrt(Sigma*G) # Dimensions of radius\n",
    "mdim=b*c**2.0/G # Dimensions of mass\n",
    "pdim=Sigma*c**2 # Dimensions of pressure"
   ]
  },
  {
   "cell_type": "markdown",
   "metadata": {},
   "source": [
    "loading the equation of state and interpolating it linearly"
   ]
  },
  {
   "cell_type": "code",
   "execution_count": 3,
   "metadata": {},
   "outputs": [],
   "source": [
    "rhoSLy,PSLy=np.loadtxt('EOS/sly.dat',usecols=(2,1),unpack=True)\n",
    "#P_SLy=interpolate.interp1d(rhoSLy/Sigma,(PSLy*c**2)/pdim)\n",
    "#rho_SLy=interpolate.interp1d((PSLy*c**2)/pdim,rhoSLy/Sigma)\n",
    "# Interpolating P\n",
    "\n",
    "def P_EoS(r):\n",
    "    pp=interpolate.interp1d(rhoSLy/Sigma,(PSLy*c**2)/pdim,kind='cubic')\n",
    "    return pp(r)\n",
    "\n",
    "\n",
    "# Interpolating Rho\n",
    "\n",
    "def rho_EoS(r):\n",
    "    rhorho=interpolate.interp1d((PSLy*c**2)/pdim,rhoSLy/Sigma,kind='cubic')\n",
    "    return rhorho(r)\n"
   ]
  },
  {
   "cell_type": "markdown",
   "metadata": {},
   "source": [
    "Comparing the table and the interpolation"
   ]
  },
  {
   "cell_type": "code",
   "execution_count": 4,
   "metadata": {},
   "outputs": [
    {
     "data": {
      "image/png": "[encoded data removed]",
      "text/plain": [
       "<matplotlib.figure.Figure at 0x7efef9e2ff60>"
      ]
     },
     "metadata": {},
     "output_type": "display_data"
    },
    {
     "data": {
      "text/plain": [
       "<matplotlib.figure.Figure at 0x7efef18c0f98>"
      ]
     },
     "metadata": {},
     "output_type": "display_data"
    }
   ],
   "source": [
    "plt.rc('text', usetex=True)\n",
    "plt.rc('font', family='serif')\n",
    "plt.rc('axes', labelsize=25)\n",
    "plt.rc('xtick', labelsize=12)\n",
    "plt.rc('ytick', labelsize=12)\n",
    "\n",
    "\n",
    "fig=plt.figure()\n",
    "ax = fig.add_subplot(1, 1, 1)\n",
    "\n",
    "\n",
    "plt.loglog(rhoSLy,P_EoS(rhoSLy/Sigma)*pdim,color='red',linewidth=1.4, \\\n",
    "           label=\"Interpolation\") # Interpolación\n",
    "plt.loglog(rhoSLy,PSLy*c**2,marker='o',markersize=3,label='Data',\\\n",
    "           markeredgecolor='black',markeredgewidth=0.4,linestyle='') # Valores de la tabla\n",
    "plt.xlabel(r'$\\rho\\,\\rm{[g/cm^3]}$')\n",
    "plt.ylabel(r'$P\\,\\rm{[dyn/cm^{2}]}$')\n",
    "plt.savefig('SLyEoS.pdf',format='pdf',dpi=1000,bbox_inches=\"tight\")\n",
    "plt.show()\n",
    "plt.clf()"
   ]
  },
  {
   "cell_type": "markdown",
   "metadata": {},
   "source": [
    "With the equation of state interpolated we can declare the system of equations:"
   ]
  },
  {
   "cell_type": "code",
   "execution_count": 5,
   "metadata": {},
   "outputs": [],
   "source": [
    "def TOV(r,y):\n",
    "    mns, pns, nuns = y\n",
    "    #print(r)\n",
    "    dmdr=4.0*np.pi*r**2.0*rho_EoS(pns)\n",
    "    dnudr=(4.0*np.pi*r**3.0*pns+mns)/(r*(r-2.0*mns))\n",
    "    dpdr=-dnudr*(pns+rho_EoS(pns))\n",
    "    return [dmdr,dpdr,dnudr]"
   ]
  },
  {
   "cell_type": "markdown",
   "metadata": {},
   "source": [
    "# Stellar structure"
   ]
  },
  {
   "cell_type": "markdown",
   "metadata": {},
   "source": [
    "Setting up the integration routine"
   ]
  },
  {
   "cell_type": "code",
   "execution_count": 6,
   "metadata": {},
   "outputs": [],
   "source": [
    "def StaticSeq(y0,r0,dr):\n",
    "    \"\"\"  \"\"\"\n",
    "    Static=integrate.ode(TOV).set_integrator('dopri5',atol=1e-9) # Dopri (Dorman-Prince method) is a R-K method of order (4)5\n",
    "    Static.set_initial_value(y0,r0)\n",
    "    ms=[]; ps=[];rs=[]; rhos=[]\n",
    "    ms.append(y0[0]); ps.append(y0[1]); rhos.append(rho_EoS(y0[1])); rs.append(r0) \n",
    "    while Static.successful() and rho_EoS(Static.y[1])*Sigma>1e8 and Static.y[1]>0:\n",
    "        Static.integrate(Static.t+dr)\n",
    "        ms.append(Static.y[0]); ps.append(Static.y[1]); rhos.append(rho_EoS(Static.y[1])); rs.append(Static.t)  \n",
    "    while Static.successful() and rho_EoS(Static.y[1])*Sigma>1e6 and Static.y[1]>0:\n",
    "        Static.integrate(Static.t+dr/10.0)\n",
    "        ms.append(Static.y[0]); ps.append(Static.y[1]); rhos.append(rho_EoS(Static.y[1])); rs.append(Static.t)\n",
    "    while Static.successful() and rho_EoS(Static.y[1])*Sigma>1e4 and Static.y[1]>0:\n",
    "        Static.integrate(Static.t+dr/100.0)\n",
    "        ms.append(Static.y[0]); ps.append(Static.y[1]); rhos.append(rho_EoS(Static.y[1])); rs.append(Static.t)\n",
    "    while Static.successful() and rho_EoS(Static.y[1])*Sigma>1e2 and Static.y[1]>0:\n",
    "        Static.integrate(Static.t+dr/1000.0)\n",
    "        ms.append(Static.y[0]); ps.append(Static.y[1]); rhos.append(rho_EoS(Static.y[1])); rs.append(Static.t)\n",
    "    while Static.successful() and rho_EoS(Static.y[1])*Sigma>14.0 and Static.y[1]>0:\n",
    "        Static.integrate(Static.t+dr/1e+5)\n",
    "        ms.append(Static.y[0]); ps.append(Static.y[1]); rhos.append(rho_EoS(Static.y[1])); rs.append(Static.t)\n",
    "    return np.array([ms,ps,rhos,rs]) \n",
    "    # Returns arrays of m(r) in solar masses, P(r) and Rho(r) in cgs, and r in km"
   ]
  },
  {
   "cell_type": "code",
   "execution_count": 7,
   "metadata": {},
   "outputs": [
    {
     "data": {
      "text/plain": [
       "2.0499091631194222e+36"
      ]
     },
     "execution_count": 7,
     "metadata": {},
     "output_type": "execute_result"
    }
   ],
   "source": [
    "pdim"
   ]
  },
  {
   "cell_type": "markdown",
   "metadata": {},
   "source": [
    "# Chossing an specific model"
   ]
  },
  {
   "cell_type": "code",
   "execution_count": 8,
   "metadata": {},
   "outputs": [],
   "source": [
    "rho_0=10.0**15\n",
    "P_0=P_EoS(rho_0/Sigma)"
   ]
  },
  {
   "cell_type": "code",
   "execution_count": 9,
   "metadata": {},
   "outputs": [],
   "source": [
    "m1,p1,rho1,r1=StaticSeq([0,P_0,0],1e-7,1e-4)"
   ]
  },
  {
   "cell_type": "markdown",
   "metadata": {},
   "source": [
    "## Density profile"
   ]
  },
  {
   "cell_type": "code",
   "execution_count": 32,
   "metadata": {},
   "outputs": [
    {
     "data": {
      "image/png": "[encoded data removed]",
      "text/plain": [
       "<matplotlib.figure.Figure at 0x7efef0c92048>"
      ]
     },
     "metadata": {},
     "output_type": "display_data"
    },
    {
     "data": {
      "text/plain": [
       "<matplotlib.figure.Figure at 0x7efef1542080>"
      ]
     },
     "metadata": {},
     "output_type": "display_data"
    }
   ],
   "source": [
    "plt.rc('text', usetex=True)\n",
    "plt.rc('font', family='serif')\n",
    "plt.rc('axes', labelsize=25)\n",
    "plt.rc('xtick', labelsize=12)\n",
    "plt.rc('ytick', labelsize=12)\n",
    "\n",
    "\n",
    "fig = plt.figure()\n",
    "ax = fig.add_subplot(1, 1, 1)\n",
    "\n",
    "plt.plot(r1*b*1e-5,rho1*Sigma,color='blue',linewidth='1.2') \n",
    "#plt.yscale('log')\n",
    "plt.xlabel(r'$r\\,\\rm{[km]}$')\n",
    "plt.ylabel(r'$\\rho\\,\\rm{[g/cm^3]}$')\n",
    "plt.savefig('DProf_SLy.pdf', format='pdf', dpi=1000,bbox_inches=\"tight\")\n",
    "#plt.savefig('MRrel_NL3.eps')\n",
    "plt.show()\n",
    "plt.clf()"
   ]
  },
  {
   "cell_type": "markdown",
   "metadata": {},
   "source": [
    "## Pressure profile"
   ]
  },
  {
   "cell_type": "code",
   "execution_count": 11,
   "metadata": {},
   "outputs": [
    {
     "data": {
      "image/png": "[encoded data removed]",
      "text/plain": [
       "<matplotlib.figure.Figure at 0x7efef190b6a0>"
      ]
     },
     "metadata": {},
     "output_type": "display_data"
    },
    {
     "data": {
      "text/plain": [
       "<matplotlib.figure.Figure at 0x7efef1666be0>"
      ]
     },
     "metadata": {},
     "output_type": "display_data"
    }
   ],
   "source": [
    "plt.rc('text', usetex=True)\n",
    "plt.rc('font', family='serif')\n",
    "plt.rc('axes', labelsize=25)\n",
    "plt.rc('xtick', labelsize=12)\n",
    "plt.rc('ytick', labelsize=12)\n",
    "\n",
    "fig=plt.figure()\n",
    "ax = fig.add_subplot(1, 1, 1)\n",
    "\n",
    "plt.plot(r1*b*1e-5,p1*pdim,'b-', linewidth=1.2) \n",
    "plt.yscale('log')\n",
    "plt.xlabel(r'$r\\,\\rm{[km]}$')\n",
    "plt.ylabel(r'$P\\,\\rm{[dyn/cm^2]}$')\n",
    "plt.savefig('PProf_SLy.pdf', format='pdf', dpi=1000,bbox_inches=\"tight\")\n",
    "plt.show()\n",
    "plt.clf()"
   ]
  },
  {
   "cell_type": "markdown",
   "metadata": {},
   "source": [
    "# Stability against convection"
   ]
  },
  {
   "cell_type": "code",
   "execution_count": 12,
   "metadata": {},
   "outputs": [],
   "source": [
    "rhoprof=interpolate.interp1d(r1,rho1,kind='cubic')"
   ]
  },
  {
   "cell_type": "code",
   "execution_count": 13,
   "metadata": {},
   "outputs": [
    {
     "data": {
      "text/plain": [
       "array(1.e+15)"
      ]
     },
     "execution_count": 13,
     "metadata": {},
     "output_type": "execute_result"
    }
   ],
   "source": [
    "rhoprof(r1[0])"
   ]
  },
  {
   "cell_type": "markdown",
   "metadata": {},
   "source": [
    "## Finding derivatives (very bad)"
   ]
  },
  {
   "cell_type": "markdown",
   "metadata": {},
   "source": [
    "Probando la librería del proyecto findiff (https://github.com/maroba/findiff)."
   ]
  },
  {
   "cell_type": "code",
   "execution_count": 31,
   "metadata": {},
   "outputs": [],
   "source": [
    "from findiff import FinDiff"
   ]
  },
  {
   "cell_type": "code",
   "execution_count": 32,
   "metadata": {},
   "outputs": [],
   "source": [
    "d2_dr2=FinDiff(0, r1, 2,acc=20)\n",
    "d2rho_dr2=d2_dr2(rho1)"
   ]
  },
  {
   "cell_type": "code",
   "execution_count": 33,
   "metadata": {},
   "outputs": [
    {
     "data": {
      "image/png": "[encoded data removed]",
      "text/plain": [
       "<matplotlib.figure.Figure at 0x7f472d2c7b38>"
      ]
     },
     "metadata": {},
     "output_type": "display_data"
    },
    {
     "data": {
      "text/plain": [
       "<matplotlib.figure.Figure at 0x7f472cab8630>"
      ]
     },
     "metadata": {},
     "output_type": "display_data"
    }
   ],
   "source": [
    "plt.rc('axes', labelsize=20)\n",
    "plt.rc('xtick', labelsize=8)\n",
    "plt.rc('ytick', labelsize=8)\n",
    "\n",
    "fig=plt.figure()\n",
    "ax = fig.add_subplot(1, 1, 1)\n",
    "\n",
    "plt.plot(r1,d2rho_dr2,'bo', markersize=1) \n",
    "plt.yscale('log')\n",
    "plt.xlabel(r'$r\\,[km]$')\n",
    "plt.ylabel(r'$\\rho^{\\prime\\prime}\\,[g/cm^5]$')\n",
    "plt.savefig('ddSLy.png', format='png', dpi=1000)\n",
    "#plt.savefig('MRrel_NL3.eps')\n",
    "plt.show()\n",
    "plt.clf()"
   ]
  },
  {
   "cell_type": "markdown",
   "metadata": {},
   "source": [
    "### Probando con una interpolación antes de derivar"
   ]
  },
  {
   "cell_type": "code",
   "execution_count": 85,
   "metadata": {},
   "outputs": [],
   "source": [
    "k=5 #orden del spline\n",
    "n=len(r1) #número de puntos\n",
    "s=0.001 #factor de suavizamiento\n",
    "rhos=interpolate.UnivariateSpline(r1, rho1, k=k, s=s)\n",
    "drho=interpolate.UnivariateSpline(r1, rho1, k=k, s=s).derivative(n=1)\n",
    "ddrho=interpolate.UnivariateSpline(r1, rho1, k=k, s=s).derivative(n=2)"
   ]
  },
  {
   "cell_type": "code",
   "execution_count": 86,
   "metadata": {},
   "outputs": [
    {
     "data": {
      "text/plain": [
       "array([ -2.97915949,  -2.98048776,  -2.9818137 , ..., 150.6757819 ,\n",
       "       150.67585024, 150.67591859])"
      ]
     },
     "execution_count": 86,
     "metadata": {},
     "output_type": "execute_result"
    }
   ],
   "source": [
    "ddrho(r1)"
   ]
  },
  {
   "cell_type": "code",
   "execution_count": 87,
   "metadata": {},
   "outputs": [
    {
     "data": {
      "image/png": "[encoded data removed]",
      "text/plain": [
       "<matplotlib.figure.Figure at 0x7efef9e5e710>"
      ]
     },
     "metadata": {},
     "output_type": "display_data"
    },
    {
     "data": {
      "text/plain": [
       "<matplotlib.figure.Figure at 0x7efef161ac18>"
      ]
     },
     "metadata": {},
     "output_type": "display_data"
    }
   ],
   "source": [
    "plt.rc('axes', labelsize=20)\n",
    "plt.rc('xtick', labelsize=8)\n",
    "plt.rc('ytick', labelsize=8)\n",
    "\n",
    "fig=plt.figure(figsize=[6.4,8])\n",
    "\n",
    "plt.subplot(311)\n",
    "plt.plot(r1*b*1e-5,rho1*Sigma,color='red',marker='o',markersize='0.4') \n",
    "plt.plot(r1*b*1e-5,rhos(r1)*Sigma,color='blue',linewidth='0.5') \n",
    "#plt.yscale('log')\n",
    "#plt.xlabel(r'$r\\,\\rm{[km]}$')\n",
    "plt.ylabel(r'$\\rho\\,\\rm{[g/cm^3]}$')\n",
    "\n",
    "plt.subplot(312)\n",
    "plt.plot(r1*b*1e-5,drho(r1)*Sigma,'b-', linewidth=0.5) \n",
    "#plt.yscale('log')\n",
    "#plt.xlabel(r'$r\\,[km]$')\n",
    "plt.ylabel(r'$\\rho^{\\prime}\\,[g/cm^4]$')\n",
    "\n",
    "plt.subplot(313)\n",
    "plt.plot(r1*b*1e-5,ddrho(r1)*Sigma,'b-', linewidth=0.5) \n",
    "plt.ylabel(r'$\\rho^{\\prime\\prime}\\,[g/cm^5]$')\n",
    "plt.xlabel(r'$r\\,[km]$')\n",
    "\n",
    "fig.subplots_adjust(hspace=0.3)\n",
    "\n",
    "plt.savefig('ddsSLy.pdf', format='pdf', dpi=1000)\n",
    "#plt.savefig('MRrel_NL3.eps')\n",
    "plt.show()\n",
    "plt.clf()"
   ]
  },
  {
   "cell_type": "markdown",
   "metadata": {},
   "source": [
    "Zooming in to check the behaviour at the start"
   ]
  },
  {
   "cell_type": "code",
   "execution_count": 88,
   "metadata": {},
   "outputs": [
    {
     "data": {
      "image/png": "[encoded data removed]",
      "text/plain": [
       "<matplotlib.figure.Figure at 0x7efef161e780>"
      ]
     },
     "metadata": {},
     "output_type": "display_data"
    },
    {
     "data": {
      "text/plain": [
       "<matplotlib.figure.Figure at 0x7efef1168438>"
      ]
     },
     "metadata": {},
     "output_type": "display_data"
    }
   ],
   "source": [
    "plt.rc('axes', labelsize=20)\n",
    "plt.rc('xtick', labelsize=8)\n",
    "plt.rc('ytick', labelsize=8)\n",
    "\n",
    "fig=plt.figure(figsize=[6.4,8])\n",
    "\n",
    "\n",
    "plt.subplot(311)\n",
    "plt.plot(r1*b*1e-5,rho1*Sigma,color='red',marker='o',markersize='0.4') \n",
    "plt.plot(r1*b*1e-5,rhos(r1)*Sigma,color='blue',linewidth='0.5') \n",
    "#plt.yscale('log')\n",
    "#plt.xlabel(r'$r\\,\\rm{[km]}$')\n",
    "plt.ylabel(r'$\\rho\\,\\rm{[g/cm^3]}$')\n",
    "plt.xlim([-0.5,1])\n",
    "\n",
    "plt.subplot(312)\n",
    "plt.plot(r1*b*1e-5,drho(r1)*Sigma,'b-', linewidth=0.5) \n",
    "#plt.yscale('log')\n",
    "#plt.xlabel(r'$r\\,[km]$')\n",
    "plt.ylabel(r'$\\rho^{\\prime}\\,[g/cm^4]$')\n",
    "plt.xlim([-0.5,1])\n",
    "\n",
    "plt.subplot(313)\n",
    "plt.plot(r1*b*1e-5,ddrho(r1)*Sigma,'b-', linewidth=0.5) \n",
    "plt.ylabel(r'$\\rho^{\\prime\\prime}\\,[g/cm^5]$')\n",
    "plt.xlabel(r'$r\\,[km]$')\n",
    "plt.xlim([-0.5,1])\n",
    "\n",
    "fig.subplots_adjust(hspace=0.3)\n",
    "\n",
    "plt.savefig('ddsSLyZoom1.pdf', format='pdf', dpi=1000)\n",
    "#plt.savefig('MRrel_NL3.eps')\n",
    "plt.show()\n",
    "plt.clf()"
   ]
  },
  {
   "cell_type": "markdown",
   "metadata": {},
   "source": [
    "The spline is smoothing the data too much"
   ]
  },
  {
   "cell_type": "markdown",
   "metadata": {},
   "source": [
    "# M-R and M-$\\rho_c$"
   ]
  },
  {
   "cell_type": "markdown",
   "metadata": {},
   "source": [
    "The same integration routine (without saving the arrays)"
   ]
  },
  {
   "cell_type": "code",
   "execution_count": 54,
   "metadata": {},
   "outputs": [],
   "source": [
    "def StaticSeqMR(y0,r0,dr):\n",
    "    Static=integrate.ode(TOV).set_integrator('dopri5',atol=1e-5) # Dopri (Dorman-Prince method) is a R-K method of order (4)5\n",
    "    Static.set_initial_value(y0,r0)\n",
    "    while Static.successful() and rho_EoS(Static.y[1])*Sigma>1e8 and Static.y[1]>0:\n",
    "        Static.integrate(Static.t+dr)\n",
    "    while Static.successful() and rho_EoS(Static.y[1])*Sigma>1e6 and Static.y[1]>0:\n",
    "        Static.integrate(Static.t+dr/10.0)\n",
    "    while Static.successful() and rho_EoS(Static.y[1])*Sigma>1e4 and Static.y[1]>0:\n",
    "        Static.integrate(Static.t+dr/100.0)\n",
    "    while Static.successful() and rho_EoS(Static.y[1])*Sigma>1e2 and Static.y[1]>0:\n",
    "        Static.integrate(Static.t+dr/1000.0)\n",
    "    while Static.successful() and rho_EoS(Static.y[1])*Sigma>14.0 and Static.y[1]>0:\n",
    "        Static.integrate(Static.t+dr/5e+5)\n",
    "    mstar=Static.y[0]\n",
    "    rstar=Static.t\n",
    "    nustar=np.log(1-2.0*Static.y[0]/Static.t)-Static.y[2]  \n",
    "    return [mstar*mdim/Msun,rstar*b*1e-5,rho_EoS(y0[1])*Sigma] \n",
    "    # Returns mass of the star in solar masses, radius of the star in km and rho_c in cgs"
   ]
  },
  {
   "cell_type": "markdown",
   "metadata": {},
   "source": [
    "We choose the values for $\\rho_c$ we want to consider and integrate from $r0$ every $dr$ saving the different values of $M_{star}$, $R_{star}$ and $\\rho_c$ (slow):"
   ]
  },
  {
   "cell_type": "code",
   "execution_count": 55,
   "metadata": {},
   "outputs": [],
   "source": [
    "#Range of central densities and central pressures (they depend on how high the EOS go)\n",
    "n=np.arange(14.5,15.5,0.05)\n",
    "rhosc=10.0**n \n",
    "psc=P_EoS(rhosc/Sigma) "
   ]
  },
  {
   "cell_type": "code",
   "execution_count": 56,
   "metadata": {},
   "outputs": [],
   "source": [
    "#Initial values\n",
    "dr=1e-4 # Step size\n",
    "r0=dr/10.0 # Initial point\n",
    "m0=0 \n",
    "nu0=0"
   ]
  },
  {
   "cell_type": "code",
   "execution_count": 57,
   "metadata": {},
   "outputs": [
    {
     "data": {
      "text/plain": [
       "[0.21878858907105728, 15.33715050043264, 317084770210761.8]"
      ]
     },
     "execution_count": 57,
     "metadata": {},
     "output_type": "execute_result"
    }
   ],
   "source": [
    "StaticSeqMR([m0,psc[0],nu0],r0,dr)"
   ]
  },
  {
   "cell_type": "code",
   "execution_count": 58,
   "metadata": {},
   "outputs": [
    {
     "ename": "ValueError",
     "evalue": "A value in x_new is below the interpolation range.",
     "output_type": "error",
     "traceback": [
      "\u001b[0;31m---------------------------------------------------------------------------\u001b[0m",
      "\u001b[0;31mValueError\u001b[0m                                Traceback (most recent call last)",
      "\u001b[0;32m<ipython-input-58-eb7ca479ba1a>\u001b[0m in \u001b[0;36m<module>\u001b[0;34m()\u001b[0m\n\u001b[1;32m      2\u001b[0m \u001b[0;34m\u001b[0m\u001b[0m\n\u001b[1;32m      3\u001b[0m \u001b[0;32mfor\u001b[0m \u001b[0mpc\u001b[0m \u001b[0;32min\u001b[0m \u001b[0mpsc\u001b[0m\u001b[0;34m:\u001b[0m\u001b[0;34m\u001b[0m\u001b[0m\n\u001b[0;32m----> 4\u001b[0;31m     \u001b[0mMRrho\u001b[0m\u001b[0;34m=\u001b[0m\u001b[0mStaticSeqMR\u001b[0m\u001b[0;34m(\u001b[0m\u001b[0;34m[\u001b[0m\u001b[0mm0\u001b[0m\u001b[0;34m,\u001b[0m\u001b[0mpc\u001b[0m\u001b[0;34m,\u001b[0m\u001b[0mnu0\u001b[0m\u001b[0;34m]\u001b[0m\u001b[0;34m,\u001b[0m\u001b[0mr0\u001b[0m\u001b[0;34m,\u001b[0m\u001b[0mdr\u001b[0m\u001b[0;34m)\u001b[0m\u001b[0;34m\u001b[0m\u001b[0m\n\u001b[0m\u001b[1;32m      5\u001b[0m    \u001b[0;31m# print(MRrho)\u001b[0m\u001b[0;34m\u001b[0m\u001b[0;34m\u001b[0m\u001b[0m\n\u001b[1;32m      6\u001b[0m     \u001b[0mRR\u001b[0m\u001b[0;34m=\u001b[0m\u001b[0mRR\u001b[0m\u001b[0;34m+\u001b[0m\u001b[0;34m[\u001b[0m\u001b[0mMRrho\u001b[0m\u001b[0;34m[\u001b[0m\u001b[0;36m1\u001b[0m\u001b[0;34m]\u001b[0m\u001b[0;34m]\u001b[0m\u001b[0;34m\u001b[0m\u001b[0m\n",
      "\u001b[0;32m<ipython-input-54-d8cca636dad7>\u001b[0m in \u001b[0;36mStaticSeqMR\u001b[0;34m(y0, r0, dr)\u001b[0m\n\u001b[1;32m      9\u001b[0m         \u001b[0mStatic\u001b[0m\u001b[0;34m.\u001b[0m\u001b[0mintegrate\u001b[0m\u001b[0;34m(\u001b[0m\u001b[0mStatic\u001b[0m\u001b[0;34m.\u001b[0m\u001b[0mt\u001b[0m\u001b[0;34m+\u001b[0m\u001b[0mdr\u001b[0m\u001b[0;34m/\u001b[0m\u001b[0;36m100.0\u001b[0m\u001b[0;34m)\u001b[0m\u001b[0;34m\u001b[0m\u001b[0m\n\u001b[1;32m     10\u001b[0m     \u001b[0;32mwhile\u001b[0m \u001b[0mStatic\u001b[0m\u001b[0;34m.\u001b[0m\u001b[0msuccessful\u001b[0m\u001b[0;34m(\u001b[0m\u001b[0;34m)\u001b[0m \u001b[0;32mand\u001b[0m \u001b[0mrho_EoS\u001b[0m\u001b[0;34m(\u001b[0m\u001b[0mStatic\u001b[0m\u001b[0;34m.\u001b[0m\u001b[0my\u001b[0m\u001b[0;34m[\u001b[0m\u001b[0;36m1\u001b[0m\u001b[0;34m]\u001b[0m\u001b[0;34m)\u001b[0m\u001b[0;34m*\u001b[0m\u001b[0mSigma\u001b[0m\u001b[0;34m>\u001b[0m\u001b[0;36m1e2\u001b[0m \u001b[0;32mand\u001b[0m \u001b[0mStatic\u001b[0m\u001b[0;34m.\u001b[0m\u001b[0my\u001b[0m\u001b[0;34m[\u001b[0m\u001b[0;36m1\u001b[0m\u001b[0;34m]\u001b[0m\u001b[0;34m>\u001b[0m\u001b[0;36m0\u001b[0m\u001b[0;34m:\u001b[0m\u001b[0;34m\u001b[0m\u001b[0m\n\u001b[0;32m---> 11\u001b[0;31m         \u001b[0mStatic\u001b[0m\u001b[0;34m.\u001b[0m\u001b[0mintegrate\u001b[0m\u001b[0;34m(\u001b[0m\u001b[0mStatic\u001b[0m\u001b[0;34m.\u001b[0m\u001b[0mt\u001b[0m\u001b[0;34m+\u001b[0m\u001b[0mdr\u001b[0m\u001b[0;34m/\u001b[0m\u001b[0;36m1000.0\u001b[0m\u001b[0;34m)\u001b[0m\u001b[0;34m\u001b[0m\u001b[0m\n\u001b[0m\u001b[1;32m     12\u001b[0m     \u001b[0;32mwhile\u001b[0m \u001b[0mStatic\u001b[0m\u001b[0;34m.\u001b[0m\u001b[0msuccessful\u001b[0m\u001b[0;34m(\u001b[0m\u001b[0;34m)\u001b[0m \u001b[0;32mand\u001b[0m \u001b[0mrho_EoS\u001b[0m\u001b[0;34m(\u001b[0m\u001b[0mStatic\u001b[0m\u001b[0;34m.\u001b[0m\u001b[0my\u001b[0m\u001b[0;34m[\u001b[0m\u001b[0;36m1\u001b[0m\u001b[0;34m]\u001b[0m\u001b[0;34m)\u001b[0m\u001b[0;34m*\u001b[0m\u001b[0mSigma\u001b[0m\u001b[0;34m>\u001b[0m\u001b[0;36m14.0\u001b[0m \u001b[0;32mand\u001b[0m \u001b[0mStatic\u001b[0m\u001b[0;34m.\u001b[0m\u001b[0my\u001b[0m\u001b[0;34m[\u001b[0m\u001b[0;36m1\u001b[0m\u001b[0;34m]\u001b[0m\u001b[0;34m>\u001b[0m\u001b[0;36m0\u001b[0m\u001b[0;34m:\u001b[0m\u001b[0;34m\u001b[0m\u001b[0m\n\u001b[1;32m     13\u001b[0m         \u001b[0mStatic\u001b[0m\u001b[0;34m.\u001b[0m\u001b[0mintegrate\u001b[0m\u001b[0;34m(\u001b[0m\u001b[0mStatic\u001b[0m\u001b[0;34m.\u001b[0m\u001b[0mt\u001b[0m\u001b[0;34m+\u001b[0m\u001b[0mdr\u001b[0m\u001b[0;34m/\u001b[0m\u001b[0;36m5e+5\u001b[0m\u001b[0;34m)\u001b[0m\u001b[0;34m\u001b[0m\u001b[0m\n",
      "\u001b[0;32m~/anaconda3/lib/python3.6/site-packages/scipy/integrate/_ode.py\u001b[0m in \u001b[0;36mintegrate\u001b[0;34m(self, t, step, relax)\u001b[0m\n\u001b[1;32m    430\u001b[0m             self._y, self.t = mth(self.f, self.jac or (lambda: None),\n\u001b[1;32m    431\u001b[0m                                   \u001b[0mself\u001b[0m\u001b[0;34m.\u001b[0m\u001b[0m_y\u001b[0m\u001b[0;34m,\u001b[0m \u001b[0mself\u001b[0m\u001b[0;34m.\u001b[0m\u001b[0mt\u001b[0m\u001b[0;34m,\u001b[0m \u001b[0mt\u001b[0m\u001b[0;34m,\u001b[0m\u001b[0;34m\u001b[0m\u001b[0m\n\u001b[0;32m--> 432\u001b[0;31m                                   self.f_params, self.jac_params)\n\u001b[0m\u001b[1;32m    433\u001b[0m         \u001b[0;32mexcept\u001b[0m \u001b[0mSystemError\u001b[0m\u001b[0;34m:\u001b[0m\u001b[0;34m\u001b[0m\u001b[0m\n\u001b[1;32m    434\u001b[0m             \u001b[0;31m# f2py issue with tuple returns, see ticket 1187.\u001b[0m\u001b[0;34m\u001b[0m\u001b[0;34m\u001b[0m\u001b[0m\n",
      "\u001b[0;32m~/anaconda3/lib/python3.6/site-packages/scipy/integrate/_ode.py\u001b[0m in \u001b[0;36mrun\u001b[0;34m(self, f, jac, y0, t0, t1, f_params, jac_params)\u001b[0m\n\u001b[1;32m   1088\u001b[0m     \u001b[0;32mdef\u001b[0m \u001b[0mrun\u001b[0m\u001b[0;34m(\u001b[0m\u001b[0mself\u001b[0m\u001b[0;34m,\u001b[0m \u001b[0mf\u001b[0m\u001b[0;34m,\u001b[0m \u001b[0mjac\u001b[0m\u001b[0;34m,\u001b[0m \u001b[0my0\u001b[0m\u001b[0;34m,\u001b[0m \u001b[0mt0\u001b[0m\u001b[0;34m,\u001b[0m \u001b[0mt1\u001b[0m\u001b[0;34m,\u001b[0m \u001b[0mf_params\u001b[0m\u001b[0;34m,\u001b[0m \u001b[0mjac_params\u001b[0m\u001b[0;34m)\u001b[0m\u001b[0;34m:\u001b[0m\u001b[0;34m\u001b[0m\u001b[0m\n\u001b[1;32m   1089\u001b[0m         x, y, iwork, istate = self.runner(*((f, t0, y0, t1) +\n\u001b[0;32m-> 1090\u001b[0;31m                                           tuple(self.call_args) + (f_params,)))\n\u001b[0m\u001b[1;32m   1091\u001b[0m         \u001b[0mself\u001b[0m\u001b[0;34m.\u001b[0m\u001b[0mistate\u001b[0m \u001b[0;34m=\u001b[0m \u001b[0mistate\u001b[0m\u001b[0;34m\u001b[0m\u001b[0m\n\u001b[1;32m   1092\u001b[0m         \u001b[0;32mif\u001b[0m \u001b[0mistate\u001b[0m \u001b[0;34m<\u001b[0m \u001b[0;36m0\u001b[0m\u001b[0;34m:\u001b[0m\u001b[0;34m\u001b[0m\u001b[0m\n",
      "\u001b[0;32m<ipython-input-6-2e25d8f58a81>\u001b[0m in \u001b[0;36mTOV\u001b[0;34m(r, y)\u001b[0m\n\u001b[1;32m      2\u001b[0m     \u001b[0mmns\u001b[0m\u001b[0;34m,\u001b[0m \u001b[0mpns\u001b[0m\u001b[0;34m,\u001b[0m \u001b[0mnuns\u001b[0m \u001b[0;34m=\u001b[0m \u001b[0my\u001b[0m\u001b[0;34m\u001b[0m\u001b[0m\n\u001b[1;32m      3\u001b[0m     \u001b[0;31m#print(r)\u001b[0m\u001b[0;34m\u001b[0m\u001b[0;34m\u001b[0m\u001b[0m\n\u001b[0;32m----> 4\u001b[0;31m     \u001b[0mdmdr\u001b[0m\u001b[0;34m=\u001b[0m\u001b[0;36m4.0\u001b[0m\u001b[0;34m*\u001b[0m\u001b[0mnp\u001b[0m\u001b[0;34m.\u001b[0m\u001b[0mpi\u001b[0m\u001b[0;34m*\u001b[0m\u001b[0mr\u001b[0m\u001b[0;34m**\u001b[0m\u001b[0;36m2.0\u001b[0m\u001b[0;34m*\u001b[0m\u001b[0mrho_EoS\u001b[0m\u001b[0;34m(\u001b[0m\u001b[0mpns\u001b[0m\u001b[0;34m)\u001b[0m\u001b[0;34m\u001b[0m\u001b[0m\n\u001b[0m\u001b[1;32m      5\u001b[0m     \u001b[0mdnudr\u001b[0m\u001b[0;34m=\u001b[0m\u001b[0;34m(\u001b[0m\u001b[0;36m4.0\u001b[0m\u001b[0;34m*\u001b[0m\u001b[0mnp\u001b[0m\u001b[0;34m.\u001b[0m\u001b[0mpi\u001b[0m\u001b[0;34m*\u001b[0m\u001b[0mr\u001b[0m\u001b[0;34m**\u001b[0m\u001b[0;36m3.0\u001b[0m\u001b[0;34m*\u001b[0m\u001b[0mpns\u001b[0m\u001b[0;34m+\u001b[0m\u001b[0mmns\u001b[0m\u001b[0;34m)\u001b[0m\u001b[0;34m/\u001b[0m\u001b[0;34m(\u001b[0m\u001b[0mr\u001b[0m\u001b[0;34m*\u001b[0m\u001b[0;34m(\u001b[0m\u001b[0mr\u001b[0m\u001b[0;34m-\u001b[0m\u001b[0;36m2.0\u001b[0m\u001b[0;34m*\u001b[0m\u001b[0mmns\u001b[0m\u001b[0;34m)\u001b[0m\u001b[0;34m)\u001b[0m\u001b[0;34m\u001b[0m\u001b[0m\n\u001b[1;32m      6\u001b[0m     \u001b[0mdpdr\u001b[0m\u001b[0;34m=\u001b[0m\u001b[0;34m-\u001b[0m\u001b[0mdnudr\u001b[0m\u001b[0;34m*\u001b[0m\u001b[0;34m(\u001b[0m\u001b[0mpns\u001b[0m\u001b[0;34m+\u001b[0m\u001b[0mrho_EoS\u001b[0m\u001b[0;34m(\u001b[0m\u001b[0mpns\u001b[0m\u001b[0;34m)\u001b[0m\u001b[0;34m)\u001b[0m\u001b[0;34m\u001b[0m\u001b[0m\n",
      "\u001b[0;32m<ipython-input-4-aea09f817f55>\u001b[0m in \u001b[0;36mrho_EoS\u001b[0;34m(r)\u001b[0m\n\u001b[1;32m     13\u001b[0m \u001b[0;32mdef\u001b[0m \u001b[0mrho_EoS\u001b[0m\u001b[0;34m(\u001b[0m\u001b[0mr\u001b[0m\u001b[0;34m)\u001b[0m\u001b[0;34m:\u001b[0m\u001b[0;34m\u001b[0m\u001b[0m\n\u001b[1;32m     14\u001b[0m     \u001b[0mrhorho\u001b[0m\u001b[0;34m=\u001b[0m\u001b[0minterpolate\u001b[0m\u001b[0;34m.\u001b[0m\u001b[0minterp1d\u001b[0m\u001b[0;34m(\u001b[0m\u001b[0;34m(\u001b[0m\u001b[0mPSLy\u001b[0m\u001b[0;34m*\u001b[0m\u001b[0mc\u001b[0m\u001b[0;34m**\u001b[0m\u001b[0;36m2\u001b[0m\u001b[0;34m)\u001b[0m\u001b[0;34m/\u001b[0m\u001b[0mpdim\u001b[0m\u001b[0;34m,\u001b[0m\u001b[0mrhoSLy\u001b[0m\u001b[0;34m/\u001b[0m\u001b[0mSigma\u001b[0m\u001b[0;34m,\u001b[0m\u001b[0mkind\u001b[0m\u001b[0;34m=\u001b[0m\u001b[0;34m'cubic'\u001b[0m\u001b[0;34m)\u001b[0m\u001b[0;34m\u001b[0m\u001b[0m\n\u001b[0;32m---> 15\u001b[0;31m     \u001b[0;32mreturn\u001b[0m \u001b[0mrhorho\u001b[0m\u001b[0;34m(\u001b[0m\u001b[0mr\u001b[0m\u001b[0;34m)\u001b[0m\u001b[0;34m\u001b[0m\u001b[0m\n\u001b[0m",
      "\u001b[0;32m~/anaconda3/lib/python3.6/site-packages/scipy/interpolate/polyint.py\u001b[0m in \u001b[0;36m__call__\u001b[0;34m(self, x)\u001b[0m\n\u001b[1;32m     77\u001b[0m         \"\"\"\n\u001b[1;32m     78\u001b[0m         \u001b[0mx\u001b[0m\u001b[0;34m,\u001b[0m \u001b[0mx_shape\u001b[0m \u001b[0;34m=\u001b[0m \u001b[0mself\u001b[0m\u001b[0;34m.\u001b[0m\u001b[0m_prepare_x\u001b[0m\u001b[0;34m(\u001b[0m\u001b[0mx\u001b[0m\u001b[0;34m)\u001b[0m\u001b[0;34m\u001b[0m\u001b[0m\n\u001b[0;32m---> 79\u001b[0;31m         \u001b[0my\u001b[0m \u001b[0;34m=\u001b[0m \u001b[0mself\u001b[0m\u001b[0;34m.\u001b[0m\u001b[0m_evaluate\u001b[0m\u001b[0;34m(\u001b[0m\u001b[0mx\u001b[0m\u001b[0;34m)\u001b[0m\u001b[0;34m\u001b[0m\u001b[0m\n\u001b[0m\u001b[1;32m     80\u001b[0m         \u001b[0;32mreturn\u001b[0m \u001b[0mself\u001b[0m\u001b[0;34m.\u001b[0m\u001b[0m_finish_y\u001b[0m\u001b[0;34m(\u001b[0m\u001b[0my\u001b[0m\u001b[0;34m,\u001b[0m \u001b[0mx_shape\u001b[0m\u001b[0;34m)\u001b[0m\u001b[0;34m\u001b[0m\u001b[0m\n\u001b[1;32m     81\u001b[0m \u001b[0;34m\u001b[0m\u001b[0m\n",
      "\u001b[0;32m~/anaconda3/lib/python3.6/site-packages/scipy/interpolate/interpolate.py\u001b[0m in \u001b[0;36m_evaluate\u001b[0;34m(self, x_new)\u001b[0m\n\u001b[1;32m    632\u001b[0m         \u001b[0my_new\u001b[0m \u001b[0;34m=\u001b[0m \u001b[0mself\u001b[0m\u001b[0;34m.\u001b[0m\u001b[0m_call\u001b[0m\u001b[0;34m(\u001b[0m\u001b[0mself\u001b[0m\u001b[0;34m,\u001b[0m \u001b[0mx_new\u001b[0m\u001b[0;34m)\u001b[0m\u001b[0;34m\u001b[0m\u001b[0m\n\u001b[1;32m    633\u001b[0m         \u001b[0;32mif\u001b[0m \u001b[0;32mnot\u001b[0m \u001b[0mself\u001b[0m\u001b[0;34m.\u001b[0m\u001b[0m_extrapolate\u001b[0m\u001b[0;34m:\u001b[0m\u001b[0;34m\u001b[0m\u001b[0m\n\u001b[0;32m--> 634\u001b[0;31m             \u001b[0mbelow_bounds\u001b[0m\u001b[0;34m,\u001b[0m \u001b[0mabove_bounds\u001b[0m \u001b[0;34m=\u001b[0m \u001b[0mself\u001b[0m\u001b[0;34m.\u001b[0m\u001b[0m_check_bounds\u001b[0m\u001b[0;34m(\u001b[0m\u001b[0mx_new\u001b[0m\u001b[0;34m)\u001b[0m\u001b[0;34m\u001b[0m\u001b[0m\n\u001b[0m\u001b[1;32m    635\u001b[0m             \u001b[0;32mif\u001b[0m \u001b[0mlen\u001b[0m\u001b[0;34m(\u001b[0m\u001b[0my_new\u001b[0m\u001b[0;34m)\u001b[0m \u001b[0;34m>\u001b[0m \u001b[0;36m0\u001b[0m\u001b[0;34m:\u001b[0m\u001b[0;34m\u001b[0m\u001b[0m\n\u001b[1;32m    636\u001b[0m                 \u001b[0;31m# Note fill_value must be broadcast up to the proper size\u001b[0m\u001b[0;34m\u001b[0m\u001b[0;34m\u001b[0m\u001b[0m\n",
      "\u001b[0;32m~/anaconda3/lib/python3.6/site-packages/scipy/interpolate/interpolate.py\u001b[0m in \u001b[0;36m_check_bounds\u001b[0;34m(self, x_new)\u001b[0m\n\u001b[1;32m    661\u001b[0m         \u001b[0;31m# !! Could provide more information about which values are out of bounds\u001b[0m\u001b[0;34m\u001b[0m\u001b[0;34m\u001b[0m\u001b[0m\n\u001b[1;32m    662\u001b[0m         \u001b[0;32mif\u001b[0m \u001b[0mself\u001b[0m\u001b[0;34m.\u001b[0m\u001b[0mbounds_error\u001b[0m \u001b[0;32mand\u001b[0m \u001b[0mbelow_bounds\u001b[0m\u001b[0;34m.\u001b[0m\u001b[0many\u001b[0m\u001b[0;34m(\u001b[0m\u001b[0;34m)\u001b[0m\u001b[0;34m:\u001b[0m\u001b[0;34m\u001b[0m\u001b[0m\n\u001b[0;32m--> 663\u001b[0;31m             raise ValueError(\"A value in x_new is below the interpolation \"\n\u001b[0m\u001b[1;32m    664\u001b[0m                              \"range.\")\n\u001b[1;32m    665\u001b[0m         \u001b[0;32mif\u001b[0m \u001b[0mself\u001b[0m\u001b[0;34m.\u001b[0m\u001b[0mbounds_error\u001b[0m \u001b[0;32mand\u001b[0m \u001b[0mabove_bounds\u001b[0m\u001b[0;34m.\u001b[0m\u001b[0many\u001b[0m\u001b[0;34m(\u001b[0m\u001b[0;34m)\u001b[0m\u001b[0;34m:\u001b[0m\u001b[0;34m\u001b[0m\u001b[0m\n",
      "\u001b[0;31mValueError\u001b[0m: A value in x_new is below the interpolation range."
     ]
    }
   ],
   "source": [
    "MM=[];RR=[];rhorho=[]\n",
    "\n",
    "for pc in psc:\n",
    "    MRrho=StaticSeqMR([m0,pc,nu0],r0,dr)\n",
    "   # print(MRrho)\n",
    "    RR=RR+[MRrho[1]]\n",
    "    MM=MM+[MRrho[0]]\n",
    "    rhorho=rhorho+[MRrho[2]]"
   ]
  },
  {
   "cell_type": "code",
   "execution_count": 59,
   "metadata": {},
   "outputs": [
    {
     "data": {
      "text/plain": [
       "[317084770210761.8,\n",
       " 354541796851761.56,\n",
       " 397897634701508.5,\n",
       " 446821049762795.75,\n",
       " 501346355204914.56,\n",
       " 562303450713041.44,\n",
       " 630988319258063.4,\n",
       " 707945119342047.4,\n",
       " 794330974551833.6,\n",
       " 891260972564100.2,\n",
       " 999999598920593.2,\n",
       " 1122017457057163.0,\n",
       " 1258932994747192.8,\n",
       " 1412538446418402.2]"
      ]
     },
     "execution_count": 59,
     "metadata": {},
     "output_type": "execute_result"
    }
   ],
   "source": [
    "rhorho"
   ]
  },
  {
   "cell_type": "code",
   "execution_count": 60,
   "metadata": {},
   "outputs": [
    {
     "data": {
      "text/plain": [
       "array([3.16227766e+14, 3.54813389e+14, 3.98107171e+14, 4.46683592e+14,\n",
       "       5.01187234e+14, 5.62341325e+14, 6.30957344e+14, 7.07945784e+14,\n",
       "       7.94328235e+14, 8.91250938e+14, 1.00000000e+15, 1.12201845e+15,\n",
       "       1.25892541e+15, 1.41253754e+15, 1.58489319e+15, 1.77827941e+15,\n",
       "       1.99526231e+15, 2.23872114e+15, 2.51188643e+15, 2.81838293e+15])"
      ]
     },
     "execution_count": 60,
     "metadata": {},
     "output_type": "execute_result"
    }
   ],
   "source": [
    "rhosc"
   ]
  },
  {
   "cell_type": "markdown",
   "metadata": {},
   "source": [
    "### Mass-Radius Relation"
   ]
  },
  {
   "cell_type": "markdown",
   "metadata": {},
   "source": [
    "Plotting the M-R relation"
   ]
  },
  {
   "cell_type": "code",
   "execution_count": null,
   "metadata": {},
   "outputs": [],
   "source": [
    "plt.rc('axes', labelsize=20)\n",
    "plt.rc('xtick', labelsize=8)\n",
    "plt.rc('ytick', labelsize=8)\n",
    "\n",
    "fig=plt.figure()\n",
    "ax = fig.add_subplot(1, 1, 1)\n",
    "\n",
    "plt.plot(RR, MM,'b-', linewidth=1.2) \n",
    "plt.xlabel(r'$R\\,[km]$')\n",
    "plt.ylabel(r'$M/M_{\\odot}$')\n",
    "plt.savefig('MRrel_NL3.png', format='png', dpi=1000)\n",
    "#plt.savefig('MRrel_NL3.eps')\n",
    "plt.show()\n",
    "plt.clf()"
   ]
  },
  {
   "cell_type": "markdown",
   "metadata": {},
   "source": [
    "### Mass-Central Density Relation"
   ]
  },
  {
   "cell_type": "markdown",
   "metadata": {},
   "source": [
    "Plotting the M-$\\rho_c$ relation"
   ]
  },
  {
   "cell_type": "code",
   "execution_count": null,
   "metadata": {},
   "outputs": [],
   "source": [
    "plt.rc('axes', labelsize=20)\n",
    "plt.rc('xtick', labelsize=8)\n",
    "plt.rc('ytick', labelsize=8)\n",
    "\n",
    "fig=plt.figure()\n",
    "ax = fig.add_subplot(1, 1, 1)\n",
    "\n",
    "plt.plot(rhorho, MM,'b-', linewidth=1.2)\n",
    "plt.xscale('log')\n",
    "plt.xlabel(r'$\\rho_c\\,[g/cm^{3}]$')\n",
    "plt.ylabel(r'$M/M_{\\odot}$')\n",
    "plt.savefig('Mrhorel_NL3.png', format='png', dpi=1000)\n",
    "#plt.savefig('MRrhorel_NL3.eps')\n",
    "plt.show()\n",
    "plt.clf()"
   ]
  },
  {
   "cell_type": "code",
   "execution_count": null,
   "metadata": {},
   "outputs": [],
   "source": []
  }
 ],
 "metadata": {
  "kernelspec": {
   "display_name": "Python 3",
   "language": "python",
   "name": "python3"
  },
  "language_info": {
   "codemirror_mode": {
    "name": "ipython",
    "version": 3
   },
   "file_extension": ".py",
   "mimetype": "text/x-python",
   "name": "python",
   "nbconvert_exporter": "python",
   "pygments_lexer": "ipython3",
   "version": "3.6.4"
  }
 },
 "nbformat": 4,
 "nbformat_minor": 2
}
