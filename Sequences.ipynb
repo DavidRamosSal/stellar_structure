{
 "cells": [
  {
   "cell_type": "code",
   "execution_count": 2,
   "metadata": {},
   "outputs": [],
   "source": [
    "import numpy as np\n",
    "import matplotlib.pyplot as plt\n",
    "from scipy import integrate\n",
    "from scipy import interpolate"
   ]
  },
  {
   "cell_type": "code",
   "execution_count": 3,
   "metadata": {},
   "outputs": [],
   "source": [
    "import Physical_Const as phys\n",
    "h=phys.h \n",
    "c=phys.c\n",
    "G=phys.G\n",
    "Msun=phys.Msun\n",
    "mn=phys.mn # Neutron mass\n",
    "\n",
    "\n",
    "Sigma=mn**4.0*c**3.0/(8.0*np.pi**2*(h/(2.0*np.pi))**3.0) #Dimensions of energy density\n",
    "b=c/np.sqrt(Sigma*G) # Dimensions of radius\n",
    "mdim=b*c**2.0/G # Dimensions of mass\n",
    "pdim=Sigma*c**2 # Dimensions of pressure"
   ]
  },
  {
   "cell_type": "code",
   "execution_count": 4,
   "metadata": {},
   "outputs": [],
   "source": [
    "rhoNL3,PNL3=np.loadtxt('EOS/EOSFull_NL3_BPS02.dat',usecols=(0,1),unpack=True)\n",
    "P_NL3=interpolate.interp1d(rhoNL3/Sigma,PNL3/pdim)\n",
    "rho_NL3=interpolate.interp1d(PNL3/pdim,rhoNL3/Sigma)\n",
    "\n",
    "rhoSLy,PSLy=np.loadtxt('EOS/sly.dat',usecols=(2,1),unpack=True)\n",
    "P_SLy=interpolate.interp1d(rhoSLy/Sigma,(PSLy*c**2)/pdim)\n",
    "rho_SLy=interpolate.interp1d((PSLy*c**2)/pdim,rhoSLy/Sigma)\n",
    "\n",
    "rhoBSK19,PBSK19=np.loadtxt('EOS/bsk19.dat',usecols=(1,2),unpack=True)\n",
    "P_BSK19=interpolate.interp1d(rhoBSK19/Sigma,(PBSK19*c**2)/pdim)\n",
    "rho_BSK19=interpolate.interp1d((PBSK19*c**2)/pdim,rhoBSK19/Sigma)\n",
    "\n",
    "rhoBSK20,PBSK20=np.loadtxt('EOS/bsk20.dat',usecols=(1,2),unpack=True)\n",
    "P_BSK20=interpolate.interp1d(rhoBSK20/Sigma,(PBSK20*c**2)/pdim)\n",
    "rho_BSK20=interpolate.interp1d((PBSK20*c**2)/pdim,rhoBSK20/Sigma)\n",
    "\n",
    "rhoALF1,PALF1=np.loadtxt('EOS/alf1.dat',usecols=(2,1),unpack=True)\n",
    "P_ALF1=interpolate.interp1d(rhoALF1/Sigma,(PALF1*c**2)/pdim)\n",
    "rho_ALF1=interpolate.interp1d((PALF1*c**2)/pdim,rhoALF1/Sigma)\n",
    "\n",
    "rhoH1,PH1=np.loadtxt('EOS/H1.dat',usecols=(2,1),unpack=True)\n",
    "P_H1=interpolate.interp1d(rhoH1/Sigma,(PH1*c**2)/pdim)\n",
    "rho_H1=interpolate.interp1d((PH1*c**2)/pdim,rhoH1/Sigma)\n",
    "\n",
    "rhoSQM1,PSQM1=np.loadtxt('EOS/sqm1.dat',usecols=(2,1),unpack=True)\n",
    "P_SQM1=interpolate.interp1d(rhoSQM1/Sigma,(PSQM1*c**2)/pdim)\n",
    "rho_SQM1=interpolate.interp1d((PSQM1*c**2)/pdim,rhoSQM1/Sigma)\n",
    "\n",
    "rhoSQM2,PSQM2=np.loadtxt('EOS/sqm2.dat',usecols=(2,1),unpack=True)\n",
    "P_SQM2=interpolate.interp1d(rhoSQM2/Sigma,(PSQM2*c**2)/pdim)\n",
    "rho_SQM2=interpolate.interp1d((PSQM2*c**2)/pdim,rhoSQM2/Sigma)"
   ]
  },
  {
   "cell_type": "code",
   "execution_count": 6,
   "metadata": {},
   "outputs": [
    {
     "data": {
      "text/plain": [
       "7.8"
      ]
     },
     "execution_count": 6,
     "metadata": {},
     "output_type": "execute_result"
    }
   ],
   "source": [
    "rhoNL3[0]"
   ]
  },
  {
   "cell_type": "code",
   "execution_count": 7,
   "metadata": {},
   "outputs": [
    {
     "data": {
      "image/png": "[encoded data removed]",
      "text/plain": [
       "<matplotlib.figure.Figure at 0x7ff3637e5208>"
      ]
     },
     "metadata": {},
     "output_type": "display_data"
    },
    {
     "data": {
      "text/plain": [
       "<matplotlib.figure.Figure at 0x7ff3637e57b8>"
      ]
     },
     "metadata": {},
     "output_type": "display_data"
    }
   ],
   "source": [
    "plt.rc('text', usetex=True)\n",
    "plt.rc('font', family='serif')\n",
    "plt.rc('axes', labelsize=20)\n",
    "plt.rc('xtick', labelsize=8)\n",
    "plt.rc('ytick', labelsize=8)\n",
    "\n",
    "fig=plt.figure()\n",
    "ax = fig.add_subplot(1, 1, 1)\n",
    "\n",
    "plt.loglog(rhoNL3,P_NL3(rhoNL3/Sigma)*pdim,'k-', \\\n",
    "           linewidth=1,label=\"NL3\") # Interpolación\n",
    "#plt.loglog(rhoNL3,PNL3,'o', \\\n",
    " #          markersize=0.5) # Valores de la tabla\n",
    "\n",
    "plt.loglog(rhoSLy,P_SLy(rhoSLy/Sigma)*pdim,'-', \\\n",
    "           linewidth=1,label=\"SLy\") \n",
    "#plt.loglog(rhoSLy,PSLy*c**2,'o', \\\n",
    "  #         markersize=0.5) \n",
    "\n",
    "plt.loglog(rhoALF1,P_ALF1(rhoALF1/Sigma)*pdim,'-', \\\n",
    "           linewidth=1.2,label=\"ALF1\") \n",
    "#plt.loglog(rhoALF1,PALF1*c**2,'o', \\\n",
    "#           markersize=.5) \n",
    "\n",
    "plt.loglog(rhoH1,P_H1(rhoH1/Sigma)*pdim,'-', \\\n",
    "           linewidth=1.2,label=\"H1\") \n",
    "#plt.loglog(rhoH1,PH1*c**2,'o', \\\n",
    " #          markersize=.5) \n",
    "\n",
    "\n",
    "plt.loglog(rhoBSK19,P_BSK19(rhoBSK19/Sigma)*pdim,'-', \\\n",
    "           linewidth=1.2,label=\"BSK19\") \n",
    "#plt.loglog(rhoBSK19,PBSK19*c**2,'o', \\\n",
    " #          markersize=.5) # Valores de la tabla\n",
    "\n",
    "plt.loglog(rhoBSK20,P_BSK20(rhoBSK20/Sigma)*pdim,'-', \\\n",
    "           linewidth=1.2,label=\"BSK20\") \n",
    "#plt.loglog(rhoBSK20,PBSK20*c**2,'o', \\\n",
    " #          markersize=.5) # Valores de la tabla\n",
    "\n",
    "#-------------Strange Quark Matter (Don't know how they work)\n",
    "    \n",
    "#plt.loglog(rhoSQM1,P_SQM1(rhoSQM1/Sigma)*pdim,'-', \\\n",
    " #          linewidth=1.2,label=\"SQM1\") \n",
    "#plt.loglog(rhoBSK20,PBSK20*c**2,'o', \\\n",
    " #          markersize=.5) # Valores de la tabla\n",
    "    \n",
    "#plt.loglog(rhoSQM2,P_SQM2(rhoSQM2/Sigma)*pdim,'-', \\\n",
    " #          linewidth=1.2,label=\"SQM2\") \n",
    "#plt.loglog(rhoBSK20,PBSK20*c**2,'o', \\\n",
    " #          markersize=.5) # Valores de la tabla    \n",
    "    \n",
    "plt.xlabel(r'$\\rho\\,[g/cm^3]$')\n",
    "plt.ylabel(r'$P\\,[dyn/cm^{2}]$')\n",
    "plt.legend()\n",
    "plt.savefig('figures/EOSs1.pdf', format='pdf', dpi=1000,bbox_inches=\"tight\")\n",
    "plt.show()\n",
    "plt.clf()"
   ]
  },
  {
   "cell_type": "code",
   "execution_count": 6,
   "metadata": {},
   "outputs": [],
   "source": [
    "def RK4Step(f, r, y, dr):\n",
    "    k1,l1 = f(r,y)\n",
    "    \n",
    "    k2,l2 = f(r+0.5*dr,[y[0]+0.5*dr*k1,y[1]+0.5*dr*l1])   \n",
    "    \n",
    "    k3,l3 = f(r+0.5*dr,[y[0]+0.5*dr*k2,y[1]+0.5*dr*l2])\n",
    "    \n",
    "    k4,l4 = f(r+dr,[y[0]+dr*k3,y[1]+dr*l3])\n",
    "    \n",
    "    k=(dr/6)*(k1+k2+k3+k4)\n",
    "    l=(dr/6)*(l1+l2+l3+l4)\n",
    "    return [y[0]+k,y[1]+l]"
   ]
  },
  {
   "cell_type": "code",
   "execution_count": 7,
   "metadata": {},
   "outputs": [],
   "source": [
    "def stepsize(m,P,ds,delta):\n",
    "    return delta*((1/m)*ds[0]-(1/P)*ds[1])**(-1)"
   ]
  },
  {
   "cell_type": "code",
   "execution_count": 8,
   "metadata": {},
   "outputs": [],
   "source": [
    "def staticMR(y0,r0,dr0,rhoEoS):\n",
    "    def TOV(r,y):\n",
    "        mns, pns = y\n",
    "        #print('P=',pns)\n",
    "        dmdr=4.0*np.pi*r**2.0*rhoEoS(pns) #f(P)\n",
    "        dpdr=-((4.0*np.pi*r**3.0*pns+mns)/(r*(r-2.0*mns)))*(pns+rhoEoS(pns)) #g(P,m)\n",
    "        return [dmdr,dpdr]\n",
    "\n",
    "    y=RK4Step(TOV,r0,[y0[0],y0[1]],dr0) #first step taken arbitrary (dr0) (for now)\n",
    "    r=r0+dr0\n",
    "    while rhoEoS(y[1])*Sigma > 2e+1 and y[1] > 0.0:\n",
    "       # print('P=',y[1],'rho=',rho_EoS(y[1])*Sigma)\n",
    "        dr=stepsize(y[0],y[1],TOV(r,[y[0],y[1]]),delta)\n",
    "        y=RK4Step(TOV,r,[y[0],y[1]],dr)\n",
    "        r=r+dr\n",
    "    return [y[0]*mdim/Msun,r*b*1e-5,rhoEoS(y0[1])*Sigma] "
   ]
  },
  {
   "cell_type": "code",
   "execution_count": 9,
   "metadata": {},
   "outputs": [],
   "source": [
    "def MRrho(m0,r0,dr0,rhosc,rhoEoS,PEoS):\n",
    "    psc=PEoS(rhosc/Sigma) #Range of central pressures\n",
    "    MM=[];RR=[];rhorho=[]\n",
    "\n",
    "    for pc in psc:\n",
    "        MRrho=staticMR([m0,pc],r0,dr0,rhoEoS)\n",
    "       # print(MRrho)\n",
    "        RR=RR+[MRrho[1]]\n",
    "        MM=MM+[MRrho[0]]\n",
    "        rhorho=rhorho+[MRrho[2]]\n",
    "        \n",
    "    return [RR,MM,rhorho]"
   ]
  },
  {
   "cell_type": "code",
   "execution_count": 10,
   "metadata": {},
   "outputs": [],
   "source": [
    "#Range of central densities\n",
    "n=np.arange(14.5,15.61,0.02)\n",
    "rhosc=10.0**n \n",
    "\n",
    "#Initial values\n",
    "dr0=1e-8 # Step size\n",
    "r0=dr0 # Initial point\n",
    "m0=0 \n",
    "delta=0.1"
   ]
  },
  {
   "cell_type": "code",
   "execution_count": 30,
   "metadata": {},
   "outputs": [],
   "source": [
    "MRALF1=MRrho(m0,r0,dr0,rhosc,rho_ALF1,P_ALF1)\n",
    "MRSLy=MRrho(m0,r0,dr0,rhosc,rho_SLy,P_SLy)\n",
    "MRNL3=MRrho(m0,r0,dr0,rhosc,rho_NL3,P_NL3)\n",
    "MRH1=MRrho(m0,r0,dr0,rhosc,rho_H1,P_H1)\n",
    "MRBSK19=MRrho(m0,r0,dr0,rhosc,rho_BSK19,P_BSK19)\n",
    "MRBSK20=MRrho(m0,r0,dr0,rhosc,rho_BSK20,P_BSK20)\n"
   ]
  },
  {
   "cell_type": "code",
   "execution_count": 31,
   "metadata": {},
   "outputs": [
    {
     "data": {
      "image/png": "[encoded data removed]",
      "text/plain": [
       "<matplotlib.figure.Figure at 0x7fd7e42c8ef0>"
      ]
     },
     "metadata": {},
     "output_type": "display_data"
    },
    {
     "data": {
      "text/plain": [
       "<matplotlib.figure.Figure at 0x7fd7b720c940>"
      ]
     },
     "metadata": {},
     "output_type": "display_data"
    }
   ],
   "source": [
    "plt.rc('text', usetex=True)\n",
    "plt.rc('font', family='serif')\n",
    "plt.rc('axes', labelsize=20)\n",
    "plt.rc('xtick', labelsize=8)\n",
    "plt.rc('ytick', labelsize=8)\n",
    "\n",
    "fig = plt.figure()\n",
    "ax = fig.add_subplot(1, 1, 1)\n",
    "\n",
    "plt.plot(MRALF1[0], MRALF1[1],'-', linewidth=1.2,label='ALF1')\n",
    "plt.plot(MRSLy[0], MRSLy[1],'-', linewidth=1.2,label='SLy')\n",
    "plt.plot(MRNL3[0], MRNL3[1],'-', linewidth=1.2,label='NL3')\n",
    "plt.plot(MRH1[0], MRH1[1],'-', linewidth=1.2,label='H1')\n",
    "plt.plot(MRBSK19[0], MRBSK19[1],'-', linewidth=1.2,label='BSK19')\n",
    "plt.plot(MRBSK20[0], MRBSK20[1],'-', linewidth=1.2,label='BSK20')\n",
    "\n",
    "plt.xlabel(r'$R\\,[km]$')\n",
    "plt.ylabel(r'$M/M_{\\odot}$')\n",
    "plt.legend()\n",
    "plt.savefig('figures/MRrels.pdf', format='pdf', dpi=1000,bbox_inches=\"tight\")\n",
    "plt.show()\n",
    "plt.clf()"
   ]
  }
 ],
 "metadata": {
  "kernelspec": {
   "display_name": "Python 3",
   "language": "python",
   "name": "python3"
  },
  "language_info": {
   "codemirror_mode": {
    "name": "ipython",
    "version": 3
   },
   "file_extension": ".py",
   "mimetype": "text/x-python",
   "name": "python",
   "nbconvert_exporter": "python",
   "pygments_lexer": "ipython3",
   "version": "3.6.4"
  }
 },
 "nbformat": 4,
 "nbformat_minor": 2
}
