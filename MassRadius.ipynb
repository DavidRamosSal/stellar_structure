{
 "cells": [
  {
   "cell_type": "code",
   "execution_count": 12,
   "metadata": {},
   "outputs": [],
   "source": [
    "import numpy as np\n",
    "import matplotlib.pyplot as plt\n",
    "from scipy import integrate\n",
    "from scipy import interpolate"
   ]
  },
  {
   "cell_type": "code",
   "execution_count": 13,
   "metadata": {},
   "outputs": [],
   "source": [
    "import Physical_Const as phys\n",
    "h=phys.h \n",
    "c=phys.c\n",
    "G=phys.G\n",
    "Msun=phys.Msun\n",
    "mn=phys.mn # Neutron mass\n",
    "\n",
    "\n",
    "Sigma=mn**4.0*c**3.0/(8.0*np.pi**2*(h/(2.0*np.pi))**3.0) #Dimensions of energy density\n",
    "b=c/np.sqrt(Sigma*G) # Dimensions of radius\n",
    "mdim=b*c**2.0/G # Dimensions of mass\n",
    "pdim=Sigma*c**2 # Dimensions of pressure"
   ]
  },
  {
   "cell_type": "code",
   "execution_count": 14,
   "metadata": {},
   "outputs": [],
   "source": [
    "rhoNL3,PNL3=np.loadtxt('EOSFull_NL3_BPS02.dat',usecols=(0,1),unpack=True)\n",
    "P_NL3=interpolate.interp1d(rhoNL3/Sigma,PNL3/pdim)\n",
    "rho_NL3=interpolate.interp1d(PNL3/pdim,rhoNL3/Sigma)\n",
    "\n",
    "rhoSLy,PSLy=np.loadtxt('EOS/sly.dat',usecols=(2,1),unpack=True)\n",
    "P_SLy=interpolate.interp1d(rhoSLy/Sigma,(PSLy*c**2)/pdim)\n",
    "rho_SLy=interpolate.interp1d((PSLy*c**2)/pdim,rhoSLy/Sigma)\n",
    "\n",
    "rhoBSK19,PBSK19=np.loadtxt('EOS/bsk19.dat',usecols=(2,1),unpack=True)\n",
    "P_BSK19=interpolate.interp1d(rhoBSK19/Sigma,(PBSK19*c**2)/pdim)\n",
    "rho_BSK19=interpolate.interp1d((PBSK19*c**2)/pdim,rhoBSK19/Sigma)\n",
    "\n",
    "rhoBSK20,PBSK20=np.loadtxt('EOS/bsk20.dat',usecols=(2,1),unpack=True)\n",
    "P_BSK20=interpolate.interp1d(rhoBSK20/Sigma,(PBSK20*c**2)/pdim)\n",
    "rho_BSK20=interpolate.interp1d((PBSK20*c**2)/pdim,rhoBSK20/Sigma)\n",
    "\n",
    "rhoALF1,PALF1=np.loadtxt('EOS/alf1.dat',usecols=(2,1),unpack=True)\n",
    "P_ALF1=interpolate.interp1d(rhoALF1/Sigma,(PALF1*c**2)/pdim)\n",
    "rho_ALF1=interpolate.interp1d((PALF1*c**2)/pdim,rhoALF1/Sigma)\n",
    "\n",
    "rhoH1,PH1=np.loadtxt('EOS/H1.dat',usecols=(2,1),unpack=True)\n",
    "P_H1=interpolate.interp1d(rhoH1/Sigma,(PH1*c**2)/pdim)\n",
    "rho_H1=interpolate.interp1d((PH1*c**2)/pdim,rhoH1/Sigma)\n",
    "\n"
   ]
  },
  {
   "cell_type": "code",
   "execution_count": 15,
   "metadata": {},
   "outputs": [
    {
     "data": {
      "image/png": "[encoded data removed]",
      "text/plain": [
       "<matplotlib.figure.Figure at 0x7f5a73f0f358>"
      ]
     },
     "metadata": {},
     "output_type": "display_data"
    },
    {
     "data": {
      "text/plain": [
       "<matplotlib.figure.Figure at 0x7f5a73edd518>"
      ]
     },
     "metadata": {},
     "output_type": "display_data"
    }
   ],
   "source": [
    "plt.rc('axes', labelsize=20)\n",
    "plt.rc('xtick', labelsize=8)\n",
    "plt.rc('ytick', labelsize=8)\n",
    "\n",
    "fig=plt.figure()\n",
    "ax = fig.add_subplot(1, 1, 1)\n",
    "\n",
    "plt.loglog(rhoNL3,P_NL3(rhoNL3/Sigma)*pdim,'k-', \\\n",
    "           linewidth=1,label=\"Interpolation\") # Interpolación\n",
    "plt.loglog(rhoNL3,PNL3,'o', \\\n",
    "           markersize=0.5,label='Data') # Valores de la tabla\n",
    "\n",
    "plt.loglog(rhoSLy,P_SLy(rhoSLy/Sigma)*pdim,'-', \\\n",
    "           linewidth=1,label=\"Interpolation\") # Interpolación\n",
    "plt.loglog(rhoSLy,PSLy*c**2,'o', \\\n",
    "           markersize=0.5,label='Data') # Valores de la tabla\n",
    "\n",
    "#plt.loglog(rhoBSK19,P_BSK19(rhoBSK19/Sigma)*pdim,'-', \\\n",
    " #          linewidth=1.2,label=\"Interpolation\") # Interpolación\n",
    "#plt.loglog(rhoBSK19,PBSK19*c**2,'o', \\\n",
    " #          markersize=.3,label='Data') # Valores de la tabla\n",
    "\n",
    "#plt.loglog(rhoBSK20,P_BSK20(rhoBSK20/Sigma)*pdim,'-', \\\n",
    " #          linewidth=1.2,label=\"Interpolation\") # Interpolación\n",
    "#plt.loglog(rhoBSK20,PBSK20*c**2,'o', \\\n",
    " #          markersize=3,label='Data') # Valores de la tabla\n",
    "\n",
    "#plt.loglog(rhoALF1,P_ALF1(rhoALF1/Sigma)*pdim,'-', \\\n",
    " #          linewidth=1.2,label=\"Interpolation\") # Interpolación\n",
    "#plt.loglog(rhoALF1,PALF1*c**2,'o', \\\n",
    " #          markersize=3,label='Data') # Valores de la tabla\n",
    "\n",
    "#plt.loglog(rhoH1,P_H1(rhoH1/Sigma)*pdim,'-', \\\n",
    " #          linewidth=1.2,label=\"Interpolation\") # Interpolación\n",
    "#plt.loglog(rhoH1,PH1*c**2,'o', \\\n",
    " #          markersize=3,label='Data') # Valores de la tabla\n",
    "    \n",
    "    \n",
    "plt.xlabel(r'$\\rho\\,[g/cm^3]$')\n",
    "plt.ylabel(r'$P\\,[dyn/cm^{2}]$')\n",
    "plt.savefig('EOSs1.png', format='png', dpi=1000)\n",
    "#plt.savefig('NL3EoS.eps')\n",
    "plt.show()\n",
    "plt.clf()"
   ]
  },
  {
   "cell_type": "code",
   "execution_count": 24,
   "metadata": {},
   "outputs": [],
   "source": []
  },
  {
   "cell_type": "code",
   "execution_count": 29,
   "metadata": {},
   "outputs": [],
   "source": [
    "def StaticSeqMR(y0,r0,dr,rhoEoS):\n",
    "    def TOV(r,y):\n",
    "        mns, pns, nuns = y\n",
    "        #print(pns*pdim)\n",
    "        dmdr=4.0*np.pi*r**2.0*rhoEoS(pns)\n",
    "        dnudr=(4.0*np.pi*r**3.0*pns+mns)/(r*(r-2.0*mns))\n",
    "        dpdr=-dnudr*(pns+rhoEoS(pns))\n",
    "        return [dmdr,dpdr,dnudr]\n",
    "\n",
    "    Static=integrate.ode(TOV).set_integrator('dopri5',atol=1e-9) # Dopri (Dorman-Prince method) is a R-K method of order (4)5\n",
    "    Static.set_initial_value(y0,r0)\n",
    "    while Static.successful() and rhoEoS(Static.y[1])*Sigma>1e+6 and Static.y[1]>0:\n",
    "        Static.integrate(Static.t+dr)\n",
    "    mstar=Static.y[0]\n",
    "    rstar=Static.t\n",
    "    nustar=np.log(1-2.0*Static.y[0]/Static.t)-Static.y[2]  \n",
    "    return [mstar*mdim/Msun,rstar*b*1e-5,rhoEoS(y0[1])*Sigma] \n",
    "    # Returns mass of the star in solar masses, radius of the star in km and rho_c in cgs"
   ]
  },
  {
   "cell_type": "code",
   "execution_count": 30,
   "metadata": {},
   "outputs": [],
   "source": [
    "def MRrho(m0,nu0,r0,dr,rhosc,rhoEoS,PEoS):\n",
    "    psc=PEoS(rhosc/Sigma) #Range of central central pressures\n",
    "    MM=[];RR=[];rhorho=[]\n",
    "\n",
    "    for pc in psc:\n",
    "        MRrho=StaticSeqMR([m0,pc,nu0],r0,dr,rhoEoS)\n",
    "       # print(MRrho)\n",
    "        RR=RR+[MRrho[1]]\n",
    "        MM=MM+[MRrho[0]]\n",
    "        rhorho=rhorho+[MRrho[2]]\n",
    "        \n",
    "    return [RR,MM,rhorho]"
   ]
  },
  {
   "cell_type": "code",
   "execution_count": 33,
   "metadata": {},
   "outputs": [],
   "source": [
    "#Range of central densities\n",
    "n=np.arange(14.1,16,0.05)\n",
    "rhosc=10.0**n \n",
    "\n",
    "#Initial values\n",
    "dr=1e-4 # Step size\n",
    "r0=dr/1000.0 # Initial point\n",
    "m0=0 \n",
    "nu0=0"
   ]
  },
  {
   "cell_type": "code",
   "execution_count": 34,
   "metadata": {},
   "outputs": [
    {
     "ename": "ValueError",
     "evalue": "A value in x_new is below the interpolation range.",
     "output_type": "error",
     "traceback": [
      "\u001b[0;31m---------------------------------------------------------------------------\u001b[0m",
      "\u001b[0;31mValueError\u001b[0m                                Traceback (most recent call last)",
      "\u001b[0;32m<ipython-input-34-bd980ba23c03>\u001b[0m in \u001b[0;36m<module>\u001b[0;34m()\u001b[0m\n\u001b[1;32m      6\u001b[0m \u001b[0max\u001b[0m \u001b[0;34m=\u001b[0m \u001b[0mfig\u001b[0m\u001b[0;34m.\u001b[0m\u001b[0madd_subplot\u001b[0m\u001b[0;34m(\u001b[0m\u001b[0;36m1\u001b[0m\u001b[0;34m,\u001b[0m \u001b[0;36m1\u001b[0m\u001b[0;34m,\u001b[0m \u001b[0;36m1\u001b[0m\u001b[0;34m)\u001b[0m\u001b[0;34m\u001b[0m\u001b[0m\n\u001b[1;32m      7\u001b[0m \u001b[0;34m\u001b[0m\u001b[0m\n\u001b[0;32m----> 8\u001b[0;31m \u001b[0mMRSLy\u001b[0m\u001b[0;34m=\u001b[0m\u001b[0mMRrho\u001b[0m\u001b[0;34m(\u001b[0m\u001b[0mm0\u001b[0m\u001b[0;34m,\u001b[0m\u001b[0mnu0\u001b[0m\u001b[0;34m,\u001b[0m\u001b[0mr0\u001b[0m\u001b[0;34m,\u001b[0m\u001b[0mdr\u001b[0m\u001b[0;34m,\u001b[0m\u001b[0mrhosc\u001b[0m\u001b[0;34m,\u001b[0m\u001b[0mrho_ALF1\u001b[0m\u001b[0;34m,\u001b[0m\u001b[0mP_ALF1\u001b[0m\u001b[0;34m)\u001b[0m\u001b[0;34m\u001b[0m\u001b[0m\n\u001b[0m\u001b[1;32m      9\u001b[0m \u001b[0;34m\u001b[0m\u001b[0m\n\u001b[1;32m     10\u001b[0m \u001b[0mplt\u001b[0m\u001b[0;34m.\u001b[0m\u001b[0mplot\u001b[0m\u001b[0;34m(\u001b[0m\u001b[0mMRSLy\u001b[0m\u001b[0;34m[\u001b[0m\u001b[0;36m0\u001b[0m\u001b[0;34m]\u001b[0m\u001b[0;34m,\u001b[0m \u001b[0mMRSLy\u001b[0m\u001b[0;34m[\u001b[0m\u001b[0;36m1\u001b[0m\u001b[0;34m]\u001b[0m\u001b[0;34m,\u001b[0m\u001b[0;34m'b-'\u001b[0m\u001b[0;34m,\u001b[0m \u001b[0mlinewidth\u001b[0m\u001b[0;34m=\u001b[0m\u001b[0;36m1.2\u001b[0m\u001b[0;34m)\u001b[0m\u001b[0;34m\u001b[0m\u001b[0m\n",
      "\u001b[0;32m<ipython-input-30-64ccda612868>\u001b[0m in \u001b[0;36mMRrho\u001b[0;34m(m0, nu0, r0, dr, rhosc, rhoEoS, PEoS)\u001b[0m\n\u001b[1;32m      4\u001b[0m \u001b[0;34m\u001b[0m\u001b[0m\n\u001b[1;32m      5\u001b[0m     \u001b[0;32mfor\u001b[0m \u001b[0mpc\u001b[0m \u001b[0;32min\u001b[0m \u001b[0mpsc\u001b[0m\u001b[0;34m:\u001b[0m\u001b[0;34m\u001b[0m\u001b[0m\n\u001b[0;32m----> 6\u001b[0;31m         \u001b[0mMRrho\u001b[0m\u001b[0;34m=\u001b[0m\u001b[0mStaticSeqMR\u001b[0m\u001b[0;34m(\u001b[0m\u001b[0;34m[\u001b[0m\u001b[0mm0\u001b[0m\u001b[0;34m,\u001b[0m\u001b[0mpc\u001b[0m\u001b[0;34m,\u001b[0m\u001b[0mnu0\u001b[0m\u001b[0;34m]\u001b[0m\u001b[0;34m,\u001b[0m\u001b[0mr0\u001b[0m\u001b[0;34m,\u001b[0m\u001b[0mdr\u001b[0m\u001b[0;34m,\u001b[0m\u001b[0mrhoEoS\u001b[0m\u001b[0;34m)\u001b[0m\u001b[0;34m\u001b[0m\u001b[0m\n\u001b[0m\u001b[1;32m      7\u001b[0m        \u001b[0;31m# print(MRrho)\u001b[0m\u001b[0;34m\u001b[0m\u001b[0;34m\u001b[0m\u001b[0m\n\u001b[1;32m      8\u001b[0m         \u001b[0mRR\u001b[0m\u001b[0;34m=\u001b[0m\u001b[0mRR\u001b[0m\u001b[0;34m+\u001b[0m\u001b[0;34m[\u001b[0m\u001b[0mMRrho\u001b[0m\u001b[0;34m[\u001b[0m\u001b[0;36m1\u001b[0m\u001b[0;34m]\u001b[0m\u001b[0;34m]\u001b[0m\u001b[0;34m\u001b[0m\u001b[0m\n",
      "\u001b[0;32m<ipython-input-29-d77c4e2c1b96>\u001b[0m in \u001b[0;36mStaticSeqMR\u001b[0;34m(y0, r0, dr, rhoEoS)\u001b[0m\n\u001b[1;32m     11\u001b[0m     \u001b[0mStatic\u001b[0m\u001b[0;34m.\u001b[0m\u001b[0mset_initial_value\u001b[0m\u001b[0;34m(\u001b[0m\u001b[0my0\u001b[0m\u001b[0;34m,\u001b[0m\u001b[0mr0\u001b[0m\u001b[0;34m)\u001b[0m\u001b[0;34m\u001b[0m\u001b[0m\n\u001b[1;32m     12\u001b[0m     \u001b[0;32mwhile\u001b[0m \u001b[0mStatic\u001b[0m\u001b[0;34m.\u001b[0m\u001b[0msuccessful\u001b[0m\u001b[0;34m(\u001b[0m\u001b[0;34m)\u001b[0m \u001b[0;32mand\u001b[0m \u001b[0mrhoEoS\u001b[0m\u001b[0;34m(\u001b[0m\u001b[0mStatic\u001b[0m\u001b[0;34m.\u001b[0m\u001b[0my\u001b[0m\u001b[0;34m[\u001b[0m\u001b[0;36m1\u001b[0m\u001b[0;34m]\u001b[0m\u001b[0;34m)\u001b[0m\u001b[0;34m*\u001b[0m\u001b[0mSigma\u001b[0m\u001b[0;34m>\u001b[0m\u001b[0;36m1e+6\u001b[0m \u001b[0;32mand\u001b[0m \u001b[0mStatic\u001b[0m\u001b[0;34m.\u001b[0m\u001b[0my\u001b[0m\u001b[0;34m[\u001b[0m\u001b[0;36m1\u001b[0m\u001b[0;34m]\u001b[0m\u001b[0;34m>\u001b[0m\u001b[0;36m0\u001b[0m\u001b[0;34m:\u001b[0m\u001b[0;34m\u001b[0m\u001b[0m\n\u001b[0;32m---> 13\u001b[0;31m         \u001b[0mStatic\u001b[0m\u001b[0;34m.\u001b[0m\u001b[0mintegrate\u001b[0m\u001b[0;34m(\u001b[0m\u001b[0mStatic\u001b[0m\u001b[0;34m.\u001b[0m\u001b[0mt\u001b[0m\u001b[0;34m+\u001b[0m\u001b[0mdr\u001b[0m\u001b[0;34m)\u001b[0m\u001b[0;34m\u001b[0m\u001b[0m\n\u001b[0m\u001b[1;32m     14\u001b[0m     \u001b[0mmstar\u001b[0m\u001b[0;34m=\u001b[0m\u001b[0mStatic\u001b[0m\u001b[0;34m.\u001b[0m\u001b[0my\u001b[0m\u001b[0;34m[\u001b[0m\u001b[0;36m0\u001b[0m\u001b[0;34m]\u001b[0m\u001b[0;34m\u001b[0m\u001b[0m\n\u001b[1;32m     15\u001b[0m     \u001b[0mrstar\u001b[0m\u001b[0;34m=\u001b[0m\u001b[0mStatic\u001b[0m\u001b[0;34m.\u001b[0m\u001b[0mt\u001b[0m\u001b[0;34m\u001b[0m\u001b[0m\n",
      "\u001b[0;32m~/anaconda3/lib/python3.6/site-packages/scipy/integrate/_ode.py\u001b[0m in \u001b[0;36mintegrate\u001b[0;34m(self, t, step, relax)\u001b[0m\n\u001b[1;32m    430\u001b[0m             self._y, self.t = mth(self.f, self.jac or (lambda: None),\n\u001b[1;32m    431\u001b[0m                                   \u001b[0mself\u001b[0m\u001b[0;34m.\u001b[0m\u001b[0m_y\u001b[0m\u001b[0;34m,\u001b[0m \u001b[0mself\u001b[0m\u001b[0;34m.\u001b[0m\u001b[0mt\u001b[0m\u001b[0;34m,\u001b[0m \u001b[0mt\u001b[0m\u001b[0;34m,\u001b[0m\u001b[0;34m\u001b[0m\u001b[0m\n\u001b[0;32m--> 432\u001b[0;31m                                   self.f_params, self.jac_params)\n\u001b[0m\u001b[1;32m    433\u001b[0m         \u001b[0;32mexcept\u001b[0m \u001b[0mSystemError\u001b[0m\u001b[0;34m:\u001b[0m\u001b[0;34m\u001b[0m\u001b[0m\n\u001b[1;32m    434\u001b[0m             \u001b[0;31m# f2py issue with tuple returns, see ticket 1187.\u001b[0m\u001b[0;34m\u001b[0m\u001b[0;34m\u001b[0m\u001b[0m\n",
      "\u001b[0;32m~/anaconda3/lib/python3.6/site-packages/scipy/integrate/_ode.py\u001b[0m in \u001b[0;36mrun\u001b[0;34m(self, f, jac, y0, t0, t1, f_params, jac_params)\u001b[0m\n\u001b[1;32m   1088\u001b[0m     \u001b[0;32mdef\u001b[0m \u001b[0mrun\u001b[0m\u001b[0;34m(\u001b[0m\u001b[0mself\u001b[0m\u001b[0;34m,\u001b[0m \u001b[0mf\u001b[0m\u001b[0;34m,\u001b[0m \u001b[0mjac\u001b[0m\u001b[0;34m,\u001b[0m \u001b[0my0\u001b[0m\u001b[0;34m,\u001b[0m \u001b[0mt0\u001b[0m\u001b[0;34m,\u001b[0m \u001b[0mt1\u001b[0m\u001b[0;34m,\u001b[0m \u001b[0mf_params\u001b[0m\u001b[0;34m,\u001b[0m \u001b[0mjac_params\u001b[0m\u001b[0;34m)\u001b[0m\u001b[0;34m:\u001b[0m\u001b[0;34m\u001b[0m\u001b[0m\n\u001b[1;32m   1089\u001b[0m         x, y, iwork, istate = self.runner(*((f, t0, y0, t1) +\n\u001b[0;32m-> 1090\u001b[0;31m                                           tuple(self.call_args) + (f_params,)))\n\u001b[0m\u001b[1;32m   1091\u001b[0m         \u001b[0mself\u001b[0m\u001b[0;34m.\u001b[0m\u001b[0mistate\u001b[0m \u001b[0;34m=\u001b[0m \u001b[0mistate\u001b[0m\u001b[0;34m\u001b[0m\u001b[0m\n\u001b[1;32m   1092\u001b[0m         \u001b[0;32mif\u001b[0m \u001b[0mistate\u001b[0m \u001b[0;34m<\u001b[0m \u001b[0;36m0\u001b[0m\u001b[0;34m:\u001b[0m\u001b[0;34m\u001b[0m\u001b[0m\n",
      "\u001b[0;32m<ipython-input-29-d77c4e2c1b96>\u001b[0m in \u001b[0;36mTOV\u001b[0;34m(r, y)\u001b[0m\n\u001b[1;32m      3\u001b[0m         \u001b[0mmns\u001b[0m\u001b[0;34m,\u001b[0m \u001b[0mpns\u001b[0m\u001b[0;34m,\u001b[0m \u001b[0mnuns\u001b[0m \u001b[0;34m=\u001b[0m \u001b[0my\u001b[0m\u001b[0;34m\u001b[0m\u001b[0m\n\u001b[1;32m      4\u001b[0m         \u001b[0;31m#print(pns*pdim)\u001b[0m\u001b[0;34m\u001b[0m\u001b[0;34m\u001b[0m\u001b[0m\n\u001b[0;32m----> 5\u001b[0;31m         \u001b[0mdmdr\u001b[0m\u001b[0;34m=\u001b[0m\u001b[0;36m4.0\u001b[0m\u001b[0;34m*\u001b[0m\u001b[0mnp\u001b[0m\u001b[0;34m.\u001b[0m\u001b[0mpi\u001b[0m\u001b[0;34m*\u001b[0m\u001b[0mr\u001b[0m\u001b[0;34m**\u001b[0m\u001b[0;36m2.0\u001b[0m\u001b[0;34m*\u001b[0m\u001b[0mrhoEoS\u001b[0m\u001b[0;34m(\u001b[0m\u001b[0mpns\u001b[0m\u001b[0;34m)\u001b[0m\u001b[0;34m\u001b[0m\u001b[0m\n\u001b[0m\u001b[1;32m      6\u001b[0m         \u001b[0mdnudr\u001b[0m\u001b[0;34m=\u001b[0m\u001b[0;34m(\u001b[0m\u001b[0;36m4.0\u001b[0m\u001b[0;34m*\u001b[0m\u001b[0mnp\u001b[0m\u001b[0;34m.\u001b[0m\u001b[0mpi\u001b[0m\u001b[0;34m*\u001b[0m\u001b[0mr\u001b[0m\u001b[0;34m**\u001b[0m\u001b[0;36m3.0\u001b[0m\u001b[0;34m*\u001b[0m\u001b[0mpns\u001b[0m\u001b[0;34m+\u001b[0m\u001b[0mmns\u001b[0m\u001b[0;34m)\u001b[0m\u001b[0;34m/\u001b[0m\u001b[0;34m(\u001b[0m\u001b[0mr\u001b[0m\u001b[0;34m*\u001b[0m\u001b[0;34m(\u001b[0m\u001b[0mr\u001b[0m\u001b[0;34m-\u001b[0m\u001b[0;36m2.0\u001b[0m\u001b[0;34m*\u001b[0m\u001b[0mmns\u001b[0m\u001b[0;34m)\u001b[0m\u001b[0;34m)\u001b[0m\u001b[0;34m\u001b[0m\u001b[0m\n\u001b[1;32m      7\u001b[0m         \u001b[0mdpdr\u001b[0m\u001b[0;34m=\u001b[0m\u001b[0;34m-\u001b[0m\u001b[0mdnudr\u001b[0m\u001b[0;34m*\u001b[0m\u001b[0;34m(\u001b[0m\u001b[0mpns\u001b[0m\u001b[0;34m+\u001b[0m\u001b[0mrhoEoS\u001b[0m\u001b[0;34m(\u001b[0m\u001b[0mpns\u001b[0m\u001b[0;34m)\u001b[0m\u001b[0;34m)\u001b[0m\u001b[0;34m\u001b[0m\u001b[0m\n",
      "\u001b[0;32m~/anaconda3/lib/python3.6/site-packages/scipy/interpolate/polyint.py\u001b[0m in \u001b[0;36m__call__\u001b[0;34m(self, x)\u001b[0m\n\u001b[1;32m     77\u001b[0m         \"\"\"\n\u001b[1;32m     78\u001b[0m         \u001b[0mx\u001b[0m\u001b[0;34m,\u001b[0m \u001b[0mx_shape\u001b[0m \u001b[0;34m=\u001b[0m \u001b[0mself\u001b[0m\u001b[0;34m.\u001b[0m\u001b[0m_prepare_x\u001b[0m\u001b[0;34m(\u001b[0m\u001b[0mx\u001b[0m\u001b[0;34m)\u001b[0m\u001b[0;34m\u001b[0m\u001b[0m\n\u001b[0;32m---> 79\u001b[0;31m         \u001b[0my\u001b[0m \u001b[0;34m=\u001b[0m \u001b[0mself\u001b[0m\u001b[0;34m.\u001b[0m\u001b[0m_evaluate\u001b[0m\u001b[0;34m(\u001b[0m\u001b[0mx\u001b[0m\u001b[0;34m)\u001b[0m\u001b[0;34m\u001b[0m\u001b[0m\n\u001b[0m\u001b[1;32m     80\u001b[0m         \u001b[0;32mreturn\u001b[0m \u001b[0mself\u001b[0m\u001b[0;34m.\u001b[0m\u001b[0m_finish_y\u001b[0m\u001b[0;34m(\u001b[0m\u001b[0my\u001b[0m\u001b[0;34m,\u001b[0m \u001b[0mx_shape\u001b[0m\u001b[0;34m)\u001b[0m\u001b[0;34m\u001b[0m\u001b[0m\n\u001b[1;32m     81\u001b[0m \u001b[0;34m\u001b[0m\u001b[0m\n",
      "\u001b[0;32m~/anaconda3/lib/python3.6/site-packages/scipy/interpolate/interpolate.py\u001b[0m in \u001b[0;36m_evaluate\u001b[0;34m(self, x_new)\u001b[0m\n\u001b[1;32m    632\u001b[0m         \u001b[0my_new\u001b[0m \u001b[0;34m=\u001b[0m \u001b[0mself\u001b[0m\u001b[0;34m.\u001b[0m\u001b[0m_call\u001b[0m\u001b[0;34m(\u001b[0m\u001b[0mself\u001b[0m\u001b[0;34m,\u001b[0m \u001b[0mx_new\u001b[0m\u001b[0;34m)\u001b[0m\u001b[0;34m\u001b[0m\u001b[0m\n\u001b[1;32m    633\u001b[0m         \u001b[0;32mif\u001b[0m \u001b[0;32mnot\u001b[0m \u001b[0mself\u001b[0m\u001b[0;34m.\u001b[0m\u001b[0m_extrapolate\u001b[0m\u001b[0;34m:\u001b[0m\u001b[0;34m\u001b[0m\u001b[0m\n\u001b[0;32m--> 634\u001b[0;31m             \u001b[0mbelow_bounds\u001b[0m\u001b[0;34m,\u001b[0m \u001b[0mabove_bounds\u001b[0m \u001b[0;34m=\u001b[0m \u001b[0mself\u001b[0m\u001b[0;34m.\u001b[0m\u001b[0m_check_bounds\u001b[0m\u001b[0;34m(\u001b[0m\u001b[0mx_new\u001b[0m\u001b[0;34m)\u001b[0m\u001b[0;34m\u001b[0m\u001b[0m\n\u001b[0m\u001b[1;32m    635\u001b[0m             \u001b[0;32mif\u001b[0m \u001b[0mlen\u001b[0m\u001b[0;34m(\u001b[0m\u001b[0my_new\u001b[0m\u001b[0;34m)\u001b[0m \u001b[0;34m>\u001b[0m \u001b[0;36m0\u001b[0m\u001b[0;34m:\u001b[0m\u001b[0;34m\u001b[0m\u001b[0m\n\u001b[1;32m    636\u001b[0m                 \u001b[0;31m# Note fill_value must be broadcast up to the proper size\u001b[0m\u001b[0;34m\u001b[0m\u001b[0;34m\u001b[0m\u001b[0m\n",
      "\u001b[0;32m~/anaconda3/lib/python3.6/site-packages/scipy/interpolate/interpolate.py\u001b[0m in \u001b[0;36m_check_bounds\u001b[0;34m(self, x_new)\u001b[0m\n\u001b[1;32m    661\u001b[0m         \u001b[0;31m# !! Could provide more information about which values are out of bounds\u001b[0m\u001b[0;34m\u001b[0m\u001b[0;34m\u001b[0m\u001b[0m\n\u001b[1;32m    662\u001b[0m         \u001b[0;32mif\u001b[0m \u001b[0mself\u001b[0m\u001b[0;34m.\u001b[0m\u001b[0mbounds_error\u001b[0m \u001b[0;32mand\u001b[0m \u001b[0mbelow_bounds\u001b[0m\u001b[0;34m.\u001b[0m\u001b[0many\u001b[0m\u001b[0;34m(\u001b[0m\u001b[0;34m)\u001b[0m\u001b[0;34m:\u001b[0m\u001b[0;34m\u001b[0m\u001b[0m\n\u001b[0;32m--> 663\u001b[0;31m             raise ValueError(\"A value in x_new is below the interpolation \"\n\u001b[0m\u001b[1;32m    664\u001b[0m                              \"range.\")\n\u001b[1;32m    665\u001b[0m         \u001b[0;32mif\u001b[0m \u001b[0mself\u001b[0m\u001b[0;34m.\u001b[0m\u001b[0mbounds_error\u001b[0m \u001b[0;32mand\u001b[0m \u001b[0mabove_bounds\u001b[0m\u001b[0;34m.\u001b[0m\u001b[0many\u001b[0m\u001b[0;34m(\u001b[0m\u001b[0;34m)\u001b[0m\u001b[0;34m:\u001b[0m\u001b[0;34m\u001b[0m\u001b[0m\n",
      "\u001b[0;31mValueError\u001b[0m: A value in x_new is below the interpolation range."
     ]
    },
    {
     "data": {
      "image/png": "[encoded data removed]",
      "text/plain": [
       "<matplotlib.figure.Figure at 0x7f21d5eea2e8>"
      ]
     },
     "metadata": {},
     "output_type": "display_data"
    }
   ],
   "source": [
    "plt.rc('axes', labelsize=20)\n",
    "plt.rc('xtick', labelsize=8)\n",
    "plt.rc('ytick', labelsize=8)\n",
    "\n",
    "fig=plt.figure()\n",
    "ax = fig.add_subplot(1, 1, 1)\n",
    "\n",
    "MRSLy=MRrho(m0,nu0,r0,dr,rhosc,rho_ALF1,P_ALF1)\n",
    "\n",
    "plt.plot(MRSLy[0], MRSLy[1],'b-', linewidth=1.2) \n",
    "plt.xlabel(r'$R\\,[km]$')\n",
    "plt.ylabel(r'$M/M_{\\odot}$')\n",
    "plt.savefig('MRrel.png', format='png', dpi=1000)\n",
    "#plt.savefig('MRrel_NL3.eps')\n",
    "plt.show()\n",
    "plt.clf()"
   ]
  },
  {
   "cell_type": "code",
   "execution_count": null,
   "metadata": {},
   "outputs": [],
   "source": []
  }
 ],
 "metadata": {
  "kernelspec": {
   "display_name": "Python 3",
   "language": "python",
   "name": "python3"
  },
  "language_info": {
   "codemirror_mode": {
    "name": "ipython",
    "version": 3
   },
   "file_extension": ".py",
   "mimetype": "text/x-python",
   "name": "python",
   "nbconvert_exporter": "python",
   "pygments_lexer": "ipython3",
   "version": "3.6.4"
  }
 },
 "nbformat": 4,
 "nbformat_minor": 2
}
