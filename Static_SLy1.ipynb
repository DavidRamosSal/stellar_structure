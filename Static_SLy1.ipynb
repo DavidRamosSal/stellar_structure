{
 "cells": [
  {
   "cell_type": "code",
   "execution_count": 17,
   "metadata": {},
   "outputs": [],
   "source": [
    "import numpy as np\n",
    "import matplotlib.pyplot as plt\n",
    "from scipy import integrate\n",
    "from scipy import interpolate"
   ]
  },
  {
   "cell_type": "code",
   "execution_count": 18,
   "metadata": {},
   "outputs": [],
   "source": [
    "import Physical_Const as phys\n",
    "h=phys.h \n",
    "c=phys.c\n",
    "G=phys.G\n",
    "Msun=phys.Msun\n",
    "mn=phys.mn # Neutron mass\n",
    "\n",
    "\n",
    "Sigma=mn**4.0*c**3.0/(8.0*np.pi**2*(h/(2.0*np.pi))**3.0) #Dimensions of energy density\n",
    "b=c/np.sqrt(Sigma*G) # Dimensions of radius\n",
    "mdim=b*c**2.0/G # Dimensions of mass\n",
    "pdim=Sigma*c**2 # Dimensions of pressure"
   ]
  },
  {
   "cell_type": "code",
   "execution_count": 101,
   "metadata": {},
   "outputs": [],
   "source": [
    "rhoSLy,PSLy=np.loadtxt('EOS/sly.dat',usecols=(2,1),unpack=True)\n",
    "#P_SLy=interpolate.interp1d(rhoSLy/Sigma,(PSLy*c**2)/pdim)\n",
    "#rho_SLy=interpolate.interp1d((PSLy*c**2)/pdim,rhoSLy/Sigma)\n",
    "# Interpolating P\n",
    "\n",
    "def P_EoS(r):\n",
    "    pp=interpolate.interp1d(rhoSLy/Sigma,(PSLy*c**2)/pdim,kind='cubic')\n",
    "    return pp(r)\n",
    "\n",
    "\n",
    "# Interpolating Rho\n",
    "\n",
    "def rho_EoS(r):\n",
    "    rhorho=interpolate.interp1d((PSLy*c**2)/pdim,rhoSLy/Sigma,kind='cubic')\n",
    "    return rhorho(r)\n"
   ]
  },
  {
   "cell_type": "markdown",
   "metadata": {},
   "source": [
    "# Trying to set-up an integrator with stepsize based on some papers"
   ]
  },
  {
   "cell_type": "markdown",
   "metadata": {},
   "source": [
    "Starting with the reduced system (only $m$ and $P$)"
   ]
  },
  {
   "cell_type": "code",
   "execution_count": 150,
   "metadata": {},
   "outputs": [],
   "source": [
    "def TOV(r,y):\n",
    "    mns, pns = y\n",
    "    #print('P=',pns)\n",
    "    dmdr=4.0*np.pi*r**2.0*rho_EoS(pns) #f(P)\n",
    "    dpdr=-((4.0*np.pi*r**3.0*pns+mns)/(r*(r-2.0*mns)))*(pns+rho_EoS(pns)) #g(P,m)\n",
    "    return [dmdr,dpdr]"
   ]
  },
  {
   "cell_type": "markdown",
   "metadata": {},
   "source": [
    "Writing the Runge-Kutta step for the system of 2 ODE's (can be easily extended to three):"
   ]
  },
  {
   "cell_type": "code",
   "execution_count": 127,
   "metadata": {},
   "outputs": [],
   "source": [
    "def RK4Step(f, r, y, dr):\n",
    "    k1,l1 = f(r,y)\n",
    "    \n",
    "    k2,l2 = f(r+0.5*dr,[y[0]+0.5*dr*k1,y[1]+0.5*dr*l1])   \n",
    "    \n",
    "    k3,l3 = f(r+0.5*dr,[y[0]+0.5*dr*k2,y[1]+0.5*dr*l2])\n",
    "    \n",
    "    k4,l4 = f(r+dr,[y[0]+dr*k3,y[1]+dr*l3])\n",
    "    \n",
    "    k=(dr/6)*(k1+k2+k3+k4)\n",
    "    l=(dr/6)*(l1+l2+l3+l4)\n",
    "    return [y[0]+k,y[1]+l]"
   ]
  },
  {
   "cell_type": "markdown",
   "metadata": {},
   "source": [
    "Define the stepsize used in many (old) papers"
   ]
  },
  {
   "cell_type": "markdown",
   "metadata": {},
   "source": [
    "$$  \\Delta = \\delta \\left( \\frac { 1 } { m } \\frac { \\rm{d} m } { \\rm{d} r } - \\frac { 1 } { P } \\frac { \\rm{d} P } { \\rm{d} r } \\right) ^ { - 1 } $$"
   ]
  },
  {
   "cell_type": "markdown",
   "metadata": {},
   "source": [
    "Where $\\delta$ quantifies the number of integration steps per pressure-mass decay"
   ]
  },
  {
   "cell_type": "code",
   "execution_count": 128,
   "metadata": {},
   "outputs": [],
   "source": [
    "def stepsize(m,P,ds,delta):\n",
    "    return delta*((1/m)*ds[0]-(1/P)*ds[1])**(-1)"
   ]
  },
  {
   "cell_type": "markdown",
   "metadata": {},
   "source": [
    "Initial values and parameters"
   ]
  },
  {
   "cell_type": "code",
   "execution_count": 247,
   "metadata": {},
   "outputs": [],
   "source": [
    "r0=1e-4\n",
    "delta=0.1\n",
    "rho_0=10.0**15.61\n",
    "P_0=P_EoS(rho_0/Sigma)\n",
    "m_0=0"
   ]
  },
  {
   "cell_type": "code",
   "execution_count": 185,
   "metadata": {},
   "outputs": [
    {
     "ename": "ZeroDivisionError",
     "evalue": "division by zero",
     "output_type": "error",
     "traceback": [
      "\u001b[0;31m---------------------------------------------------------------------------\u001b[0m",
      "\u001b[0;31mZeroDivisionError\u001b[0m                         Traceback (most recent call last)",
      "\u001b[0;32m<ipython-input-185-09aaa730a023>\u001b[0m in \u001b[0;36m<module>\u001b[0;34m()\u001b[0m\n\u001b[0;32m----> 1\u001b[0;31m \u001b[0mstepsize\u001b[0m\u001b[0;34m(\u001b[0m\u001b[0mm_0\u001b[0m\u001b[0;34m,\u001b[0m\u001b[0mP_0\u001b[0m\u001b[0;34m,\u001b[0m\u001b[0mTOV\u001b[0m\u001b[0;34m(\u001b[0m\u001b[0mr0\u001b[0m\u001b[0;34m,\u001b[0m\u001b[0;34m[\u001b[0m\u001b[0mm_0\u001b[0m\u001b[0;34m,\u001b[0m\u001b[0mP_0\u001b[0m\u001b[0;34m]\u001b[0m\u001b[0;34m)\u001b[0m\u001b[0;34m,\u001b[0m\u001b[0mdelta\u001b[0m\u001b[0;34m)\u001b[0m\u001b[0;34m\u001b[0m\u001b[0m\n\u001b[0m",
      "\u001b[0;32m<ipython-input-128-13acf938db83>\u001b[0m in \u001b[0;36mstepsize\u001b[0;34m(m, P, ds, delta)\u001b[0m\n\u001b[1;32m      1\u001b[0m \u001b[0;32mdef\u001b[0m \u001b[0mstepsize\u001b[0m\u001b[0;34m(\u001b[0m\u001b[0mm\u001b[0m\u001b[0;34m,\u001b[0m\u001b[0mP\u001b[0m\u001b[0;34m,\u001b[0m\u001b[0mds\u001b[0m\u001b[0;34m,\u001b[0m\u001b[0mdelta\u001b[0m\u001b[0;34m)\u001b[0m\u001b[0;34m:\u001b[0m\u001b[0;34m\u001b[0m\u001b[0m\n\u001b[0;32m----> 2\u001b[0;31m     \u001b[0;32mreturn\u001b[0m \u001b[0mdelta\u001b[0m\u001b[0;34m*\u001b[0m\u001b[0;34m(\u001b[0m\u001b[0;34m(\u001b[0m\u001b[0;36m1\u001b[0m\u001b[0;34m/\u001b[0m\u001b[0mm\u001b[0m\u001b[0;34m)\u001b[0m\u001b[0;34m*\u001b[0m\u001b[0mds\u001b[0m\u001b[0;34m[\u001b[0m\u001b[0;36m0\u001b[0m\u001b[0;34m]\u001b[0m\u001b[0;34m-\u001b[0m\u001b[0;34m(\u001b[0m\u001b[0;36m1\u001b[0m\u001b[0;34m/\u001b[0m\u001b[0mP\u001b[0m\u001b[0;34m)\u001b[0m\u001b[0;34m*\u001b[0m\u001b[0mds\u001b[0m\u001b[0;34m[\u001b[0m\u001b[0;36m1\u001b[0m\u001b[0;34m]\u001b[0m\u001b[0;34m)\u001b[0m\u001b[0;34m**\u001b[0m\u001b[0;34m(\u001b[0m\u001b[0;34m-\u001b[0m\u001b[0;36m1\u001b[0m\u001b[0;34m)\u001b[0m\u001b[0;34m\u001b[0m\u001b[0m\n\u001b[0m",
      "\u001b[0;31mZeroDivisionError\u001b[0m: division by zero"
     ]
    }
   ],
   "source": [
    "stepsize(m_0,P_0,TOV(r0,[m_0,P_0]),delta)"
   ]
  },
  {
   "cell_type": "markdown",
   "metadata": {},
   "source": [
    "You have to choose the initial step "
   ]
  },
  {
   "cell_type": "markdown",
   "metadata": {},
   "source": [
    "# Rutina"
   ]
  },
  {
   "cell_type": "code",
   "execution_count": 233,
   "metadata": {},
   "outputs": [],
   "source": [
    "def static(f,y0,r0,dr0):\n",
    "    ms=[]; ps=[]; rs=[]; rhos=[]\n",
    "    ms.append(y0[0]); ps.append(y0[1]); rhos.append(rho_EoS(y0[1])); rs.append(r0)\n",
    "    y=RK4Step(f,r0,[m_0,P_0],dr0) #first step taken with an arbitrary step (for now)\n",
    "    r=r0+dr0\n",
    "    ms.append(y[0]); ps.append(y[1]); rhos.append(rho_EoS(y[1])); rs.append(r)\n",
    "    while rho_EoS(y[1])*Sigma > 2e+1 and y[1] > 0.0:\n",
    "       # print('P=',y[1],'rho=',rho_EoS(y[1])*Sigma)\n",
    "        dr=stepsize(y[0],y[1],f(r,[y[0],y[1]]),delta)\n",
    "        y=RK4Step(f,r,[y[0],y[1]],dr)\n",
    "        r=r+dr\n",
    "        ms.append(y[0]); ps.append(y[1]); rhos.append(rho_EoS(y[1])); rs.append(r)\n",
    "    return np.array([ms,ps,rhos,rs])  "
   ]
  },
  {
   "cell_type": "code",
   "execution_count": 239,
   "metadata": {},
   "outputs": [],
   "source": [
    "m1,p1,rho1,r1 = static(TOV,[m_0,P_0],r0,1e-8)"
   ]
  },
  {
   "cell_type": "code",
   "execution_count": 196,
   "metadata": {},
   "outputs": [
    {
     "data": {
      "image/png": "[encoded data removed]",
      "text/plain": [
       "<matplotlib.figure.Figure at 0x7fe4b873b278>"
      ]
     },
     "metadata": {},
     "output_type": "display_data"
    },
    {
     "data": {
      "text/plain": [
       "<matplotlib.figure.Figure at 0x7fe49a847e10>"
      ]
     },
     "metadata": {},
     "output_type": "display_data"
    }
   ],
   "source": [
    "plt.rc('text', usetex=True)\n",
    "plt.rc('font', family='serif')\n",
    "plt.rc('axes', labelsize=25)\n",
    "plt.rc('xtick', labelsize=12)\n",
    "plt.rc('ytick', labelsize=12)\n",
    "\n",
    "\n",
    "fig = plt.figure()\n",
    "ax = fig.add_subplot(1, 1, 1)\n",
    "\n",
    "plt.plot(r1*b*1e-5,rho1*Sigma,color='blue',linewidth='1.2') \n",
    "#plt.yscale('log')\n",
    "plt.xlabel(r'$r\\,\\rm{[km]}$')\n",
    "plt.ylabel(r'$\\rho\\,\\rm{[g/cm^3]}$')\n",
    "#plt.savefig('DProf_SLy.pdf', format='pdf', dpi=1000,bbox_inches=\"tight\")\n",
    "#plt.savefig('MRrel_NL3.eps')\n",
    "plt.show()\n",
    "plt.clf()"
   ]
  },
  {
   "cell_type": "code",
   "execution_count": 197,
   "metadata": {},
   "outputs": [
    {
     "data": {
      "image/png": "[encoded data removed]",
      "text/plain": [
       "<matplotlib.figure.Figure at 0x7fe49a7f3160>"
      ]
     },
     "metadata": {},
     "output_type": "display_data"
    },
    {
     "data": {
      "text/plain": [
       "<matplotlib.figure.Figure at 0x7fe49a774358>"
      ]
     },
     "metadata": {},
     "output_type": "display_data"
    }
   ],
   "source": [
    "plt.rc('text', usetex=True)\n",
    "plt.rc('font', family='serif')\n",
    "plt.rc('axes', labelsize=25)\n",
    "plt.rc('xtick', labelsize=12)\n",
    "plt.rc('ytick', labelsize=12)\n",
    "\n",
    "fig=plt.figure()\n",
    "ax = fig.add_subplot(1, 1, 1)\n",
    "\n",
    "plt.plot(r1*b*1e-5,p1*pdim,'b-', linewidth=1.2) \n",
    "plt.yscale('log')\n",
    "plt.xlabel(r'$r\\,\\rm{[km]}$')\n",
    "plt.ylabel(r'$P\\,\\rm{[dyn/cm^2]}$')\n",
    "#plt.savefig('PProf_SLy.pdf', format='pdf', dpi=1000,bbox_inches=\"tight\")\n",
    "plt.show()\n",
    "plt.clf()"
   ]
  },
  {
   "cell_type": "code",
   "execution_count": 202,
   "metadata": {},
   "outputs": [],
   "source": [
    "k=5 #orden del spline\n",
    "s=1e-6 #factor de suavizamiento\n",
    "rhos=interpolate.UnivariateSpline(r1, rho1, k=k, s=s)\n",
    "drho=interpolate.UnivariateSpline(r1, rho1, k=k, s=s).derivative(n=1)\n",
    "ddrho=interpolate.UnivariateSpline(r1, rho1, k=k, s=s).derivative(n=2)"
   ]
  },
  {
   "cell_type": "code",
   "execution_count": 203,
   "metadata": {},
   "outputs": [
    {
     "data": {
      "image/png": "[encoded data removed]",
      "text/plain": [
       "<matplotlib.figure.Figure at 0x7fe49a5acc18>"
      ]
     },
     "metadata": {},
     "output_type": "display_data"
    },
    {
     "data": {
      "text/plain": [
       "<matplotlib.figure.Figure at 0x7fe49a5e49b0>"
      ]
     },
     "metadata": {},
     "output_type": "display_data"
    }
   ],
   "source": [
    "plt.rc('axes', labelsize=20)\n",
    "plt.rc('xtick', labelsize=8)\n",
    "plt.rc('ytick', labelsize=8)\n",
    "\n",
    "fig=plt.figure(figsize=[6.4,8])\n",
    "\n",
    "plt.subplot(311)\n",
    "plt.plot(r1*b*1e-5,rho1*Sigma,color='red',marker='o',markersize='0.4') \n",
    "plt.plot(r1*b*1e-5,rhos(r1)*Sigma,color='blue',linewidth='0.5') \n",
    "#plt.yscale('log')\n",
    "#plt.xlabel(r'$r\\,\\rm{[km]}$')\n",
    "plt.ylabel(r'$\\rho\\,\\rm{[g/cm^3]}$')\n",
    "\n",
    "plt.subplot(312)\n",
    "plt.plot(r1*b*1e-5,drho(r1)*Sigma,'b-', linewidth=0.5) \n",
    "#plt.yscale('log')\n",
    "#plt.xlabel(r'$r\\,[km]$')\n",
    "plt.ylabel(r'$\\rho^{\\prime}\\,[g/cm^4]$')\n",
    "\n",
    "plt.subplot(313)\n",
    "plt.plot(r1*b*1e-5,ddrho(r1)*Sigma,'b-', linewidth=0.5) \n",
    "plt.ylabel(r'$\\rho^{\\prime\\prime}\\,[g/cm^5]$')\n",
    "plt.xlabel(r'$r\\,[km]$')\n",
    "\n",
    "fig.subplots_adjust(hspace=0.3)\n",
    "\n",
    "#plt.savefig('ddsSLy.pdf', format='pdf', dpi=1000)\n",
    "#plt.savefig('MRrel_NL3.eps')\n",
    "plt.show()\n",
    "plt.clf()"
   ]
  },
  {
   "cell_type": "markdown",
   "metadata": {},
   "source": [
    "# M-R and M-$\\rho_c$ diagrams"
   ]
  },
  {
   "cell_type": "markdown",
   "metadata": {},
   "source": [
    "Same integration routine but saving $M_{star}$, $R_{star}$ and $\\rho_c$."
   ]
  },
  {
   "cell_type": "code",
   "execution_count": 213,
   "metadata": {},
   "outputs": [],
   "source": [
    "def staticMR(f,y0,r0,dr0):\n",
    "    y=RK4Step(f,r0,[y0[0],y0[1]],dr0) #first step taken arbitrary (dr0) (for now)\n",
    "    r=r0+dr0\n",
    "    while rho_EoS(y[1])*Sigma > 2e+1 and y[1] > 0.0:\n",
    "       # print('P=',y[1],'rho=',rho_EoS(y[1])*Sigma)\n",
    "        dr=stepsize(y[0],y[1],TOV(r,[y[0],y[1]]),delta)\n",
    "        y=RK4Step(f,r,[y[0],y[1]],dr)\n",
    "        r=r+dr\n",
    "    return [y[0]*mdim/Msun,r*b*1e-5,rho_EoS(y0[1])*Sigma] "
   ]
  },
  {
   "cell_type": "code",
   "execution_count": 225,
   "metadata": {},
   "outputs": [],
   "source": [
    "n=np.arange(14.5,15.5,0.01)\n",
    "rhosc=10.0**n \n",
    "psc=P_EoS(rhosc/Sigma) "
   ]
  },
  {
   "cell_type": "code",
   "execution_count": 226,
   "metadata": {},
   "outputs": [],
   "source": [
    "MM=[];RR=[];rhorho=[]\n",
    "\n",
    "for pc in psc:\n",
    "    MRrho=staticMR(TOV,[m_0,pc],r0,1e-8)\n",
    "   # print(MRrho)\n",
    "    RR=RR+[MRrho[1]]\n",
    "    MM=MM+[MRrho[0]]\n",
    "    rhorho=rhorho+[MRrho[2]]"
   ]
  },
  {
   "cell_type": "code",
   "execution_count": 228,
   "metadata": {},
   "outputs": [
    {
     "data": {
      "image/png": "[encoded data removed]",
      "text/plain": [
       "<matplotlib.figure.Figure at 0x7fe49a488080>"
      ]
     },
     "metadata": {},
     "output_type": "display_data"
    },
    {
     "data": {
      "text/plain": [
       "<matplotlib.figure.Figure at 0x7fe49a676ba8>"
      ]
     },
     "metadata": {},
     "output_type": "display_data"
    }
   ],
   "source": [
    "plt.rc('axes', labelsize=20)\n",
    "plt.rc('xtick', labelsize=8)\n",
    "plt.rc('ytick', labelsize=8)\n",
    "\n",
    "fig=plt.figure()\n",
    "ax = fig.add_subplot(1, 1, 1)\n",
    "\n",
    "plt.plot(RR, MM,'b-', linewidth=1.2) \n",
    "plt.xlabel(r'$R\\,[km]$')\n",
    "plt.ylabel(r'$M/M_{\\odot}$')\n",
    "#plt.savefig('MRrel_NL3.png', format='png', dpi=1000)\n",
    "#plt.savefig('MRrel_NL3.eps')\n",
    "plt.show()\n",
    "plt.clf()"
   ]
  }
 ],
 "metadata": {
  "kernelspec": {
   "display_name": "Python 3",
   "language": "python",
   "name": "python3"
  },
  "language_info": {
   "codemirror_mode": {
    "name": "ipython",
    "version": 3
   },
   "file_extension": ".py",
   "mimetype": "text/x-python",
   "name": "python",
   "nbconvert_exporter": "python",
   "pygments_lexer": "ipython3",
   "version": "3.6.4"
  }
 },
 "nbformat": 4,
 "nbformat_minor": 2
}
