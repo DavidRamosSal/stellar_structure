{
 "cells": [
  {
   "cell_type": "markdown",
   "metadata": {},
   "source": [
    "# Dynamical stability of isotropic neutron star models"
   ]
  },
  {
   "cell_type": "markdown",
   "metadata": {},
   "source": [
    "Given a family of neutron star models associated to an EOS, a model with compactness $\\beta$ will be stable under small *global* radial adiabatic oscillations if the effective adiabatic index for that model $\\langle \\gamma \\rangle (\\beta)$ is higher than or equal to the critical adiabatic index for that model $\\gamma_{cr} (\\beta)$:\n",
    "\n",
    "$$ \\langle \\gamma \\rangle (\\beta) \\geq \\gamma_{cr} (\\beta) .$$\n",
    "\n",
    "Where\n",
    "\n",
    "$$ \\langle\\gamma\\rangle=\\frac{\\int_{0}^{R} e^{(\\lambda+3 \\nu) } \\gamma(r) P(r) r^{2} d r}{\\int_{0}^{R} e^{(\\lambda+3 \\nu) } P(r) r^{2} d r} $$\n",
    "\n",
    "and\n",
    "\n",
    "\\begin{align}\n",
    "    \\gamma_{cr} = \\frac{4}{3} +& \\frac{1}{36} \\frac{\\int_{0}^{R} e^{\\lambda+3 \\mathrm{v}}\\left[16 P+\\left(e^{\\lambda}-1\\right)\\left(P+\\rho \\right)\\right]\\left(e^{\\lambda}-1\\right) r^{2} d r}{\\int_{0}^{R} e^{\\lambda+3 \\mathrm{v}} P r^{2} d r} \\nonumber\n",
    "    \\\\ &+ \\frac{4 \\pi}{9} \\frac{\\int_{0}^{R} e^{3( \\lambda+ \\mathrm{v})}\\left[8 P+\\left(e^{\\lambda}+1\\right)\\left(P+\\rho \\right)\\right] P r^{4} d r}{\\int_{0}^{R} e^{\\lambda+3 \\mathrm{v}} P r^{2} d r}\n",
    "    \\\\ & + \\frac{16 \\pi^{2} }{9} \\frac{\\int_{0}^{R} e^{5 \\lambda+3 v }\\left(P+\\rho \\right) P^{2} r^{6} d r}{\\int_{0}^{R} e^{\\lambda+3 v } P r^{2} d r}. \\nonumber\n",
    "\\end{align}"
   ]
  },
  {
   "cell_type": "code",
   "execution_count": 1,
   "metadata": {},
   "outputs": [],
   "source": [
    "import os\n",
    "import numpy as np\n",
    "import matplotlib.pyplot as plt\n",
    "import matplotlib.ticker\n",
    "import matplotlib as mpl\n",
    "from scipy import integrate, interpolate\n",
    "from Physical_Const import *\n",
    "plt.rc('text', usetex=True)\n",
    "plt.rc('font', family='serif')\n",
    "plt.rc('axes', labelsize=21)\n",
    "plt.rc('xtick', labelsize=14)\n",
    "plt.rc('ytick', labelsize=14)\n",
    "plt.rc('legend',fontsize= 14,markerscale=1.5)\n",
    "plt.rcParams['axes.spines.right'] = True\n",
    "plt.rcParams['axes.spines.top'] = True\n",
    "mpl.rcParams['axes.linewidth'] = 1.0"
   ]
  },
  {
   "cell_type": "code",
   "execution_count": 2,
   "metadata": {},
   "outputs": [],
   "source": [
    "def aindex_stab(EOS,k=3,s=0.0):\n",
    "    # Listing the previously calculated models\n",
    "    owd=os.getcwd()\n",
    "    path=os.chdir('results/'+EOS)\n",
    "    listOfEntries= os.scandir(path)\n",
    "    models= []\n",
    "    for entry in listOfEntries:\n",
    "        if '1' in entry.name:\n",
    "            models.append(entry.name)\n",
    "    os.chdir(owd)\n",
    "    models.sort()\n",
    "    # Empty strings to save the\n",
    "    gamma_efs = []\n",
    "    gamma_crs = []\n",
    "    rhosc= []\n",
    "    betas=[]\n",
    "    for model in models:\n",
    "        m, P, rho, nu, lambd, r = np.loadtxt('results/'+ EOS +'/' + model ,unpack=True)\n",
    "        nu = nu - nu[-1] + 0.5*np.log(1-2*m[-1]/r[-1])\n",
    "        #drho=interpolate.UnivariateSpline(r, rho, k=k1, s=s1).derivative(n=1)\n",
    "        #dP=interpolate.UnivariateSpline(r, P, k=k2, s=s2).derivative(n=1)\n",
    "        dP = -(P+rho)*((m+4*np.pi*P*(r**3))/(r*(r-2*m)))\n",
    "        rhoEOS,PEOS=np.loadtxt('EOS/'+ EOS + '.dat',usecols=(2,1),unpack=True)\n",
    "        #gamma = ((rho+P)/P)*(dP(r)/drho(r))\n",
    "        vs=interpolate.UnivariateSpline(rhoEOS, PEOS, k=3, s=s).derivative(n=1)(rho*rhodim)\n",
    "        drho = dP/vs\n",
    "        gamma = (rho+P)/(P)*vs\n",
    "        gamma_ef = integrate.simps(np.exp(lambd+3*nu)*gamma*P*(r**2),r)/integrate.simps(np.exp(lambd+3*nu)*P*(r**2),r)\n",
    "        t1 = (4/9)*integrate.simps(np.exp((lambd+3*nu))*(16*P+(np.exp(2*lambd)-1)*(P+rho))*(np.exp(2*lambd)-1)*(r**2),r)/integrate.simps(np.exp(lambd+3*nu)*P*(r**2),r)\n",
    "        t2 = (4*np.pi/(9))*integrate.simps(np.exp(3*lambd+3*nu)*(8*P + (np.exp(2*lambd)+1)*(P+rho))*P*(r**4),r)/integrate.simps(np.exp(lambd+3*nu)*P*(r**2),r)\n",
    "        t3 = ((16*np.pi**2)/(9))*integrate.simps(np.exp(5*lambd+3*nu)*(P+rho)*(P**2)*(r**6),r)/integrate.simps(np.exp(lambd+3*nu)*P*(r**2),r)\n",
    "        gamma_cr = 4/3 + t1 + t2 + t3\n",
    "        gamma_efs.append(gamma_ef)\n",
    "        gamma_crs.append(gamma_cr)\n",
    "        betas.append(2*m[-1]/r[-1])\n",
    "        rhosc.append(rho[0]*rhodim)\n",
    "    return [rhosc,betas,gamma_efs,gamma_crs]"
   ]
  },
  {
   "cell_type": "code",
   "execution_count": 3,
   "metadata": {},
   "outputs": [
    {
     "name": "stderr",
     "output_type": "stream",
     "text": [
      "/home/dave/anaconda3/lib/python3.7/site-packages/ipykernel_launcher.py:22: RuntimeWarning: invalid value encountered in true_divide\n"
     ]
    }
   ],
   "source": [
    "rhoscALF1,betasALF1,gamma_efsALF1,gamma_crsALF1 = aindex_stab('wff1')"
   ]
  },
  {
   "cell_type": "code",
   "execution_count": 4,
   "metadata": {},
   "outputs": [],
   "source": [
    "RALF1,MALF1,rhocALF1=np.loadtxt('results/wff1/MRrhoc.dat',usecols=(0,1,2),unpack=True)"
   ]
  },
  {
   "cell_type": "code",
   "execution_count": 5,
   "metadata": {},
   "outputs": [],
   "source": [
    "beta_chandra = np.amax(MALF1)*Msun*G/(RALF1[np.argmax(MALF1)]*1e+5*c**2)"
   ]
  },
  {
   "cell_type": "code",
   "execution_count": 6,
   "metadata": {},
   "outputs": [
    {
     "data": {
      "text/plain": [
       "0.337343351166438"
      ]
     },
     "execution_count": 6,
     "metadata": {},
     "output_type": "execute_result"
    }
   ],
   "source": [
    "beta_chandra"
   ]
  },
  {
   "cell_type": "code",
   "execution_count": 12,
   "metadata": {
    "scrolled": true
   },
   "outputs": [
    {
     "data": {
      "image/png": "[encoded data removed]",
      "text/plain": [
       "<Figure size 432x288 with 1 Axes>"
      ]
     },
     "metadata": {
      "needs_background": "light"
     },
     "output_type": "display_data"
    }
   ],
   "source": [
    "fig, ax = plt.subplots()\n",
    "\n",
    "plt.plot(betasALF1,gamma_crsALF1,lw='1.5',color='r',linestyle='--',label=r'$\\gamma_{\\rm{cr}}$')\n",
    "\n",
    "plt.plot([beta_chandra,beta_chandra],[0,20])\n",
    "\n",
    "plt.plot(betasALF1,gamma_efsALF1,lw='2.0',color='blue',label=r'$\\langle \\gamma \\rangle$')\n",
    "\n",
    "ax.text(0.22, 15, r'$\\beta_{\\rm{chandra}}$', fontsize=15)\n",
    "\n",
    "plt.xlabel(r'$\\beta$')\n",
    "#plt.ylabel(r'$\\langle \\gamma \\rangle$')\n",
    "\n",
    "#plt.xscale('log')\n",
    "#plt.xlim(left=10**(14.7),right=10**(16.7))\n",
    "#plt.ylim(0,4.5)\n",
    "#plt.xlim(0,0.4)\n",
    "ax.tick_params(axis=\"x\", direction=\"in\",which='both')\n",
    "ax.tick_params(axis=\"y\", direction=\"in\",which='both')\n",
    "l = plt.legend(bbox_to_anchor=(-0.1,0.9), loc=\"upper left\", \n",
    "                bbox_transform=fig.transFigure, ncol=1, markerfirst = False,frameon=False)\n",
    "\n",
    "\n",
    "\n",
    "plt.savefig('AIndexStabALF1_cubic.pdf', format='pdf', dpi=1000,bbox_inches=\"tight\")\n",
    "plt.show()"
   ]
  },
  {
   "cell_type": "markdown",
   "metadata": {},
   "source": [
    "According to Koliogiannis and Moustakidis (2019) $\\langle \\gamma \\rangle$ and $\\gamma_{\\rm{cr}}$ should meet at $\\beta_{\\rm{chandra}}$."
   ]
  },
  {
   "cell_type": "markdown",
   "metadata": {},
   "source": [
    "### What went wrong?"
   ]
  },
  {
   "cell_type": "markdown",
   "metadata": {},
   "source": [
    "In order to integrate the TOV equations we interpolated a numerical EOS linearly, this recurrent jumps in the EOS could result on high errors in the numerical integration."
   ]
  },
  {
   "cell_type": "markdown",
   "metadata": {},
   "source": [
    "One possible solution is using the widely used piecewise polytropic interpolation, that could smooth abrupt jumps and give better results in the integrals."
   ]
  },
  {
   "cell_type": "markdown",
   "metadata": {},
   "source": [
    "Or..."
   ]
  },
  {
   "cell_type": "markdown",
   "metadata": {},
   "source": [
    "Koliogiannis and Moustakidis (2019) is using better integration techniques, for this we need to check their code."
   ]
  },
  {
   "cell_type": "code",
   "execution_count": null,
   "metadata": {},
   "outputs": [],
   "source": []
  }
 ],
 "metadata": {
  "kernelspec": {
   "display_name": "Python 3",
   "language": "python",
   "name": "python3"
  },
  "language_info": {
   "codemirror_mode": {
    "name": "ipython",
    "version": 3
   },
   "file_extension": ".py",
   "mimetype": "text/x-python",
   "name": "python",
   "nbconvert_exporter": "python",
   "pygments_lexer": "ipython3",
   "version": "3.7.6"
  }
 },
 "nbformat": 4,
 "nbformat_minor": 4
}
