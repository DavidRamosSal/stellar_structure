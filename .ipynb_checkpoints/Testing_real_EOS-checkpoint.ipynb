{
 "cells": [
  {
   "cell_type": "markdown",
   "metadata": {},
   "source": [
    "# Testing real EOS"
   ]
  },
  {
   "cell_type": "markdown",
   "metadata": {},
   "source": [
    "The equation of state is going to be a table of numbers $(\\rho_{i},P_{i})$, and will depend on the theoretical model used to model the interior of the neutron star."
   ]
  },
  {
   "cell_type": "markdown",
   "metadata": {},
   "source": [
    "The EOS's to be tested will be the presented in https://arxiv.org/abs/1603.02698 (as provided by the Xtreme Astrphysics Group at the University of Arizona in http://xtreme.as.arizona.edu/NeutronStars):\n",
    "\n",
    "|     EOS    |\n",
    "|:----------:|\n",
    "|    H1-7   |\n",
    "|  ALF1-ALF4 |\n",
    "|   AP1-AP4  |\n",
    "|     BBB2   |\n",
    "|   BGN1H1   |\n",
    "|   BPAL12   |\n",
    "|     BSK    |\n",
    "|     ENG    |\n",
    "|    GNH3    |\n",
    "|    GS1-2   |\n",
    "|    MPA1    |\n",
    "|    MS1-2   |\n",
    "|    PAL6    |\n",
    "|    PCL2    |\n",
    "|   QMC700   |\n",
    "|     SLY    |\n",
    "|   SQM1-3   |\n",
    "|   WFF1-3   |\n",
    "|     NL3    |"
   ]
  },
  {
   "cell_type": "code",
   "execution_count": 1,
   "metadata": {},
   "outputs": [],
   "source": [
    "import numpy as np\n",
    "import matplotlib.pyplot as plt\n",
    "from scipy import integrate, interpolate\n",
    "import math\n",
    "#import RK4, adaptive_step\n",
    "from static_structure import static, MRrhoc\n",
    "from Physical_Const import *"
   ]
  },
  {
   "cell_type": "code",
   "execution_count": 2,
   "metadata": {},
   "outputs": [],
   "source": [
    "r0=0\n",
    "dr0=1e-8\n",
    "m0=0\n",
    "nu0=0"
   ]
  },
  {
   "cell_type": "markdown",
   "metadata": {},
   "source": [
    "## H1"
   ]
  },
  {
   "cell_type": "markdown",
   "metadata": {},
   "source": [
    "Bla bla bla"
   ]
  },
  {
   "cell_type": "code",
   "execution_count": 3,
   "metadata": {},
   "outputs": [],
   "source": [
    "rhoH1,PH1=np.loadtxt('EOS/H1.dat',usecols=(2,1),unpack=True)"
   ]
  },
  {
   "cell_type": "code",
   "execution_count": 4,
   "metadata": {},
   "outputs": [],
   "source": [
    "n=np.arange(14.4,np.log10(np.amax(rhoH1)),0.005)\n",
    "rhosc=10.0**n\n",
    "MRH1=MRrhoc(rhosc/rhodim,m0,r0,dr0,rhoH1,PH1,'H1',(1+1e-3)*np.amin(rhoH1))"
   ]
  },
  {
   "cell_type": "code",
   "execution_count": 5,
   "metadata": {},
   "outputs": [],
   "source": [
    "R,M,rhoC=np.loadtxt('results/H1/MRrhoc.dat',usecols=(0,1,2),unpack=True)"
   ]
  },
  {
   "cell_type": "code",
   "execution_count": 7,
   "metadata": {},
   "outputs": [
    {
     "data": {
      "image/png": "[encoded data removed]",
      "text/plain": [
       "<Figure size 432x288 with 1 Axes>"
      ]
     },
     "metadata": {
      "needs_background": "light"
     },
     "output_type": "display_data"
    },
    {
     "data": {
      "text/plain": [
       "<Figure size 432x288 with 0 Axes>"
      ]
     },
     "metadata": {},
     "output_type": "display_data"
    }
   ],
   "source": [
    "fig = plt.figure()\n",
    "plt.plot(R, M,'-', linewidth=1.2,label='H1')\n",
    "plt.xlabel(r'$R\\,[km]$')\n",
    "plt.ylabel(r'$M/M_{\\odot}$')\n",
    "plt.legend()\n",
    "#plt.savefig('figures/MRrels.pdf', format='pdf', dpi=1000,bbox_inches=\"tight\")\n",
    "plt.show()\n",
    "plt.clf()"
   ]
  },
  {
   "cell_type": "code",
   "execution_count": 10,
   "metadata": {},
   "outputs": [
    {
     "data": {
      "image/png": "[encoded data removed]",
      "text/plain": [
       "<Figure size 432x288 with 1 Axes>"
      ]
     },
     "metadata": {
      "needs_background": "light"
     },
     "output_type": "display_data"
    },
    {
     "data": {
      "text/plain": [
       "<Figure size 432x288 with 0 Axes>"
      ]
     },
     "metadata": {},
     "output_type": "display_data"
    }
   ],
   "source": [
    "fig = plt.figure()\n",
    "plt.plot(rhoC, M,'-', linewidth=1.2,label='H1')\n",
    "plt.xscale('log')\n",
    "plt.xlabel(r'$R\\,[km]$')\n",
    "plt.ylabel(r'$M/M_{\\odot}$')\n",
    "plt.legend()\n",
    "#plt.savefig('figures/MRrels.pdf', format='pdf', dpi=1000,bbox_inches=\"tight\")\n",
    "plt.show()\n",
    "plt.clf()"
   ]
  },
  {
   "cell_type": "markdown",
   "metadata": {},
   "source": [
    "### M-R and M-$\\rho_c$ diagram"
   ]
  },
  {
   "cell_type": "code",
   "execution_count": 8,
   "metadata": {},
   "outputs": [
    {
     "ename": "TypeError",
     "evalue": "can only concatenate str (not \"float\") to str",
     "output_type": "error",
     "traceback": [
      "\u001b[0;31m---------------------------------------------------------------------------\u001b[0m",
      "\u001b[0;31mTypeError\u001b[0m                                 Traceback (most recent call last)",
      "\u001b[0;32m<ipython-input-8-8deba972e1cf>\u001b[0m in \u001b[0;36m<module>\u001b[0;34m\u001b[0m\n\u001b[1;32m      1\u001b[0m \u001b[0mn\u001b[0m\u001b[0;34m=\u001b[0m\u001b[0mnp\u001b[0m\u001b[0;34m.\u001b[0m\u001b[0marange\u001b[0m\u001b[0;34m(\u001b[0m\u001b[0;36m14.4\u001b[0m\u001b[0;34m,\u001b[0m\u001b[0;36m15.6\u001b[0m\u001b[0;34m,\u001b[0m\u001b[0;36m0.005\u001b[0m\u001b[0;34m)\u001b[0m\u001b[0;34m\u001b[0m\u001b[0;34m\u001b[0m\u001b[0m\n\u001b[1;32m      2\u001b[0m \u001b[0mrhosc\u001b[0m\u001b[0;34m=\u001b[0m\u001b[0;36m10.0\u001b[0m\u001b[0;34m**\u001b[0m\u001b[0mn\u001b[0m\u001b[0;34m\u001b[0m\u001b[0;34m\u001b[0m\u001b[0m\n\u001b[0;32m----> 3\u001b[0;31m \u001b[0mMRH1\u001b[0m\u001b[0;34m=\u001b[0m\u001b[0mMRrhoc\u001b[0m\u001b[0;34m(\u001b[0m\u001b[0mrhosc\u001b[0m\u001b[0;34m/\u001b[0m\u001b[0mrhodim\u001b[0m\u001b[0;34m,\u001b[0m\u001b[0mm0\u001b[0m\u001b[0;34m,\u001b[0m\u001b[0mr0\u001b[0m\u001b[0;34m,\u001b[0m\u001b[0mdr0\u001b[0m\u001b[0;34m,\u001b[0m\u001b[0mrhoH1\u001b[0m\u001b[0;34m,\u001b[0m\u001b[0mPH1\u001b[0m\u001b[0;34m,\u001b[0m\u001b[0;36m10.0\u001b[0m\u001b[0;34m)\u001b[0m\u001b[0;34m\u001b[0m\u001b[0;34m\u001b[0m\u001b[0m\n\u001b[0m",
      "\u001b[0;32m~/Documents/GitHub/stellar_structure/static_structure.py\u001b[0m in \u001b[0;36mMRrhoc\u001b[0;34m(rhosc, m0, r0, dr0, rhoarray, Parray, name, cutoff)\u001b[0m\n\u001b[1;32m     57\u001b[0m     \u001b[0;31m#psc=PEoS(rhosc/rhodim) #Range of central pressures\u001b[0m\u001b[0;34m\u001b[0m\u001b[0;34m\u001b[0m\u001b[0;34m\u001b[0m\u001b[0m\n\u001b[1;32m     58\u001b[0m     \u001b[0;31m#MM=[];RR=[];rhorho=[]\u001b[0m\u001b[0;34m\u001b[0m\u001b[0;34m\u001b[0m\u001b[0;34m\u001b[0m\u001b[0m\n\u001b[0;32m---> 59\u001b[0;31m     \u001b[0mf\u001b[0m\u001b[0;34m=\u001b[0m\u001b[0mopen\u001b[0m\u001b[0;34m(\u001b[0m\u001b[0;34m'results/'\u001b[0m\u001b[0;34m+\u001b[0m\u001b[0mname\u001b[0m\u001b[0;34m+\u001b[0m\u001b[0;34m'/'\u001b[0m\u001b[0;34m+\u001b[0m\u001b[0;34m'MRrhoc'\u001b[0m\u001b[0;34m+\u001b[0m\u001b[0;34m'.dat'\u001b[0m\u001b[0;34m,\u001b[0m\u001b[0;34m'w+'\u001b[0m\u001b[0;34m)\u001b[0m\u001b[0;34m\u001b[0m\u001b[0;34m\u001b[0m\u001b[0m\n\u001b[0m\u001b[1;32m     60\u001b[0m     \u001b[0;32mfor\u001b[0m \u001b[0mrhoc\u001b[0m \u001b[0;32min\u001b[0m \u001b[0mrhosc\u001b[0m\u001b[0;34m:\u001b[0m\u001b[0;34m\u001b[0m\u001b[0;34m\u001b[0m\u001b[0m\n\u001b[1;32m     61\u001b[0m         \u001b[0mA\u001b[0m \u001b[0;34m=\u001b[0m \u001b[0mstatic\u001b[0m\u001b[0;34m(\u001b[0m\u001b[0mrhoc\u001b[0m\u001b[0;34m,\u001b[0m\u001b[0mm0\u001b[0m\u001b[0;34m,\u001b[0m\u001b[0mr0\u001b[0m\u001b[0;34m,\u001b[0m\u001b[0mdr0\u001b[0m\u001b[0;34m,\u001b[0m\u001b[0;36m0\u001b[0m\u001b[0;34m,\u001b[0m\u001b[0mrhoarray\u001b[0m\u001b[0;34m,\u001b[0m\u001b[0mParray\u001b[0m\u001b[0;34m,\u001b[0m\u001b[0mname\u001b[0m\u001b[0;34m,\u001b[0m\u001b[0mcutoff\u001b[0m\u001b[0;34m)\u001b[0m\u001b[0;34m\u001b[0m\u001b[0;34m\u001b[0m\u001b[0m\n",
      "\u001b[0;31mTypeError\u001b[0m: can only concatenate str (not \"float\") to str"
     ]
    }
   ],
   "source": [
    "n=np.arange(14.4,15.6,0.005)\n",
    "rhosc=10.0**n\n",
    "MRH1=MRrhoc(rhosc/rhodim,m0,r0,dr0,rhoH1,PH1,10.0)"
   ]
  },
  {
   "cell_type": "code",
   "execution_count": 13,
   "metadata": {},
   "outputs": [],
   "source": [
    "plt.rc('text', usetex=True)\n",
    "plt.rc('font', family='serif')\n",
    "plt.rc('axes', labelsize=20)\n",
    "plt.rc('xtick', labelsize=8)\n",
    "plt.rc('ytick', labelsize=8)"
   ]
  },
  {
   "cell_type": "code",
   "execution_count": 7,
   "metadata": {},
   "outputs": [
    {
     "ename": "TypeError",
     "evalue": "'NoneType' object is not subscriptable",
     "output_type": "error",
     "traceback": [
      "\u001b[0;31m---------------------------------------------------------------------------\u001b[0m",
      "\u001b[0;31mTypeError\u001b[0m                                 Traceback (most recent call last)",
      "\u001b[0;32m<ipython-input-7-7c4be5803114>\u001b[0m in \u001b[0;36m<module>\u001b[0;34m\u001b[0m\n\u001b[1;32m      1\u001b[0m \u001b[0mfig\u001b[0m \u001b[0;34m=\u001b[0m \u001b[0mplt\u001b[0m\u001b[0;34m.\u001b[0m\u001b[0mfigure\u001b[0m\u001b[0;34m(\u001b[0m\u001b[0;34m)\u001b[0m\u001b[0;34m\u001b[0m\u001b[0;34m\u001b[0m\u001b[0m\n\u001b[0;32m----> 2\u001b[0;31m \u001b[0mplt\u001b[0m\u001b[0;34m.\u001b[0m\u001b[0mplot\u001b[0m\u001b[0;34m(\u001b[0m\u001b[0mMRH1\u001b[0m\u001b[0;34m[\u001b[0m\u001b[0;36m0\u001b[0m\u001b[0;34m]\u001b[0m\u001b[0;34m,\u001b[0m \u001b[0mMRH1\u001b[0m\u001b[0;34m[\u001b[0m\u001b[0;36m1\u001b[0m\u001b[0;34m]\u001b[0m\u001b[0;34m,\u001b[0m\u001b[0;34m'-'\u001b[0m\u001b[0;34m,\u001b[0m \u001b[0mlinewidth\u001b[0m\u001b[0;34m=\u001b[0m\u001b[0;36m1.2\u001b[0m\u001b[0;34m,\u001b[0m\u001b[0mlabel\u001b[0m\u001b[0;34m=\u001b[0m\u001b[0;34m'H1'\u001b[0m\u001b[0;34m)\u001b[0m\u001b[0;34m\u001b[0m\u001b[0;34m\u001b[0m\u001b[0m\n\u001b[0m\u001b[1;32m      3\u001b[0m \u001b[0mplt\u001b[0m\u001b[0;34m.\u001b[0m\u001b[0mxlabel\u001b[0m\u001b[0;34m(\u001b[0m\u001b[0;34mr'$R\\,[km]$'\u001b[0m\u001b[0;34m)\u001b[0m\u001b[0;34m\u001b[0m\u001b[0;34m\u001b[0m\u001b[0m\n\u001b[1;32m      4\u001b[0m \u001b[0mplt\u001b[0m\u001b[0;34m.\u001b[0m\u001b[0mylabel\u001b[0m\u001b[0;34m(\u001b[0m\u001b[0;34mr'$M/M_{\\odot}$'\u001b[0m\u001b[0;34m)\u001b[0m\u001b[0;34m\u001b[0m\u001b[0;34m\u001b[0m\u001b[0m\n\u001b[1;32m      5\u001b[0m \u001b[0mplt\u001b[0m\u001b[0;34m.\u001b[0m\u001b[0mxlim\u001b[0m\u001b[0;34m(\u001b[0m\u001b[0;36m9\u001b[0m\u001b[0;34m,\u001b[0m\u001b[0;36m14\u001b[0m\u001b[0;34m)\u001b[0m\u001b[0;34m\u001b[0m\u001b[0;34m\u001b[0m\u001b[0m\n",
      "\u001b[0;31mTypeError\u001b[0m: 'NoneType' object is not subscriptable"
     ]
    },
    {
     "data": {
      "text/plain": [
       "<Figure size 432x288 with 0 Axes>"
      ]
     },
     "metadata": {},
     "output_type": "display_data"
    }
   ],
   "source": [
    "fig = plt.figure()\n",
    "plt.plot(MRH1[0], MRH1[1],'-', linewidth=1.2,label='H1')\n",
    "plt.xlabel(r'$R\\,[km]$')\n",
    "plt.ylabel(r'$M/M_{\\odot}$')\n",
    "plt.x\n",
    "plt.legend()\n",
    "#plt.savefig('figures/MRrels.pdf', format='pdf', dpi=1000,bbox_inches=\"tight\")\n",
    "plt.show()\n",
    "plt.clf()"
   ]
  },
  {
   "cell_type": "code",
   "execution_count": 15,
   "metadata": {},
   "outputs": [
    {
     "data": {
      "image/png": "[encoded data removed]",
      "text/plain": [
       "<Figure size 432x288 with 1 Axes>"
      ]
     },
     "metadata": {
      "needs_background": "light"
     },
     "output_type": "display_data"
    },
    {
     "data": {
      "text/plain": [
       "<Figure size 432x288 with 0 Axes>"
      ]
     },
     "metadata": {},
     "output_type": "display_data"
    }
   ],
   "source": [
    "fig=plt.figure()\n",
    "\n",
    "plt.plot(MRH1[2], MRH1[1], '-', linewidth=1.2,label='H1')\n",
    "plt.xscale('log')\n",
    "plt.xlabel(r'$\\rho_c\\,[g/cm^{3}]$')\n",
    "plt.ylabel(r'$M/M_{\\odot}$')\n",
    "plt.legend()\n",
    "#plt.savefig('figures/Mrhorel_NL3.pdf', format='pdf', dpi=1000,bbox_inches=\"tight\")\n",
    "plt.show()\n",
    "plt.clf()"
   ]
  },
  {
   "cell_type": "markdown",
   "metadata": {},
   "source": [
    "## ALF1"
   ]
  },
  {
   "cell_type": "code",
   "execution_count": 19,
   "metadata": {},
   "outputs": [],
   "source": [
    "rhoALF1,PALF1=np.loadtxt('EOS/alf1.dat',usecols=(2,1),unpack=True)\n",
    "\n",
    "def P_ALF1(rho):\n",
    "    logP=interpolate.interp1d(np.log10(rhoALF1/rhodim),np.log10((PALF1*c**2)/Pdim))\n",
    "    return 10.0**logP(np.log10(rho))\n",
    "def rho_ALF1(P):\n",
    "    logrho=interpolate.interp1d(np.log10((PALF1*c**2)/Pdim),np.log10((rhoALF1/rhodim)))\n",
    "    return 10.0**logrho(np.log10(P))"
   ]
  },
  {
   "cell_type": "markdown",
   "metadata": {},
   "source": [
    "### M-R and M-$\\rho_c$ diagram"
   ]
  },
  {
   "cell_type": "code",
   "execution_count": 21,
   "metadata": {},
   "outputs": [],
   "source": [
    "n=np.arange(14.4,15.6,0.005)\n",
    "rhosc=10.0**n\n",
    "MRALF1=MRrhoc(m0,r0,dr0,rhosc,rho_ALF1,P_ALF1,20.0)"
   ]
  },
  {
   "cell_type": "code",
   "execution_count": 24,
   "metadata": {},
   "outputs": [
    {
     "data": {
      "image/png": "[encoded data removed]",
      "text/plain": [
       "<Figure size 432x288 with 1 Axes>"
      ]
     },
     "metadata": {
      "needs_background": "light"
     },
     "output_type": "display_data"
    },
    {
     "data": {
      "text/plain": [
       "<Figure size 432x288 with 0 Axes>"
      ]
     },
     "metadata": {},
     "output_type": "display_data"
    }
   ],
   "source": [
    "fig = plt.figure()\n",
    "plt.plot(MRALF1[0], MRALF1[1],'-', linewidth=1.2,label='H1')\n",
    "plt.xlabel(r'$R\\,[km]$')\n",
    "plt.ylabel(r'$M/M_{\\odot}$')\n",
    "plt.legend()\n",
    "#plt.savefig('figures/MRrels.pdf', format='pdf', dpi=1000,bbox_inches=\"tight\")\n",
    "plt.show()\n",
    "plt.clf()"
   ]
  },
  {
   "cell_type": "code",
   "execution_count": 25,
   "metadata": {},
   "outputs": [
    {
     "data": {
      "image/png": "[encoded data removed]",
      "text/plain": [
       "<Figure size 432x288 with 1 Axes>"
      ]
     },
     "metadata": {
      "needs_background": "light"
     },
     "output_type": "display_data"
    },
    {
     "data": {
      "text/plain": [
       "<Figure size 432x288 with 0 Axes>"
      ]
     },
     "metadata": {},
     "output_type": "display_data"
    }
   ],
   "source": [
    "fig=plt.figure()\n",
    "\n",
    "plt.plot(MRALF1[2], MRALF1[1], '-', linewidth=1.2,label='H1')\n",
    "plt.xscale('log')\n",
    "plt.xlabel(r'$\\rho_c\\,[g/cm^{3}]$')\n",
    "plt.ylabel(r'$M/M_{\\odot}$')\n",
    "plt.legend()\n",
    "#plt.savefig('figures/Mrhorel_NL3.pdf', format='pdf', dpi=1000,bbox_inches=\"tight\")\n",
    "plt.show()\n",
    "plt.clf()"
   ]
  },
  {
   "cell_type": "markdown",
   "metadata": {},
   "source": [
    "## AP1"
   ]
  },
  {
   "cell_type": "code",
   "execution_count": 5,
   "metadata": {},
   "outputs": [],
   "source": [
    "rhoAP1,PAP1=np.loadtxt('EOS/ap1.dat',usecols=(2,1),unpack=True)"
   ]
  },
  {
   "cell_type": "code",
   "execution_count": 6,
   "metadata": {},
   "outputs": [],
   "source": [
    "n=np.arange(14.4,15.6,0.005)\n",
    "rhosc=10.0**n\n",
    "MRAP1=MRrhoc(rhosc/rhodim,m0,r0,dr0,rhoAP1,PAP1,20.0)"
   ]
  },
  {
   "cell_type": "code",
   "execution_count": 7,
   "metadata": {},
   "outputs": [
    {
     "data": {
      "image/png": "[encoded data removed]",
      "text/plain": [
       "<Figure size 432x288 with 1 Axes>"
      ]
     },
     "metadata": {
      "needs_background": "light"
     },
     "output_type": "display_data"
    },
    {
     "data": {
      "text/plain": [
       "<Figure size 432x288 with 0 Axes>"
      ]
     },
     "metadata": {},
     "output_type": "display_data"
    }
   ],
   "source": [
    "fig = plt.figure()\n",
    "plt.plot(MRAP1[0], MRAP1[1],'-', linewidth=1.2,label='H1')\n",
    "plt.xlabel(r'$R\\,[km]$')\n",
    "plt.ylabel(r'$M/M_{\\odot}$')\n",
    "plt.legend()\n",
    "#plt.savefig('figures/MRrels.pdf', format='pdf', dpi=1000,bbox_inches=\"tight\")\n",
    "plt.show()\n",
    "plt.clf()"
   ]
  },
  {
   "cell_type": "code",
   "execution_count": 8,
   "metadata": {},
   "outputs": [
    {
     "data": {
      "image/png": "[encoded data removed]",
      "text/plain": [
       "<Figure size 432x288 with 1 Axes>"
      ]
     },
     "metadata": {
      "needs_background": "light"
     },
     "output_type": "display_data"
    },
    {
     "data": {
      "text/plain": [
       "<Figure size 432x288 with 0 Axes>"
      ]
     },
     "metadata": {},
     "output_type": "display_data"
    }
   ],
   "source": [
    "fig=plt.figure()\n",
    "\n",
    "plt.plot(MRAP1[2], MRAP1[1], '-', linewidth=1.2,label='H1')\n",
    "plt.xscale('log')\n",
    "plt.xlabel(r'$\\rho_c\\,[g/cm^{3}]$')\n",
    "plt.ylabel(r'$M/M_{\\odot}$')\n",
    "plt.legend()\n",
    "#plt.savefig('figures/Mrhorel_NL3.pdf', format='pdf', dpi=1000,bbox_inches=\"tight\")\n",
    "plt.show()\n",
    "plt.clf()"
   ]
  },
  {
   "cell_type": "markdown",
   "metadata": {},
   "source": [
    "## BB2"
   ]
  },
  {
   "cell_type": "code",
   "execution_count": null,
   "metadata": {},
   "outputs": [],
   "source": [
    "rhoBBB2,PBBB2=np.loadtxt('EOS/bbb2.dat',usecols=(2,1),unpack=True)\n",
    "\n",
    "def P_BBB2(rho):\n",
    "    logP=interpolate.interp1d(np.log10(rhoBB2/rhodim),np.log10((PBB2*c**2)/Pdim))\n",
    "    return 10.0**logP(np.log10(rho))\n",
    "def rho_BBB2(P):\n",
    "    logrho=interpolate.interp1d(np.log10((PBBB2*c**2)/Pdim),np.log10((rhoBBB2/rhodim)))\n",
    "    return 10.0**logrho(np.log10(P))"
   ]
  },
  {
   "cell_type": "code",
   "execution_count": null,
   "metadata": {},
   "outputs": [],
   "source": [
    "n=np.arange(14.4,15.6,0.005)\n",
    "rhosc=10.0**n\n",
    "MRAP1=MRrhoc(m0,r0,dr0,rhosc,rho_BBB2,P_BBB2,20.0)"
   ]
  },
  {
   "cell_type": "code",
   "execution_count": null,
   "metadata": {},
   "outputs": [],
   "source": []
  }
 ],
 "metadata": {
  "kernelspec": {
   "display_name": "Python 3",
   "language": "python",
   "name": "python3"
  },
  "language_info": {
   "codemirror_mode": {
    "name": "ipython",
    "version": 3
   },
   "file_extension": ".py",
   "mimetype": "text/x-python",
   "name": "python",
   "nbconvert_exporter": "python",
   "pygments_lexer": "ipython3",
   "version": "3.7.3"
  }
 },
 "nbformat": 4,
 "nbformat_minor": 2
}
