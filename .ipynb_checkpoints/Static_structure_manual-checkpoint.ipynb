{
 "cells": [
  {
   "cell_type": "markdown",
   "metadata": {},
   "source": [
    "# TOV Equations"
   ]
  },
  {
   "cell_type": "markdown",
   "metadata": {},
   "source": [
    "The equations of structure of an static compact object with spherical symmetry are given by (in units where $c=G=1$):"
   ]
  },
  {
   "cell_type": "markdown",
   "metadata": {},
   "source": [
    "$$ P=P(\\rho), $$\n",
    "$$ \\frac{dm}{dr}=4\\pi \\rho r^2 , $$\n",
    "$$ \\frac{dP}{dr}=-(\\rho+P)\\frac{m+4\\pi r^3 P}{r(r-2m)} , $$"
   ]
  },
  {
   "cell_type": "markdown",
   "metadata": {},
   "source": [
    "And if it's required"
   ]
  },
  {
   "cell_type": "markdown",
   "metadata": {},
   "source": [
    "\n",
    "$$ \\frac{d\\nu}{dr}= \\frac{m+4\\pi r^3 P}{r(r-2m)} = -\\frac{1}{\\rho+P}\\frac{dP}{dr}.$$"
   ]
  },
  {
   "cell_type": "markdown",
   "metadata": {},
   "source": [
    "## Non-dimensionalization"
   ]
  },
  {
   "cell_type": "markdown",
   "metadata": {},
   "source": [
    "$$ \\rho=\\rho_* \\bar{\\rho} \\quad ; \\quad P=P_* \\bar{P} \\quad ; \\quad m=m_*\\bar{m} \\quad ; \\quad r=r_*\\bar{r}. $$"
   ]
  },
  {
   "cell_type": "markdown",
   "metadata": {},
   "source": [
    "Replacing in the system of equations one obtains:\n",
    "$$ \\frac{d\\bar{m}}{\\bar{dr}}=\\left( \\frac{\\rho_* r_*^3}{m_*} \\right) 4\\pi \\bar{\\rho} \\bar{r}^2 , $$\n",
    "$$ \\frac{d\\bar{P}}{d\\bar{r}}=-\\left( \\frac{m_*}{r_* \\rho_*} \\right)\\left(\\frac{\\rho_*}{P_*}\\bar{\\rho}+\\bar{P}\\right)\\frac{\\bar{m}+\\left( \\frac{r_*^3 P_*}{m_*} \\right)4\\pi \\bar{r}^3 \\bar{P}}{\\bar{r}\\left(\\bar{r}-\\frac{m_*}{r_*}2\\bar{m}\\right)}, $$\n",
    "$$ \\frac{d\\nu}{d\\bar{r}}=-\\frac{1}{\\left(\\bar{P}+\\frac{\\rho_*}{P_*}\\bar{\\rho}\\right)}\\frac{d\\bar{P}}{d\\bar{r}}. $$"
   ]
  },
  {
   "cell_type": "markdown",
   "metadata": {},
   "source": [
    "In order to keep the form of system of equations the same, it is required that:\n",
    "$$\\frac{\\rho_* r_*^3}{m_*}=1,\\quad \\frac{m_*}{r_* \\rho_*}=1, \\quad \\frac{\\rho_*}{P_*}=1, \\quad \\frac{r_*^3 P_*}{m_*}=1,\\quad \\frac{m_*}{r_*}=1. $$"
   ]
  },
  {
   "cell_type": "markdown",
   "metadata": {},
   "source": [
    "or\n",
    "$$P_*=\\rho_*,\\quad m_*=r_*,\\quad r_*=\\frac{1}{\\sqrt{\\rho_*}}. $$"
   ]
  },
  {
   "cell_type": "markdown",
   "metadata": {},
   "source": [
    "Using the neutron mass $m_n$ as the only parameter one can write $\\rho_*= \\frac{m_{n}^{4}c^{3}}{8 \\pi^2 \\hbar^3} $ and putting back the factors of $G$ and $c$ we have everything in terms of $m_{n}$:\n",
    "$$ \\rho_*=\\frac{m_{n}^{4}c^{3}}{8 \\pi^2 \\hbar^3},\\quad P_*= \\rho_* c^2 ,\\quad  r_*=\\frac{c}{\\sqrt{\\rho_* G}}\\quad, \\quad m_*= \\frac{r_* c^2}{G}.$$"
   ]
  },
  {
   "cell_type": "markdown",
   "metadata": {},
   "source": [
    "Finally, the nondimensional TOV equations will be \n",
    "$$ \\bar{P}=\\bar{P}(\\bar{\\rho}), $$\n",
    "$$ \\frac{d\\bar{m}}{\\bar{dr}}=4\\pi \\bar{\\rho} \\bar{r}^2 , $$\n",
    "$$ \\frac{d\\bar{P}}{d\\bar{r}}=-(\\bar{\\rho}+\\bar{P})\\frac{\\bar{m}+4\\pi \\bar{r}^3 \\bar{P}}{\\bar{r}(\\bar{r}-2\\bar{m})}, $$\n",
    "$$ \\frac{d\\nu}{d\\bar{r}}=-\\frac{1}{\\bar{\\rho}+\\bar{P}}\\frac{d\\bar{P}}{d\\bar{r}}. $$"
   ]
  },
  {
   "cell_type": "markdown",
   "metadata": {},
   "source": [
    "## Avoiding singularities"
   ]
  },
  {
   "cell_type": "markdown",
   "metadata": {},
   "source": [
    "The pressure gradient\n",
    "$$ \\frac{d\\bar{P}}{d\\bar{r}}=-(\\bar{\\rho}+\\bar{P})\\frac{\\bar{m}+4\\pi \\bar{r}^3 \\bar{P}}{\\bar{r}(\\bar{r}-2\\bar{m})}, $$\n",
    "is singular at $\\bar{r}=0$. \n",
    "\n",
    "One can overcome this difficulty by expanding $\\bar{\\rho}$ in powers of $\\bar{r}$ in the mass gradient equation (as it is done in newtonian stellar structure cf. Kippenhahn's book Stellar Structure\n",
    "and Evolution, Chap. 11):\n",
    "$$ \\frac{d\\bar{m}}{\\bar{dr}}=4\\pi \\bar{r}^2 \\left(  \\bar{\\rho} _ { c } + \\left. \\frac { \\partial \\bar{\\rho }} { \\partial \\bar{r} } \\right| _ { \\bar{r} = 0 } \\bar{r} + \\ldots \\right),$$\n",
    "keeping only the first term and integrating to some small distance from the center\n",
    "$$ \\frac{d\\bar{m}}{\\bar{dr}}= 4\\pi \\bar{r}^2  \\bar{\\rho} _ { c }\\\\\n",
    "\\int _ { 0 } ^ { \\bar{m} } d \\bar{m} = \\int _ { 0 } ^ { \\bar{r} } 4 \\pi \\bar{r} ^ { 2 } \\bar{\\rho}_c d \\bar{r} ^ { \\prime } \\\\\n",
    "\\bar{m}  =  \\frac { 4 } { 3 } \\pi \\bar{r} ^ { 3 } \\bar{\\rho} _ { c }.$$\n",
    "\n",
    "Replacing this in the pressure gradient one gets\n",
    "\n",
    "$$ \\frac{d\\bar{P}}{d\\bar{r}} = -4\\pi (\\bar{P}+\\bar{\\rho}_c)\\frac{\\left(\\frac{\\bar{\\rho}_c}{3}+\\bar{P}\\right)}{1-\\frac{8}{3}\\pi\\bar{r}^2\\bar{\\rho}_c} \\bar{r},$$\n",
    "valid as long as $ \\frac{\\bar{\\rho}}{\\bar{\\rho}_{c}} \\sim 1$."
   ]
  },
  {
   "cell_type": "markdown",
   "metadata": {},
   "source": [
    "# Solving the system"
   ]
  },
  {
   "cell_type": "markdown",
   "metadata": {},
   "source": [
    "Loading libraries"
   ]
  },
  {
   "cell_type": "code",
   "execution_count": 1,
   "metadata": {},
   "outputs": [],
   "source": [
    "import numpy as np\n",
    "import matplotlib.pyplot as plt\n",
    "from scipy import integrate, interpolate\n",
    "import math"
   ]
  },
  {
   "cell_type": "markdown",
   "metadata": {},
   "source": [
    "Defining the zero (machine epsilon) "
   ]
  },
  {
   "cell_type": "code",
   "execution_count": 2,
   "metadata": {},
   "outputs": [
    {
     "name": "stdout",
     "output_type": "stream",
     "text": [
      "2.220446049250313e-16\n"
     ]
    }
   ],
   "source": [
    "epsilon = np.finfo(float).eps\n",
    "print(epsilon)"
   ]
  },
  {
   "cell_type": "markdown",
   "metadata": {},
   "source": [
    "Loading some constants (in cgs units) from a separeted file and defining the variables that carry the dimensions"
   ]
  },
  {
   "cell_type": "code",
   "execution_count": 3,
   "metadata": {},
   "outputs": [],
   "source": [
    "import Physical_Const as phys\n",
    "h=phys.h \n",
    "c=phys.c\n",
    "G=phys.G\n",
    "Msun=phys.Msun\n",
    "mn=phys.mn # Neutron mass\n",
    "\n",
    "\n",
    "rhodim=mn**4.0*c**3.0/(8.0*np.pi**2*(h/(2.0*np.pi))**3.0) #Dimensions of energy density\n",
    "rdim=c/np.sqrt(rhodim*G) # Dimensions of radius\n",
    "mdim=rdim*c**2.0/G # Dimensions of mass\n",
    "Pdim=rhodim*c**2 # Dimensions of pressure"
   ]
  },
  {
   "cell_type": "markdown",
   "metadata": {},
   "source": [
    "## EOS"
   ]
  },
  {
   "cell_type": "markdown",
   "metadata": {},
   "source": [
    "We want our equation of state to be a table of numbers $(\\rho_{i},P_{i})$, this equation of state will depend on the theoretical model used to model the interior of the neutron star."
   ]
  },
  {
   "cell_type": "markdown",
   "metadata": {},
   "source": [
    "Loading some of the equations of state contained in the EOS folder (taken from http://xtreme.as.arizona.edu/NeutronStars/, a website maintained by an astrophysics group in Arizona) and interpolating $\\log{P}(\\log{\\rho})$ and $\\log{\\rho}(\\log{P})$ linearly (as it is usually done, cf. Baym, Pethick, Sutherland 1971)"
   ]
  },
  {
   "cell_type": "code",
   "execution_count": 4,
   "metadata": {},
   "outputs": [],
   "source": [
    "# loadtxt from numpy aids the process of reading and saving into numpy arrays\n",
    "#rhoNL3,PNL3=np.loadtxt('EOS/EOSFull_NL3_BPS02.dat',usecols=(2,1),unpack=True) #Only EOS not included in the website\n",
    "#def P_NL3(rho):\n",
    " #   logP=interpolate.interp1d(np.log10(rhoNL3/rhodim),np.log10(PNL3/Pdim))\n",
    " #   return 10.0**logP(np.log10(rho))\n",
    "#def rho_NL3(P):\n",
    " #   logrho=interpolate.interp1d(np.log10(PNL3/Pdim),np.log10(rhoNL3/rhodim))\n",
    " #   return 10.0**logrho(np.log10(P))\n",
    "\n",
    "rhoSLy,PSLy=np.loadtxt('EOS/sly.dat',usecols=(2,1),unpack=True)\n",
    "def P_SLy(rho):\n",
    "    logP=interpolate.interp1d(np.log10(rhoSLy/rhodim),np.log10((PSLy*c**2)/Pdim))\n",
    "    return 10.0**logP(np.log10(rho))\n",
    "def rho_SLy(P):\n",
    "    logrho=interpolate.interp1d(np.log10((PSLy*c**2)/Pdim),np.log10(rhoSLy/rhodim))\n",
    "    return 10.0**logrho(np.log10(P))\n",
    "\n",
    "rhoBSK19,PBSK19=np.loadtxt('EOS/bsk19.dat',usecols=(2,1),unpack=True) #This family of EOS (BSK##) has the column order inverted\n",
    "def P_BSK19(rho):\n",
    "    logP=interpolate.interp1d(np.log10(rhoBSK19/rhodim),np.log10((PBSK19*c**2)/Pdim))\n",
    "    return 10.0**logP(np.log10(rho))\n",
    "def rho_BSK19(P):\n",
    "    logrho=interpolate.interp1d(np.log10((PBSK19*c**2)/Pdim),np.log10(rhoBSK19/rhodim))\n",
    "    return 10.0**logrho(np.log10(P))\n",
    "\n",
    "rhoBSK20,PBSK20=np.loadtxt('EOS/bsk20.dat',usecols=(2,1),unpack=True)\n",
    "def P_BSK20(rho):\n",
    "    logP=interpolate.interp1d(np.log10(rhoBSK20/rhodim),np.log10((PBSK20*c**2)/Pdim))\n",
    "    return 10.0**logP(np.log10(rho))\n",
    "def rho_BSK20(P):\n",
    "    logrho=interpolate.interp1d(np.log10((PBSK20*c**2)/Pdim),np.log10(rhoBSK20/rhodim))\n",
    "    return 10.0**logrho(np.log10(P))\n",
    "\n",
    "rhoALF1,PALF1=np.loadtxt('EOS/alf1.dat',usecols=(2,1),unpack=True)\n",
    "def P_ALF1(rho):\n",
    "    logP=interpolate.interp1d(np.log10(rhoALF1/rhodim),np.log10((PALF1*c**2)/Pdim))\n",
    "    return 10.0**logP(np.log10(rho))\n",
    "def rho_ALF1(P):\n",
    "    logrho=interpolate.interp1d(np.log10((PALF1*c**2)/Pdim),np.log10((rhoALF1/rhodim)))\n",
    "    return 10.0**logrho(np.log10(P))\n",
    "\n",
    "rhoH1,PH1=np.loadtxt('EOS/H1.dat',usecols=(2,1),unpack=True)\n",
    "def P_H1(rho):\n",
    "    logP=interpolate.interp1d(np.log10(rhoH1/rhodim),np.log10((PH1*c**2)/Pdim))\n",
    "    return 10.0**logP(np.log10(rho))\n",
    "def rho_H1(P):\n",
    "    logrho=interpolate.interp1d(np.log10((PH1*c**2)/Pdim),np.log10(rhoH1/rhodim))\n",
    "    return 10.0**logrho(np.log10(P))                            \n",
    "\n",
    "#-------------------------(Don't know how the data is organized yet)\n",
    "rhoSQM1,PSQM1=np.loadtxt('EOS/sqm1.dat',usecols=(2,1),unpack=True)\n",
    "def P_SQM1(rho):\n",
    "    logP=interpolate.interp1d(np.log10(rhoSQM1/rhodim),np.log10((PSQM1*c**2)/Pdim))\n",
    "    return 10.0**logP(np.log10(rho))\n",
    "def rho_SQM1(P):\n",
    "    logrho=interpolate.interp1d(np.log10((PSQM1*c**2)/Pdim),np.log10(rhoSQM1/rhodim))\n",
    "    return 10.0**logrho(np.log10(P))\n",
    "\n",
    "rhoSQM2,PSQM2=np.loadtxt('EOS/sqm2.dat',usecols=(2,1),unpack=True)\n",
    "def P_SQM2(rho):\n",
    "    logP=interpolate.interp1d(np.log10(rhoSQM2/rhodim),np.log10((PSQM2*c**2)/Pdim))\n",
    "    return 10.0**logP(np.log10(rho))\n",
    "def rho_SQM2(P):\n",
    "    logrho=interpolate.interp1d(np.log10((PSQM2*c**2)/Pdim),np.log10(rhoSQM2/rhodim))\n",
    "    return 10.0**logrho(np.log10(P))"
   ]
  },
  {
   "cell_type": "markdown",
   "metadata": {},
   "source": [
    "Plotting them with logarithmic scale on both axis"
   ]
  },
  {
   "cell_type": "code",
   "execution_count": 12,
   "metadata": {},
   "outputs": [
    {
     "data": {
      "image/png": "[encoded data removed]",
      "text/plain": [
       "<Figure size 432x288 with 1 Axes>"
      ]
     },
     "metadata": {
      "needs_background": "light"
     },
     "output_type": "display_data"
    }
   ],
   "source": [
    "plt.rc('text', usetex=True)\n",
    "plt.rc('font', family='serif')\n",
    "plt.rc('axes', labelsize=20)\n",
    "plt.rc('xtick', labelsize=8)\n",
    "plt.rc('ytick', labelsize=8)\n",
    "\n",
    "fig=plt.figure()\n",
    "ax = fig.add_subplot(1, 1, 1)\n",
    "\n",
    "#plt.loglog(rhoNL3,P_NL3(rhoNL3/rhodim)*Pdim,'k-', linewidth=1,label=\"NL3\") # Interpolation\n",
    "#plt.loglog(rhoNL3,PNL3,'o', markersize=0.8) # Data\n",
    "\n",
    "plt.loglog(rhoSLy,P_SLy(rhoSLy/rhodim)*Pdim,'-', linewidth=1,label=\"SLy\") \n",
    "#plt.loglog(rhoSLy,PSLy*c**2,'o', markersize=0.5) \n",
    "\n",
    "plt.loglog(rhoALF1,P_ALF1(rhoALF1/rhodim)*Pdim,'-', linewidth=1.2,label=\"ALF1\") \n",
    "#plt.loglog(rhoALF1,PALF1*c**2,'o', markersize=.5) \n",
    "\n",
    "plt.loglog(rhoH1,P_H1(rhoH1/rhodim)*Pdim,'-', linewidth=1.2,label=\"H1\") \n",
    "#plt.loglog(rhoH1,PH1*c**2,'o', markersize=.5) \n",
    "\n",
    "\n",
    "plt.loglog(rhoBSK19,P_BSK19(rhoBSK19/rhodim)*Pdim,'-', linewidth=1.2,label=\"BSK19\") \n",
    "#plt.loglog(rhoBSK19,PBSK19*c**2,'o', markersize=.5) \n",
    "\n",
    "plt.loglog(rhoBSK20,P_BSK20(rhoBSK20/rhodim)*Pdim,'-', linewidth=1.2,label=\"BSK20\") \n",
    "#plt.loglog(rhoBSK20,PBSK20*c**2,'o', markersize=.5) \n",
    "\n",
    "#-------------Strange Quark Matter \n",
    "    \n",
    "plt.loglog(rhoSQM1,P_SQM1(rhoSQM1/rhodim)*Pdim,'-', linewidth=1.2,label=\"SQM1\") \n",
    "#plt.loglog(rhoBSK20,PBSK20*c**2,'o', markersize=.5) \n",
    "    \n",
    "plt.loglog(rhoSQM2,P_SQM2(rhoSQM2/rhodim)*Pdim,'-', linewidth=1.2,label=\"SQM2\") \n",
    "#plt.loglog(rhoBSK20,PBSK20*c**2,'o', markersize=.5)  \n",
    "    \n",
    "plt.xlabel(r'$\\rho\\,[g/cm^3]$')\n",
    "plt.ylabel(r'$P\\,[dyn/cm^{2}]$')\n",
    "plt.legend()\n",
    "#plt.savefig('figures/EOS.pdf', format='pdf', dpi=1000,bbox_inches=\"tight\")\n",
    "plt.show()"
   ]
  },
  {
   "cell_type": "markdown",
   "metadata": {},
   "source": [
    "## Seting up the ODE solver"
   ]
  },
  {
   "cell_type": "markdown",
   "metadata": {},
   "source": [
    "In standard notation the system of ODEs can be written\n",
    "$$ \\frac{dy^{i}}{dr} = f^{i}(r,y^i). $$\n",
    "Where $y=(m,P,\\nu)$ and $f$ is the right hand side of the system."
   ]
  },
  {
   "cell_type": "markdown",
   "metadata": {},
   "source": [
    "Using the RK4 method, an integration step $dr$ will be done by"
   ]
  },
  {
   "cell_type": "code",
   "execution_count": 8,
   "metadata": {},
   "outputs": [],
   "source": [
    "def RK4(f, r, y, dr):\n",
    "    \"\"\"Propagates the solver one step further. Takes as inputs the RHS of the system f, the current location r,\n",
    "    the current value of the variables y, and the stepsize. Returns the value of the variables in location r+dr.\"\"\"\n",
    "    k1,l1,n1 = f(r,y)\n",
    "    \n",
    "    k2,l2,n2 = f(r+0.5*dr,[y[0]+0.5*dr*k1,y[1]+0.5*dr*l1,y[2]+0.5*dr*n1])   \n",
    "    \n",
    "    k3,l3,n3 = f(r+0.5*dr,[y[0]+0.5*dr*k2,y[1]+0.5*dr*l2,y[2]+0.5*dr*n2])\n",
    "    \n",
    "    k4,l4,n4 = f(r+dr,[y[0]+dr*k3,y[1]+dr*l3,y[2]+dr*n3])\n",
    "    \n",
    "    k=(dr/6)*(k1+2.0*k2+2.0*k3+k4)\n",
    "    l=(dr/6)*(l1+2.0*l2+2.0*l3+l4)\n",
    "    n=(dr/6)*(n1+2.0*n2+2.0*n3+n4)\n",
    "    \n",
    "    return [y[0]+k,y[1]+l,y[2]+n]"
   ]
  },
  {
   "cell_type": "markdown",
   "metadata": {},
   "source": [
    "With the value of $dr$ (taken from Baym, Pethick, Sutherland 1971)"
   ]
  },
  {
   "cell_type": "markdown",
   "metadata": {},
   "source": [
    "$$  \\Delta{r} = \\delta \\left( \\frac { 1 } { m } \\frac { \\mathop{dm} } { \\mathop{dr}  } - \\frac { 1 } { P } \\frac { \\mathop{dP}  } { \\mathop{dr} } \\right) ^ { - 1 }, $$\n",
    "where $\\delta$ will control the number of steps per pressure-mass decade. Note that the initial step has to be taken arbitrarily."
   ]
  },
  {
   "cell_type": "code",
   "execution_count": 9,
   "metadata": {},
   "outputs": [],
   "source": [
    "delta=0.1\n",
    "def stepsize(y,dy):\n",
    "    \"\"\"Adaptive stepsize. It takes the current value of the variables and it's gradients. The parameter delta is defined externally.\"\"\"\n",
    "    return delta*((1/y[0])*dy[0]-(1/y[1])*dy[1])**(-1)"
   ]
  },
  {
   "cell_type": "markdown",
   "metadata": {},
   "source": [
    "To solve the TOV equations we need two initial conditions:\n",
    "\n",
    "$$ \\bar{P}{(0)}=P_{c}{(\\bar{\\rho_{c}})} \\quad ; \\quad \\bar{m}{(0)}=0,$$\n",
    "\n",
    "depending on the choice of $\\rho_{c}$."
   ]
  },
  {
   "cell_type": "markdown",
   "metadata": {},
   "source": [
    "The routine will take a list of initial values $y0=(m_0,P_0,\\nu_0)$, the initial radius $r_0$ and stepsize $dr_0$, and the EOS as input. And it will return an array with $m(r)$, $P(r)$, $\\rho(r)$, $\\nu(r)$ and $r$ in nondimensional units."
   ]
  },
  {
   "cell_type": "code",
   "execution_count": 10,
   "metadata": {},
   "outputs": [],
   "source": [
    "def static(y0,r0,dr0,rhoEoS,cutoff=0.0):\n",
    "    \"\"\"Builds a neutron star model from the initial values y0 and an interpolated EOS. The solver will start\n",
    "    in r0 with an arbitrary stepsize dr0 and will stop when the\n",
    "    pressure becomes negative. Returns the mass, pressure, density and nu profiles as functions of r. The parameter cutoff\n",
    "    can be provided to stop the integration at the minimum energy density available in the EOS.\"\"\"\n",
    "    \n",
    "    def TOV(r,y):\n",
    "        mns, pns, nuns= y\n",
    "        dmdr=4.0*np.pi*r**2.0*rhoEoS(pns)\n",
    "        if (1.0-(rhoEoS(pns)/rhoEoS(y0[1])))<(10*epsilon):\n",
    "            dpdr=-4*np.pi*((pns+rhoEoS(y0[1]))*(rhoEoS(y0[1])/3+pns)/(1-(8*np.pi/3)*r**2*rhoEoS(y0[1])))*r\n",
    "            #print('h')\n",
    "        else:\n",
    "            dpdr=-((4.0*np.pi*r**3.0*pns+mns)*(pns+rhoEoS(pns)))/(r*(r-2.0*mns))\n",
    "        dnudr=-dpdr/(pns+rhoEoS(pns))\n",
    "        #print('P',pns*Pdim,'rho',rhoEoS(pns)*rhodim)\n",
    "        #print('r',r)\n",
    "        return [dmdr,dpdr,dnudr]\n",
    "    \n",
    "    ms=[]; ps=[]; rhos=[]; nus=[]; rs=[]  # creating lists to save the solution  \n",
    "    ms.append(y0[0]); ps.append(y0[1]); rhos.append(rhoEoS(y0[1])); nus.append(y0[2]); rs.append(r0) \n",
    "    y=RK4(TOV,r0,y0,dr0) # first step taken arbitrary (dr0)  \n",
    "    dr=dr0\n",
    "    r=r0+dr \n",
    "    ms.append(y[0]); ps.append(y[1]); rhos.append(rhoEoS(y[1])); nus.append(y[2]); rs.append(r) \n",
    "    while y[1] > 1e-10 and rhoEoS(y[1])*rhodim > cutoff and dr>10*epsilon:\n",
    "        #print('h2')\n",
    "        #print('P',y[1],'m',y[0],'r',r,'dr',dr)\n",
    "        dr=stepsize(y,TOV(r,y))\n",
    "        y=RK4(TOV,r,y,dr)\n",
    "        r=r+dr\n",
    "        ms.append(y[0]); ps.append(y[1]); rhos.append(rhoEoS(y[1])); nus.append(y[2]); rs.append(r) \n",
    "    return np.array([ms,ps,rhos,nus,rs])"
   ]
  },
  {
   "cell_type": "markdown",
   "metadata": {},
   "source": [
    "# Troubleshooting with exact solutions"
   ]
  },
  {
   "cell_type": "markdown",
   "metadata": {},
   "source": [
    "In order to check if the routine gives reliable results, these can be compared with exact solutions to the TOV equations that exist for very simple EOSs or, instead of a EOS, a variable given as a function of $r$."
   ]
  },
  {
   "cell_type": "markdown",
   "metadata": {},
   "source": [
    "## Schwarzschild's constant density interior solution"
   ]
  },
  {
   "cell_type": "markdown",
   "metadata": {},
   "source": [
    "The easiest exact solution to the TOV equations is found with the assumption \n",
    "$$\\rho=const, $$\n",
    "which gives \n",
    "$$ m = \\frac{4}{3}\\pi r^3$$\n",
    "\n",
    "$$ P =\\rho \\frac{\\left(1-2 M r^{2} / R^{3}\\right)^{1 / 2}-(1-2 M / R)^{1 / 2}}{3(1-2 M / R)^{1 / 2}-\\left(1-2 M r^{2} / R^{3}\\right)^{1 / 2}}, $$\n",
    "$$ e^{\\nu}=\\frac{3}{2}\\left(1-\\frac{2 M}{R}\\right)^{1 / 2}-\\frac{1}{2}\\left(1-\\frac{2 M r^{2}}{R^{3}}\\right)^{1 / 2}, $$\n",
    "where \n",
    "$$M = 4 \\pi \\rho R^{3} / 3 \\quad \\text{and}\\quad R^{2}=\\frac{3}{8 \\pi \\rho}\\left[1-\\left(\\frac{\\rho+P_{c}}{\\rho+3 P_{c}}\\right)^{2}\\right], $$\n",
    "with $P_c$ as an arbitrary constant."
   ]
  },
  {
   "cell_type": "markdown",
   "metadata": {},
   "source": [
    "### Solving numerically"
   ]
  },
  {
   "cell_type": "code",
   "execution_count": 9,
   "metadata": {},
   "outputs": [],
   "source": [
    "constantrho=(10.0**15)/(rhodim)\n",
    "P_c=(10.0**30)/(Pdim)\n",
    "R=math.sqrt(3*(1-((constantrho+P_c)/(constantrho+3*P_c))**2)/(8*np.pi*constantrho))\n",
    "M=(4*np.pi*constantrho*R**3)/3\n",
    "\n",
    "#Exact solution\n",
    "def Pexact1(r):\n",
    "    return constantrho*(math.sqrt(1-(2*M*r**2)/R**3)-math.sqrt(1-2*M/R))/(3*math.sqrt(1-(2*M*r**2)/R**3)-math.sqrt(1-2*M/R))\n",
    "\n",
    "\n",
    "#EOS used by the static routine\n",
    "def PEOSexact1(rho):\n",
    "    return constantrho\n",
    "\n",
    "mnum1,pnum1,rho1,nunum1,rnum1 = static([0.0,P_c,0.0],0.0,1e-8,PEOSexact1)\n",
    "\n",
    "Pexactt1=[]\n",
    "error1=[]\n",
    "\n",
    "for i in range(len(rnum1)):\n",
    "    r=rnum1[i]\n",
    "    Pexactt1.append(Pexact1(r))\n",
    "    error1.append(abs(Pexact1(r)-pnum1[i]))"
   ]
  },
  {
   "cell_type": "code",
   "execution_count": 10,
   "metadata": {},
   "outputs": [
    {
     "data": {
      "text/plain": [
       "<matplotlib.legend.Legend at 0x7f58d031eb70>"
      ]
     },
     "execution_count": 10,
     "metadata": {},
     "output_type": "execute_result"
    },
    {
     "data": {
      "image/png": "[encoded data removed]",
      "text/plain": [
       "<Figure size 432x288 with 1 Axes>"
      ]
     },
     "metadata": {
      "needs_background": "light"
     },
     "output_type": "display_data"
    }
   ],
   "source": [
    "plt.rc('axes', labelsize=20)\n",
    "plt.rc('xtick', labelsize=8)\n",
    "plt.rc('ytick', labelsize=8)\n",
    "\n",
    "fig=plt.figure()\n",
    "\n",
    "plt.xlabel(r'$r$')\n",
    "plt.ylabel(r'$P$')\n",
    "plt.plot(rnum1/rnum1[-1],pnum1/pnum1[0],color='blue',marker='o',markersize=1,label='Numeric')\n",
    "plt.plot(rnum1/rnum1[-1],Pexactt1/pnum1[0],color='red',label='Analytical')\n",
    "plt.legend()"
   ]
  },
  {
   "cell_type": "code",
   "execution_count": 11,
   "metadata": {},
   "outputs": [
    {
     "data": {
      "text/plain": [
       "[<matplotlib.lines.Line2D at 0x7f58d028fa58>]"
      ]
     },
     "execution_count": 11,
     "metadata": {},
     "output_type": "execute_result"
    },
    {
     "data": {
      "image/png": "[encoded data removed]",
      "text/plain": [
       "<Figure size 432x288 with 1 Axes>"
      ]
     },
     "metadata": {
      "needs_background": "light"
     },
     "output_type": "display_data"
    }
   ],
   "source": [
    "plt.rc('axes', labelsize=20)\n",
    "plt.rc('xtick', labelsize=8)\n",
    "plt.rc('ytick', labelsize=8)\n",
    "\n",
    "fig=plt.figure()\n",
    "\n",
    "plt.xlabel(r'$r$')\n",
    "plt.ylabel('Error')\n",
    "plt.plot(rnum1/rnum1[-1],error1,color='blue')"
   ]
  },
  {
   "cell_type": "markdown",
   "metadata": {},
   "source": [
    "Se encuentran errores del orden de $10^{-12}$."
   ]
  },
  {
   "cell_type": "markdown",
   "metadata": {},
   "source": [
    "## Tolman IV solution"
   ]
  },
  {
   "cell_type": "markdown",
   "metadata": {},
   "source": [
    "Assuming the relation \n",
    "$$ \\frac{e^{2\\nu} \\nu^\\prime}{2r}= \\text{const}. $$\n",
    "The solution takes the form (taken from \"Modeeling usual and unusual anisotropic spheres\" by S. Viaggiu)\n",
    "\n",
    "$$ R^2 \\rho=\\frac{3\\frac{M}{R}\\left(2 - 9 \\frac{M}{R}-7 \\frac{M^2}{R^2} \\frac{r^{2}}{R^2}+ 2 \\frac{M^{2}}{R^2} \\frac{r^{4}}{R^4} +3 \\frac{M}{R} \\frac{r^{2}}{R^2} +9 \\frac{M^{2}}{R^2}\\right)}{8 \\pi \\left(1-3\\frac{M}{R}+2 \\frac{M}{R} \\frac{r^{2}}{R^2} \\right)^{2}}, $$\n",
    "\n",
    "$$ R^2 P=  \\frac{3\\frac{M^{2}}{R^2}\\left(1-\\frac{r^{2}}{R^2}\\right)}{8 \\pi \\left(1-3 \\frac{M}{R} + 2 \\frac{M}{R} \\frac{r^{2}}{R^2} \\right)}, $$\n",
    "\n",
    "where M and R are the mass and radius at the boundary of the start. It is known that for $R > 3M$ the functions are regular. "
   ]
  },
  {
   "cell_type": "markdown",
   "metadata": {},
   "source": [
    "### Solving numerically"
   ]
  },
  {
   "cell_type": "code",
   "execution_count": 12,
   "metadata": {},
   "outputs": [],
   "source": [
    "Beta=0.15\n",
    "\n",
    "def rhoexact2(r):\n",
    "    return (3/(8*np.pi))*Beta*(2-9*Beta-7*(Beta**2)*((r)**2)+2*(Beta**2)*((r)**4)+3*Beta*((r)**2)+9*(Beta**2))/(1-3*Beta+2*Beta*(r)**2)**2\n",
    "\n",
    "#def rhoexact3(r):\n",
    "#    return Beta*(6-15*Beta+Beta*((r)**2)+6*(Beta**2)*((r)**2))/(1-3*Beta+2*Beta*(r)**2)**2\n",
    "\n",
    "def Pexact2(r):\n",
    "    return (3/(8*np.pi))*(Beta**2)*(1-(r)**2)/(1-3*Beta+2*Beta*((r)**2))\n",
    "\n",
    "#Making a sample of rho and P for a range of r\n",
    "\n",
    "n=1000 #number of samples\n",
    "rrange=1.0\n",
    "deltar=rrange/(n)\n",
    "r0temp=0.0\n",
    "\n",
    "rhotemp=np.zeros(n+1)\n",
    "Ptemp=np.zeros(n+1)\n",
    "rtemp=np.zeros(n+1)\n",
    "\n",
    "for i in range(n+1):\n",
    "    rhotemp[i]=rhoexact2(r0temp)\n",
    "    Ptemp[i]=Pexact2(r0temp)\n",
    "    rtemp[i]=r0temp\n",
    "    r0temp=r0temp+deltar\n",
    "    \n",
    "#This sample is equivalent to a equation of state\n",
    "\n",
    "\n",
    "def PEOSexact2(rho):\n",
    "    P=interpolate.interp1d(rhotemp,Ptemp)\n",
    "    return P(rho)\n",
    "def rhoEOSexact2(P):\n",
    "    rho=interpolate.interp1d(Ptemp,rhotemp)\n",
    "    return rho(P)\n",
    "\n",
    "mnum2,pnum2,rhonum2,nunum2,rnum2 = static([0.0,PEOSexact2(rhotemp[0]),0.0],0.0,1e-8,rhoEOSexact2)"
   ]
  },
  {
   "cell_type": "code",
   "execution_count": 16,
   "metadata": {},
   "outputs": [
    {
     "data": {
      "image/png": "[encoded data removed]",
      "text/plain": [
       "<Figure size 432x288 with 1 Axes>"
      ]
     },
     "metadata": {
      "needs_background": "light"
     },
     "output_type": "display_data"
    }
   ],
   "source": [
    "plt.plot(rnum2,pnum2,color='blue',marker='o',markersize=1,label='Numeric')\n",
    "plt.plot(rtemp,Ptemp,color='red',label='Analytical')\n",
    "plt.xlabel(r'$r$')\n",
    "plt.ylabel(r'$P$')\n",
    "plt.legend()\n",
    "plt.text(0.5,0.004,r'$\\mu=0.3$')\n",
    "#plt.savefig('figures/PTolmanIVmu30.png', format='png', dpi=1000,bbox_inches=\"tight\")"
   ]
  },
  {
   "cell_type": "markdown",
   "metadata": {},
   "source": [
    "### $\\mu=0.33$"
   ]
  },
  {
   "cell_type": "code",
   "execution_count": 17,
   "metadata": {},
   "outputs": [],
   "source": [
    "rT4,PT4mu33=np.loadtxt('exactEOS/PaT4mu33.dat',usecols=(0,1),unpack=True)\n",
    "rhoT4mu33=np.loadtxt('exactEOS/rhoT4mu33.dat',usecols=(1),unpack=True)\n",
    "\n",
    "def PEOSexact7(rho):\n",
    "    P=interpolate.interp1d(rhoT4mu33,PT4mu33)\n",
    "    return P(rho)\n",
    "def rhoEOSexact7(P):\n",
    "    rho=interpolate.interp1d(PT4mu33,rhoT4mu33)\n",
    "    return rho(P)\n",
    "\n",
    "mnum7,pnum7,rhonum7,nunum7,rnum7 = static([0.0,PEOSexact7(rhoT4mu33[0]),0.0],0.0,1e-8,rhoEOSexact7)"
   ]
  },
  {
   "cell_type": "code",
   "execution_count": 18,
   "metadata": {},
   "outputs": [
    {
     "data": {
      "image/png": "[encoded data removed]",
      "text/plain": [
       "<Figure size 432x288 with 1 Axes>"
      ]
     },
     "metadata": {
      "needs_background": "light"
     },
     "output_type": "display_data"
    }
   ],
   "source": [
    "plt.plot(rnum7/rnum7[-1],pnum7,color='blue',marker='o',markersize=1,label='Numeric')\n",
    "plt.plot(rT4,PT4mu33,color='red',label='Analytical')\n",
    "plt.xlabel(r'$r$')\n",
    "plt.ylabel(r'$P$')\n",
    "plt.legend()\n",
    "plt.text(0.55,0.03,r'$\\mu=0.33$')\n",
    "plt.savefig('figures/PTolmanIVmu33.png', format='png', dpi=1000,bbox_inches=\"tight\")"
   ]
  },
  {
   "cell_type": "markdown",
   "metadata": {},
   "source": [
    "## Tolman VII solution"
   ]
  },
  {
   "cell_type": "markdown",
   "metadata": {},
   "source": [
    "### $\\mu=0.4$"
   ]
  },
  {
   "cell_type": "code",
   "execution_count": 19,
   "metadata": {},
   "outputs": [],
   "source": [
    "rT7,PT7mu40=np.loadtxt('exactEOS/PaT7mu40.dat',usecols=(0,1),unpack=True)\n",
    "rhoT7mu40=np.loadtxt('exactEOS/rhoT7mu40.dat',usecols=(1),unpack=True)\n",
    "\n",
    "def PEOSexact3(rho):\n",
    "    P=interpolate.interp1d(rhoT7mu40,PT7mu40)\n",
    "    return P(rho)\n",
    "def rhoEOSexact3(P):\n",
    "    rho=interpolate.interp1d(PT7mu40,rhoT7mu40)\n",
    "    return rho(P)\n",
    "\n",
    "mnum3,pnum3,rhonum3,nunum3,rnum3 = static([0.0,PEOSexact3(rhoT7mu40[0]),0.0],0.0,1e-8,rhoEOSexact3)"
   ]
  },
  {
   "cell_type": "code",
   "execution_count": 20,
   "metadata": {},
   "outputs": [
    {
     "data": {
      "image/png": "[encoded data removed]",
      "text/plain": [
       "<Figure size 432x288 with 1 Axes>"
      ]
     },
     "metadata": {
      "needs_background": "light"
     },
     "output_type": "display_data"
    }
   ],
   "source": [
    "plt.plot(rnum3,pnum3,color='blue',marker='o',markersize=1,label='Numeric')\n",
    "plt.plot(rT7,PT7mu40,color='red',label='Analytical')\n",
    "plt.xlabel(r'$r$')\n",
    "plt.ylabel(r'$P$')\n",
    "plt.legend()\n",
    "plt.text(0.55,0.02,r'$\\mu=0.4$')\n",
    "plt.savefig('figures/PTolmanVIImu40.png', format='png', dpi=1000,bbox_inches=\"tight\")"
   ]
  },
  {
   "cell_type": "markdown",
   "metadata": {},
   "source": [
    "### $\\mu=0.45$"
   ]
  },
  {
   "cell_type": "code",
   "execution_count": 21,
   "metadata": {},
   "outputs": [],
   "source": [
    "PT7mu45=np.loadtxt('exactEOS/PaT7mu45.dat',usecols=(1),unpack=True)\n",
    "rhoT7mu45=np.loadtxt('exactEOS/rhoT7mu45.dat',usecols=(1),unpack=True)\n",
    "\n",
    "def PEOSexact4(rho):\n",
    "    P=interpolate.interp1d(rhoT7mu45,PT7mu45)\n",
    "    return P(rho)\n",
    "def rhoEOSexact4(P):\n",
    "    rho=interpolate.interp1d(PT7mu45,rhoT7mu45)\n",
    "    return rho(P)\n",
    "\n",
    "mnum4,pnum4,rhonum4,nunum4,rnum4 = static([0.0,PEOSexact4(rhoT7mu45[0]),0.0],0.0,1e-8,rhoEOSexact4)"
   ]
  },
  {
   "cell_type": "code",
   "execution_count": 22,
   "metadata": {},
   "outputs": [
    {
     "data": {
      "text/plain": [
       "Text(0.55, 0.025, '$\\\\mu=0.45$')"
      ]
     },
     "execution_count": 22,
     "metadata": {},
     "output_type": "execute_result"
    },
    {
     "data": {
      "image/png": "[encoded data removed]",
      "text/plain": [
       "<Figure size 432x288 with 1 Axes>"
      ]
     },
     "metadata": {
      "needs_background": "light"
     },
     "output_type": "display_data"
    }
   ],
   "source": [
    "plt.plot(rnum4,pnum4,color='blue',marker='o',markersize=1,label='Numeric')\n",
    "plt.plot(rT7,PT7mu45,color='red',label='Analytical')\n",
    "plt.xlabel(r'$r$')\n",
    "plt.ylabel(r'$P$')\n",
    "plt.legend()\n",
    "plt.text(0.55,0.025,r'$\\mu=0.45$')\n",
    "#plt.savefig('figures/PTolmanVIImu45.png', format='png', dpi=1000,bbox_inches=\"tight\")"
   ]
  },
  {
   "cell_type": "code",
   "execution_count": 23,
   "metadata": {},
   "outputs": [
    {
     "name": "stderr",
     "output_type": "stream",
     "text": [
      "/home/dave/anaconda3/lib/python3.7/site-packages/scipy/interpolate/fitpack2.py:226: UserWarning: \n",
      "A theoretically impossible result was found during the iteration\n",
      "process for finding a smoothing spline with fp = s: s too small.\n",
      "There is an approximation returned but the corresponding weighted sum\n",
      "of squared residuals does not satisfy the condition abs(fp-s)/s < tol.\n",
      "  warnings.warn(message)\n"
     ]
    }
   ],
   "source": [
    "k=5 #spline order kmax=5\n",
    "s=1e-11 #smooth factor\n",
    "\n",
    "rhos4=interpolate.UnivariateSpline(rnum4, rhonum4, k=k, s=s)\n",
    "drho4=interpolate.UnivariateSpline(rnum4, rhonum4, k=k, s=s).derivative(n=1)\n",
    "ddrho4=interpolate.UnivariateSpline(rnum4, rhonum4, k=k, s=s).derivative(n=2)\n",
    "\n",
    "ps4=interpolate.UnivariateSpline(rnum4, pnum4, k=k, s=s)\n",
    "dp4=interpolate.UnivariateSpline(rnum4, pnum4, k=k, s=s).derivative(n=1)\n",
    "ddp4=interpolate.UnivariateSpline(rnum4, pnum4, k=k, s=s).derivative(n=2)"
   ]
  },
  {
   "cell_type": "code",
   "execution_count": 25,
   "metadata": {},
   "outputs": [
    {
     "data": {
      "text/plain": [
       "[<matplotlib.lines.Line2D at 0x7f58cff8c240>]"
      ]
     },
     "execution_count": 25,
     "metadata": {},
     "output_type": "execute_result"
    },
    {
     "data": {
      "image/png": "[encoded data removed]",
      "text/plain": [
       "<Figure size 432x288 with 1 Axes>"
      ]
     },
     "metadata": {
      "needs_background": "light"
     },
     "output_type": "display_data"
    }
   ],
   "source": [
    "fig=plt.figure()\n",
    "\n",
    "plt.xlabel(r'$r$')\n",
    "plt.ylabel(r'$\\Delta{P}$')\n",
    "plt.plot(rT7,abs(ps4(rT7)-PT7mu45),color='blue',marker='o',markersize=1,label='Numeric')"
   ]
  },
  {
   "cell_type": "markdown",
   "metadata": {},
   "source": [
    "The propagation of error from calculating the derivative numerically can also be obtained"
   ]
  },
  {
   "cell_type": "code",
   "execution_count": 26,
   "metadata": {},
   "outputs": [],
   "source": [
    "rhoppT7mu45=np.loadtxt('exact_derivatives/rhoppaT7mu45.dat',usecols=(1),unpack=True)"
   ]
  },
  {
   "cell_type": "code",
   "execution_count": 27,
   "metadata": {},
   "outputs": [
    {
     "data": {
      "text/plain": [
       "<matplotlib.legend.Legend at 0x7f58cfef0438>"
      ]
     },
     "execution_count": 27,
     "metadata": {},
     "output_type": "execute_result"
    },
    {
     "data": {
      "image/png": "[encoded data removed]",
      "text/plain": [
       "<Figure size 432x288 with 1 Axes>"
      ]
     },
     "metadata": {
      "needs_background": "light"
     },
     "output_type": "display_data"
    }
   ],
   "source": [
    "plt.plot(rT7,rhoppT7mu45,color='blue',label='Analytical')\n",
    "plt.plot(rT7,ddrho4(rT7),color='red',label='Numeric')\n",
    "plt.xlabel(r'$r$')\n",
    "plt.ylabel(r'$\\rho^{\\prime\\prime}$')\n",
    "plt.xlim(0,0.8)\n",
    "plt.ylim(-0.5,0.5)\n",
    "plt.legend()\n",
    "\n",
    "#plt.savefig('figures/rhoppTolmanVIImu45.png', format='png', dpi=1000,bbox_inches=\"tight\")"
   ]
  },
  {
   "cell_type": "code",
   "execution_count": 28,
   "metadata": {},
   "outputs": [
    {
     "data": {
      "text/plain": [
       "[<matplotlib.lines.Line2D at 0x7f58cfed0e48>]"
      ]
     },
     "execution_count": 28,
     "metadata": {},
     "output_type": "execute_result"
    },
    {
     "data": {
      "image/png": "[encoded data removed]",
      "text/plain": [
       "<Figure size 432x288 with 1 Axes>"
      ]
     },
     "metadata": {
      "needs_background": "light"
     },
     "output_type": "display_data"
    }
   ],
   "source": [
    "fig=plt.figure()\n",
    "\n",
    "plt.xlabel(r'$r$')\n",
    "plt.ylabel(r'$\\Delta{\\rho^{\\prime\\prime}}$')\n",
    "plt.plot(rT7,abs(ddrho4(rT7)-rhoppT7mu45),color='blue',marker='o',markersize=1,label='Numeric')"
   ]
  },
  {
   "cell_type": "markdown",
   "metadata": {},
   "source": [
    "The error is significant only close to the edge of the star."
   ]
  },
  {
   "cell_type": "markdown",
   "metadata": {},
   "source": [
    "### $\\mu=0.5$"
   ]
  },
  {
   "cell_type": "code",
   "execution_count": 33,
   "metadata": {},
   "outputs": [],
   "source": [
    "PT7mu50=np.loadtxt('exactEOS/PaT7mu50.dat',usecols=(1),unpack=True)\n",
    "rhoT7mu50=np.loadtxt('exactEOS/rhoT7mu50.dat',usecols=(1),unpack=True)\n",
    "\n",
    "def PEOSexact5(rho):\n",
    "    P=interpolate.interp1d(rhoT7mu50,PT7mu50)\n",
    "    return P(rho)\n",
    "def rhoEOSexact5(P):\n",
    "    rho=interpolate.interp1d(PT7mu50,rhoT7mu50)\n",
    "    return rho(P)\n",
    "\n",
    "mnum5,pnum5,rhonum5,nunum5,rnum5 = static([0.0,PEOSexact5(rhoT7mu50[0]),0.0],0.0,1e-8,rhoEOSexact5)"
   ]
  },
  {
   "cell_type": "code",
   "execution_count": 34,
   "metadata": {},
   "outputs": [
    {
     "data": {
      "image/png": "[encoded data removed]",
      "text/plain": [
       "<Figure size 432x288 with 1 Axes>"
      ]
     },
     "metadata": {
      "needs_background": "light"
     },
     "output_type": "display_data"
    }
   ],
   "source": [
    "plt.plot(rnum5,pnum5,color='blue',marker='o',markersize=1,label='Numeric')\n",
    "plt.plot(rT7,PT7mu50,color='red',label='Analytical')\n",
    "plt.xlabel(r'$r$')\n",
    "plt.ylabel(r'$P$')\n",
    "plt.legend()\n",
    "plt.text(0.55,0.03,r'$\\mu=0.50$')\n",
    "plt.savefig('figures/PTolmanVIImu50.png', format='png', dpi=1000,bbox_inches=\"tight\")"
   ]
  },
  {
   "cell_type": "code",
   "execution_count": 35,
   "metadata": {},
   "outputs": [],
   "source": [
    "PT7mu52=np.loadtxt('exactEOS/PaT7mu52.dat',usecols=(1),unpack=True)\n",
    "rhoT7mu52=np.loadtxt('exactEOS/rhoT7mu52.dat',usecols=(1),unpack=True)\n",
    "\n",
    "def PEOSexact6(rho):\n",
    "    P=interpolate.interp1d(rhoT7mu52,PT7mu52)\n",
    "    return P(rho)\n",
    "def rhoEOSexact6(P):\n",
    "    rho=interpolate.interp1d(PT7mu52,rhoT7mu52)\n",
    "    return rho(P)\n",
    "\n",
    "mnum6,pnum6,rhonum6,nunum6,rnum6 = static([0.0,PEOSexact6(rhoT7mu52[0]),0.0],0.0,1e-8,rhoEOSexact6)"
   ]
  },
  {
   "cell_type": "code",
   "execution_count": 36,
   "metadata": {},
   "outputs": [
    {
     "data": {
      "image/png": "[encoded data removed]",
      "text/plain": [
       "<Figure size 432x288 with 1 Axes>"
      ]
     },
     "metadata": {
      "needs_background": "light"
     },
     "output_type": "display_data"
    }
   ],
   "source": [
    "plt.plot(rnum6,pnum6,color='blue',marker='o',markersize=1,label='Numeric')\n",
    "plt.plot(rT7,PT7mu52,color='red',label='Analytical')\n",
    "plt.xlabel(r'$r$')\n",
    "plt.ylabel(r'$P$')\n",
    "plt.legend()\n",
    "plt.text(0.55,0.032,r'$\\mu=0.52$')\n",
    "plt.savefig('figures/PTolmanVIImu52.png', format='png', dpi=1000,bbox_inches=\"tight\")"
   ]
  },
  {
   "cell_type": "markdown",
   "metadata": {},
   "source": [
    "# Constructing real models: an example"
   ]
  },
  {
   "cell_type": "markdown",
   "metadata": {},
   "source": [
    "Choosing initial values and parameters"
   ]
  },
  {
   "cell_type": "code",
   "execution_count": 52,
   "metadata": {},
   "outputs": [],
   "source": [
    "r0=0\n",
    "dr0=1e-8\n",
    "rho0=10.0**16.2\n",
    "m0=0\n",
    "nu0=0"
   ]
  },
  {
   "cell_type": "markdown",
   "metadata": {},
   "source": [
    "and picking one of the EOS"
   ]
  },
  {
   "cell_type": "code",
   "execution_count": 78,
   "metadata": {},
   "outputs": [],
   "source": [
    "m,p,rho,nu,r = static([m0,P_SQM1(rho0/rhodim),nu0],r0,dr0,rho_SQM1,cutoff=(1+1e-3)*np.amin(rhoSQM1))"
   ]
  },
  {
   "cell_type": "code",
   "execution_count": 80,
   "metadata": {},
   "outputs": [
    {
     "data": {
      "text/plain": [
       "678491595472900.0"
      ]
     },
     "execution_count": 80,
     "metadata": {},
     "output_type": "execute_result"
    }
   ],
   "source": [
    "np.amin(rhoSQM1)"
   ]
  },
  {
   "cell_type": "markdown",
   "metadata": {},
   "source": [
    "### Interpolating and finding derivatives"
   ]
  },
  {
   "cell_type": "markdown",
   "metadata": {},
   "source": [
    "Using a spline with a smooth factor that fixes the number of knots for the fitting. The function UnivariateSpline (https://docs.scipy.org/doc/scipy-0.17.0/reference/generated/scipy.interpolate.UnivariateSpline.html#scipy.interpolate.UnivariateSpline) allows one to find derivatives of the interpolation"
   ]
  },
  {
   "cell_type": "code",
   "execution_count": 16,
   "metadata": {},
   "outputs": [],
   "source": [
    "k=5 #spline order kmax=5\n",
    "s=1e-20 #smooth factor\n",
    "rhos=interpolate.UnivariateSpline(r, rho, k=k, s=s)\n",
    "drho=interpolate.UnivariateSpline(r, rho, k=k, s=s).derivative(n=1)\n",
    "ddrho=interpolate.UnivariateSpline(r, rho, k=k, s=s).derivative(n=2)\n",
    "\n",
    "ps=interpolate.UnivariateSpline(r, p, k=k, s=s)\n",
    "dp=interpolate.UnivariateSpline(r, p, k=k, s=s).derivative(n=1)\n",
    "ddp=interpolate.UnivariateSpline(r, p, k=k, s=s).derivative(n=2)"
   ]
  },
  {
   "cell_type": "markdown",
   "metadata": {},
   "source": [
    "Plotting using the initial values to scale the solution"
   ]
  },
  {
   "cell_type": "code",
   "execution_count": 17,
   "metadata": {
    "scrolled": false
   },
   "outputs": [
    {
     "data": {
      "image/png": "[encoded data removed]",
      "text/plain": [
       "<Figure size 921.6x576 with 6 Axes>"
      ]
     },
     "metadata": {
      "needs_background": "light"
     },
     "output_type": "display_data"
    },
    {
     "data": {
      "text/plain": [
       "<Figure size 432x288 with 0 Axes>"
      ]
     },
     "metadata": {},
     "output_type": "display_data"
    }
   ],
   "source": [
    "plt.rc('axes', labelsize=20)\n",
    "plt.rc('xtick', labelsize=8)\n",
    "plt.rc('ytick', labelsize=8)\n",
    "\n",
    "fig=plt.figure(figsize=[12.8,8])\n",
    "\n",
    "plt.subplot(321)\n",
    "plt.plot(r/(r[-1]),rho/abs(rho[0]),color='red',marker='o',markersize='0.4') \n",
    "plt.plot(r/(r[-1]),rhos(r)/abs(rho[0]),color='blue',linewidth='0.5') \n",
    "plt.ylabel(r'$\\rho/\\rho_c$')\n",
    "plt.xlim(0,0.8) # leaving the crust out\n",
    "\n",
    "plt.subplot(322)\n",
    "plt.plot(r/(r[-1]),p/abs(p[0]),color='red',marker='o',markersize='0.4') \n",
    "plt.plot(r/(r[-1]),ps(r)/abs(p[0]),color='blue',linewidth='0.5') \n",
    "plt.ylabel(r'$P/P_c$')\n",
    "plt.xlim(0,0.8)\n",
    "\n",
    "plt.subplot(323)\n",
    "plt.plot(r/(r[-1]),drho(r)/max(abs(drho(r))),'b-', linewidth=0.5) \n",
    "plt.ylabel(r'$\\rho^{\\prime}/\\rho^{\\prime}_{c} $')\n",
    "plt.xlim(0,0.8)\n",
    "#plt.ylim(-500,0)\n",
    "\n",
    "plt.subplot(324)\n",
    "plt.plot(r/(r[-1]),dp(r)/max(abs(dp(r))),'b-', linewidth=0.5) \n",
    "plt.ylabel(r'$P^{\\prime}/P^{\\prime}_{c} $')\n",
    "plt.xlim(0,0.8)\n",
    "\n",
    "plt.subplot(325)\n",
    "plt.plot(r/(r[-1]),ddrho(r)/max(abs(ddrho(r))),'b-', linewidth=0.5) \n",
    "plt.ylabel(r'$\\rho^{\\prime\\prime}/\\rho^{\\prime\\prime}_{c}$')\n",
    "plt.xlabel(r'$r/R$')\n",
    "plt.xlim(0,0.8)\n",
    "plt.ylim(-0.01,0.01)\n",
    "\n",
    "plt.subplot(326)\n",
    "plt.plot(r/(r[-1]),ddp(r)/max(abs(ddp(r))),'b-', linewidth=0.5) \n",
    "plt.ylabel(r'$P^{\\prime\\prime}/P^{\\prime\\prime}_{c}$ ')\n",
    "plt.xlabel(r'$r/R$')\n",
    "plt.xlim(0,0.8)\n",
    "#plt.ylim(-1,1)\n",
    "\n",
    "fig.subplots_adjust(hspace=0.3,wspace=0.3)\n",
    "\n",
    "plt.savefig('figures/ddsSLy.pdf', format='pdf', dpi=1000,bbox_inches=\"tight\")\n",
    "plt.show()\n",
    "plt.clf()"
   ]
  },
  {
   "cell_type": "markdown",
   "metadata": {},
   "source": [
    "## $M-\\rho_c$ and $M-R$ diagrams"
   ]
  },
  {
   "cell_type": "markdown",
   "metadata": {},
   "source": [
    "The family of models are obtained choosing a range of central densities $rhosc$"
   ]
  },
  {
   "cell_type": "code",
   "execution_count": 54,
   "metadata": {},
   "outputs": [],
   "source": [
    "def MRrhoc(m0,r0,dr0,rhosc,rhoEoS,PEoS,cutoff=0.0):\n",
    "    \"\"\"Builds a family of neutron star models from an equation of state P(rho) and rho(P), given a range of central densities rhosc.\n",
    "    Returns three lists with the values of Rstar (RR) and Mstar (MM) for the corresponding value of rhoc (rhorho).\"\"\"\n",
    "    psc=PEoS(rhosc/rhodim) #Range of central pressures\n",
    "    MM=[];RR=[];rhorho=[]\n",
    "    for pc in psc:\n",
    "        m,p,rho,nu,r = static([m0,pc,0],r0,dr0,rhoEoS,cutoff)\n",
    "        RR.append(r[-1]*rdim*1e-5); MM.append(m[-1]*mdim/Msun); rhorho.append(rho[0]*rhodim)\n",
    "    return [RR,MM,rhorho]"
   ]
  },
  {
   "cell_type": "code",
   "execution_count": 55,
   "metadata": {},
   "outputs": [],
   "source": [
    "#Range of central densities (It has to take into consideration how high the EOS's energy density goes)\n",
    "n=np.arange(14.9,16.2,0.02)\n",
    "rhosc=10.0**n "
   ]
  },
  {
   "cell_type": "code",
   "execution_count": 56,
   "metadata": {},
   "outputs": [],
   "source": [
    "#MRNL3=MRrhoc(m0,r0,dr0,rhosc,rho_NL3,P_NL3)\n",
    "#MRALF1=MRrho(m_0,r0,dr0,rhosc,rho_ALF1,P_ALF1)\n",
    "#MRSLy=MRrho(m_0,r0,dr0,rhosc,rho_SLy,P_SLy)\n",
    "#MRH1=MRrho(m0,r0,dr0,rhosc,rho_H1,P_H1)\n",
    "#MRBSK19=MRrho(m0,r0,dr0,rhosc,rho_BSK19,P_BSK19)\n",
    "#MRBSK20=MRrho(m0,r0,dr0,rhosc,rho_BSK20,P_BSK20)\n",
    "MRSQM1=MRrhoc(m0,r0,dr0,rhosc,rho_SQM1,P_SQM1,7e+14)"
   ]
  },
  {
   "cell_type": "markdown",
   "metadata": {},
   "source": [
    "Plotting $M-R$"
   ]
  },
  {
   "cell_type": "code",
   "execution_count": 61,
   "metadata": {},
   "outputs": [
    {
     "data": {
      "image/png": "[encoded data removed]",
      "text/plain": [
       "<Figure size 432x288 with 1 Axes>"
      ]
     },
     "metadata": {
      "needs_background": "light"
     },
     "output_type": "display_data"
    },
    {
     "data": {
      "text/plain": [
       "<Figure size 432x288 with 0 Axes>"
      ]
     },
     "metadata": {},
     "output_type": "display_data"
    }
   ],
   "source": [
    "plt.rc('text', usetex=True)\n",
    "plt.rc('font', family='serif')\n",
    "plt.rc('axes', labelsize=20)\n",
    "plt.rc('xtick', labelsize=8)\n",
    "plt.rc('ytick', labelsize=8)\n",
    "\n",
    "fig = plt.figure()\n",
    "\n",
    "#plt.plot(MRALF1[0], MRALF1[1],'-', linewidth=1.2,label='ALF1')\n",
    "#plt.plot(MRSLy[0], MRSLy[1],'-', linewidth=1.2,label='SLy')\n",
    "#plt.plot(MRNL3[0], MRNL3[1],'-', linewidth=1.2,label='NL3')\n",
    "#plt.plot(MRH1[0], MRH1[1],'-', linewidth=1.2,label='H1')\n",
    "#plt.plot(MRBSK19[0], MRBSK19[1],'-', linewidth=1.2,label='BSK19')\n",
    "#plt.plot(MRBSK20[0], MRBSK20[1],'-', linewidth=1.2,label='BSK20')\n",
    "plt.plot(MRSQM1[0], MRSQM1[1],'-', linewidth=1.2,label='SQM1')\n",
    "\n",
    "plt.xlabel(r'$R\\,[km]$')\n",
    "plt.ylabel(r'$M/M_{\\odot}$')\n",
    "plt.legend()\n",
    "#plt.savefig('figures/MRrels.pdf', format='pdf', dpi=1000,bbox_inches=\"tight\")\n",
    "plt.show()\n",
    "plt.clf()"
   ]
  },
  {
   "cell_type": "markdown",
   "metadata": {},
   "source": [
    "Plotting $M-\\rho_c$"
   ]
  },
  {
   "cell_type": "code",
   "execution_count": 79,
   "metadata": {},
   "outputs": [
    {
     "data": {
      "image/png": "[encoded data removed]",
      "text/plain": [
       "<Figure size 432x288 with 1 Axes>"
      ]
     },
     "metadata": {
      "needs_background": "light"
     },
     "output_type": "display_data"
    },
    {
     "data": {
      "text/plain": [
       "<Figure size 432x288 with 0 Axes>"
      ]
     },
     "metadata": {},
     "output_type": "display_data"
    }
   ],
   "source": [
    "plt.rc('text', usetex=True)\n",
    "plt.rc('font', family='serif')\n",
    "plt.rc('axes', labelsize=20)\n",
    "plt.rc('xtick', labelsize=8)\n",
    "plt.rc('ytick', labelsize=8)\n",
    "\n",
    "fig=plt.figure()\n",
    "\n",
    "plt.plot(MRSQM1[2], MRSQM1[1], '-', linewidth=1.2,label='SQM1')\n",
    "plt.xscale('log')\n",
    "plt.xlabel(r'$\\rho_c\\,[g/cm^{3}]$')\n",
    "plt.ylabel(r'$M/M_{\\odot}$')\n",
    "plt.legend()\n",
    "plt.savefig('figures/Mrhorel_NL3.pdf', format='pdf', dpi=1000,bbox_inches=\"tight\")\n",
    "plt.show()\n",
    "plt.clf()"
   ]
  },
  {
   "cell_type": "code",
   "execution_count": null,
   "metadata": {},
   "outputs": [],
   "source": []
  }
 ],
 "metadata": {
  "kernelspec": {
   "display_name": "Python 3",
   "language": "python",
   "name": "python3"
  },
  "language_info": {
   "codemirror_mode": {
    "name": "ipython",
    "version": 3
   },
   "file_extension": ".py",
   "mimetype": "text/x-python",
   "name": "python",
   "nbconvert_exporter": "python",
   "pygments_lexer": "ipython3",
   "version": "3.7.3"
  }
 },
 "nbformat": 4,
 "nbformat_minor": 2
}
