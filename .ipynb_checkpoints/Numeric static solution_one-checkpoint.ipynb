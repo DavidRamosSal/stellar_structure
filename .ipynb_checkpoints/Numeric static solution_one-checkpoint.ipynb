{
 "cells": [
  {
   "cell_type": "code",
   "execution_count": 1,
   "metadata": {},
   "outputs": [],
   "source": [
    "import numpy as np\n",
    "import matplotlib.pyplot as plt\n",
    "from scipy import integrate\n",
    "from scipy import interpolate"
   ]
  },
  {
   "cell_type": "markdown",
   "metadata": {},
   "source": [
    "## System of Equations"
   ]
  },
  {
   "cell_type": "markdown",
   "metadata": {},
   "source": [
    "The equations of structure of an compact object with spherical symmetry (neutron stars in our case) is given by (in units where $c=G=1$):"
   ]
  },
  {
   "cell_type": "markdown",
   "metadata": {},
   "source": [
    "$$ P=P(\\rho), $$\n",
    "$$ \\frac{dm}{dr}=4\\pi \\rho r^2 , $$\n",
    "$$ \\frac{dP}{dr}=-(\\rho+P)\\frac{m+4\\pi r^3 P}{r(r-2m)} , $$"
   ]
  },
  {
   "cell_type": "markdown",
   "metadata": {},
   "source": [
    "and if is required"
   ]
  },
  {
   "cell_type": "markdown",
   "metadata": {},
   "source": [
    "\n",
    "$$ \\frac{d\\nu}{dr}= \\frac{m+4\\pi r^3 P}{r(r-2m)} .$$\n"
   ]
  },
  {
   "cell_type": "markdown",
   "metadata": {},
   "source": [
    "    "
   ]
  },
  {
   "cell_type": "markdown",
   "metadata": {},
   "source": [
    "Nondimensionalizing the variables:\n"
   ]
  },
  {
   "cell_type": "markdown",
   "metadata": {},
   "source": [
    "$r=b\\bar{r} \\quad ; \\quad \\rho=\\Sigma \\bar{\\rho} \\quad ; \\quad m=m_*\\bar{m} \\quad ; \\quad  P=P_* \\bar{P}$ "
   ]
  },
  {
   "cell_type": "markdown",
   "metadata": {},
   "source": [
    "with $\\Sigma=\\Sigma(m_n)$."
   ]
  },
  {
   "cell_type": "markdown",
   "metadata": {},
   "source": [
    "    "
   ]
  },
  {
   "cell_type": "markdown",
   "metadata": {},
   "source": [
    "So if we want just one parameter ($m_n$), given $\\Sigma$, the other parameters $b$, $m_*$, $P_*$ are found by forcing the nondimensional equation to keep the same form:\n",
    "\n",
    "$$ b=\\frac{1}{\\sqrt{\\Sigma}} \\quad ; \\quad m_*=b \\quad ; \\quad P_*=\\Sigma.$$\n",
    "\n",
    "With a particular choice of $\\Sigma$ and fixing the units with factors of $c$ and $G$ we have:\n",
    "\n",
    "\n",
    "$$ \\Sigma=\\frac{m_{n}^{4}c^{3}}{8 \\pi^2 \\hbar^3}\\quad;\\quad b=\\frac{c}{\\sqrt{\\Sigma G}}\\quad, \\quad m= \\frac{b c^2}{G} \\bar{m} \\quad; \\quad P= \\Sigma c^2 \\bar{P},$$"
   ]
  },
  {
   "cell_type": "markdown",
   "metadata": {},
   "source": [
    "and the nondimensional system of equations keeps the same form:"
   ]
  },
  {
   "cell_type": "markdown",
   "metadata": {},
   "source": [
    "$$ \\bar{P}=\\bar{P}(\\bar{\\rho}), $$\n",
    "$$ \\frac{d\\bar{m}}{\\bar{dr}}=4\\pi \\bar{\\rho} \\bar{r}^2 , $$\n",
    "$$ \\frac{d\\bar{P}}{d\\bar{r}}=-(\\bar{\\rho}+\\bar{P})\\frac{\\bar{m}+4\\pi \\bar{r}^3 \\bar{P}}{\\bar{r}(\\bar{r}-2\\bar{m})} . $$"
   ]
  },
  {
   "cell_type": "markdown",
   "metadata": {},
   "source": [
    "## Solving the system"
   ]
  },
  {
   "cell_type": "markdown",
   "metadata": {},
   "source": [
    "To solve this system of equations we need two initial conditions:\n",
    "\n",
    "$$ \\bar{P}{(0)}=P_{c}{(\\bar{\\rho_{c}})} \\quad ; \\quad \\bar{m}{(0)}=0,$$\n",
    "\n",
    "depending on the choice of $\\rho_{c}$."
   ]
  },
  {
   "cell_type": "markdown",
   "metadata": {},
   "source": [
    "We want our equation of state to be a table of numbers $(\\rho_{i},P_{i})$, this equation of state will depend on the theoretical model used to study the interior of the neutron star."
   ]
  },
  {
   "cell_type": "markdown",
   "metadata": {},
   "source": [
    "Loading some constants (in cgs units) from a separeted file and declaring the parameters that carry the dimensions"
   ]
  },
  {
   "cell_type": "code",
   "execution_count": 2,
   "metadata": {},
   "outputs": [],
   "source": [
    "import Physical_Const as phys\n",
    "h=phys.h \n",
    "c=phys.c\n",
    "G=phys.G\n",
    "Msun=phys.Msun\n",
    "mn=phys.mn # Neutron mass\n",
    "\n",
    "\n",
    "Sigma=mn**4.0*c**3.0/(8.0*np.pi**2*(h/(2.0*np.pi))**3.0) #Dimensions of energy density\n",
    "b=c/np.sqrt(Sigma*G) # Dimensions of radius\n",
    "mdim=b*c**2.0/G # Dimensions of mass\n",
    "pdim=Sigma*c**2 # Dimensions of pressure"
   ]
  },
  {
   "cell_type": "markdown",
   "metadata": {},
   "source": [
    "loading the equation of state and interpolating it linearly"
   ]
  },
  {
   "cell_type": "code",
   "execution_count": 3,
   "metadata": {},
   "outputs": [],
   "source": [
    "rhoEoS,PEoS=np.loadtxt('EOSFull_NL3_BPS02.dat',usecols=(0,1),unpack=True) \n",
    "\n",
    "# Interpolating P\n",
    "\n",
    "def P_EoS(r):\n",
    "    pp=interpolate.interp1d(rhoEoS/Sigma,PEoS/pdim)\n",
    "    return pp(r)\n",
    "\n",
    "\n",
    "# Interpolating Rho\n",
    "\n",
    "def rho_EoS(r):\n",
    "    rhorho=interpolate.interp1d(PEoS/pdim,rhoEoS/Sigma)\n",
    "    return rhorho(r)\n"
   ]
  },
  {
   "cell_type": "markdown",
   "metadata": {},
   "source": [
    "Comparing the table and the interpolation"
   ]
  },
  {
   "cell_type": "code",
   "execution_count": 4,
   "metadata": {},
   "outputs": [
    {
     "data": {
      "image/png": "[encoded data removed]",
      "text/plain": [
       "<matplotlib.figure.Figure at 0x7f5bd108cd30>"
      ]
     },
     "metadata": {},
     "output_type": "display_data"
    },
    {
     "data": {
      "text/plain": [
       "<matplotlib.figure.Figure at 0x7f5bc8afaa58>"
      ]
     },
     "metadata": {},
     "output_type": "display_data"
    }
   ],
   "source": [
    "plt.rc('axes', labelsize=20)\n",
    "plt.rc('xtick', labelsize=8)\n",
    "plt.rc('ytick', labelsize=8)\n",
    "\n",
    "fig=plt.figure()\n",
    "ax = fig.add_subplot(1, 1, 1)\n",
    "\n",
    "plt.loglog(rhoEoS,P_EoS(rhoEoS/Sigma)*pdim,'k-', \\\n",
    "           linewidth=1.2,label=\"Interpolation\") # Interpolación\n",
    "plt.loglog(rhoEoS,PEoS,'ro', \\\n",
    "           markersize=3,label='Data') # Valores de la tabla\n",
    "plt.xlabel(r'$\\rho\\,[g/cm^3]$')\n",
    "plt.ylabel(r'$P\\,[dyn/cm^{2}]$')\n",
    "plt.savefig('NL3EoS.png', format='png', dpi=1000)\n",
    "#plt.savefig('NL3EoS.eps')\n",
    "plt.show()\n",
    "plt.clf()"
   ]
  },
  {
   "cell_type": "markdown",
   "metadata": {},
   "source": [
    "With the equation of state interpolated we can declare the system of equations:"
   ]
  },
  {
   "cell_type": "code",
   "execution_count": 5,
   "metadata": {},
   "outputs": [],
   "source": [
    "def TOV(r,y):\n",
    "    mns, pns, nuns = y\n",
    "    dmdr=4.0*np.pi*r**2.0*rho_EoS(pns)\n",
    "    dnudr=(4.0*np.pi*r**3.0*pns+mns)/(r*(r-2.0*mns))\n",
    "    dpdr=-dnudr*(pns+rho_EoS(pns))\n",
    "    return [dmdr,dpdr,dnudr]"
   ]
  },
  {
   "cell_type": "markdown",
   "metadata": {},
   "source": [
    "# Stellar structure"
   ]
  },
  {
   "cell_type": "markdown",
   "metadata": {},
   "source": [
    "Setting up the integration routine"
   ]
  },
  {
   "cell_type": "code",
   "execution_count": 6,
   "metadata": {},
   "outputs": [],
   "source": [
    "def StaticSeq(y0,r0,dr):\n",
    "    \"\"\"  \"\"\"\n",
    "    Static=integrate.ode(TOV).set_integrator('dopri5',atol=1e-9) # Dopri (Dorman-Prince method) is a R-K method of order (4)5\n",
    "    Static.set_initial_value(y0,r0)\n",
    "    ms=[]; ps=[];rs=[] \n",
    "    ms.append(y0[0]*mdim/Msun); ps.append(y0[1]*pdim); rs.append(r0*b*1e-5)\n",
    "    while Static.successful() and Static.y[1]>1e-9: \n",
    "        Static.integrate(Static.t+dr)\n",
    "        ms.append(Static.y[0]*mdim/Msun);ps.append(Static.y[1]*pdim); rs.append(Static.t*b*1e-5)  \n",
    "    return [ms,ps,rs] \n",
    "    # Returns arrays of m(r) in solar masses, P(r) in cgs and r in km"
   ]
  },
  {
   "cell_type": "markdown",
   "metadata": {},
   "source": [
    "## M-R and M-$\\rho_c$"
   ]
  },
  {
   "cell_type": "markdown",
   "metadata": {},
   "source": [
    "The same integration routine (without saving the arrays)"
   ]
  },
  {
   "cell_type": "code",
   "execution_count": 7,
   "metadata": {},
   "outputs": [],
   "source": [
    "def StaticSeqMR(y0,r0,dr):\n",
    "    Static=integrate.ode(TOV).set_integrator('dop853',atol=1e-9) # Dopri (Dorman-Prince method) is a R-K method of order (4)5\n",
    "    Static.set_initial_value(y0,r0)\n",
    "    while Static.successful() and Static.y[1]>1e-9:\n",
    "        Static.integrate(Static.t+dr)\n",
    "    mstar=Static.y[0]\n",
    "    rstar=Static.t\n",
    "    nustar=np.log(1-2.0*Static.y[0]/Static.t)-Static.y[2]  \n",
    "    return [mstar*mdim/Msun,rstar*b*1e-5,rho_EoS(y0[1])*Sigma] \n",
    "    # Returns mass of the star in solar masses, radius of the star in km and rho_c in cgs"
   ]
  },
  {
   "cell_type": "markdown",
   "metadata": {},
   "source": [
    "We choose the values for $\\rho_c$ we want to consider and integrate from $r0$ every $dr$ saving the different values of $M_{star}$, $R_{star}$ and $\\rho_c$ (slow):"
   ]
  },
  {
   "cell_type": "code",
   "execution_count": 8,
   "metadata": {},
   "outputs": [],
   "source": [
    "#Range of central densities and central pressures\n",
    "n=np.arange(14.1,16,0.05)\n",
    "rhosc=10.0**n \n",
    "psc=P_EoS(rhosc/Sigma) "
   ]
  },
  {
   "cell_type": "code",
   "execution_count": 9,
   "metadata": {},
   "outputs": [],
   "source": [
    "#Initial values\n",
    "dr=1e-4 # Step size\n",
    "r0=dr/1000.0 # Initial point\n",
    "m0=0 \n",
    "nu0=0"
   ]
  },
  {
   "cell_type": "code",
   "execution_count": 10,
   "metadata": {},
   "outputs": [
    {
     "name": "stdout",
     "output_type": "stream",
     "text": [
      "[0.12529212086699482, 24.23781654012029, 125892541179416.62]\n",
      "[0.1577585818653909, 19.721785792475682, 141253754462275.53]\n",
      "[0.20019485511821788, 17.385991632902773, 158489319246111.75]\n",
      "[0.2532012156435257, 16.105072255072468, 177827941003893.0]\n",
      "[0.3169729809702429, 15.390479660988769, 199526231496889.1]\n",
      "[0.38973810691073363, 14.991863384016908, 223872113856835.62]\n",
      "[0.4741307964282777, 14.7633882008745, 251188643150960.28]\n",
      "[0.5738851515688449, 14.634567086975059, 281838293126448.4]\n",
      "[0.6934093464726957, 14.57137182355269, 316227766016841.8]\n",
      "[0.8417109999644108, 14.554357714169743, 354813389233580.4]\n",
      "[1.0263621046407219, 14.57866358471681, 398107170553503.44]\n",
      "[1.2561955661591946, 14.629705912865644, 446683592150970.8]\n",
      "[1.5229861558919435, 14.692901176288013, 501187233627281.7]\n",
      "[1.8025083510962188, 14.731790569163316, 562341325190360.56]\n",
      "[2.066202947897409, 14.719637633889784, 630957344480207.1]\n",
      "[2.289649252428209, 14.649150609303298, 707945784384154.8]\n",
      "[2.465651226674426, 14.525190669513266, 794328234724301.6]\n",
      "[2.5965569124856067, 14.362341336847933, 891250938133769.6]\n",
      "[2.6888793674680103, 14.172755546580829, 1000000000000028.6]\n",
      "[2.7499245768774796, 13.963725059876076, 1122018454301997.4]\n",
      "[2.786305480399487, 13.747402812007198, 1258925411794207.2]\n",
      "[2.803511860312244, 13.526219390028912, 1412537544622801.8]\n",
      "[2.805898217559667, 13.305035968050623, 1584893192461169.2]\n",
      "[2.796895078428569, 13.086283133127042, 1778279410038988.2]\n",
      "[2.7791940923379665, 12.869960885258166, 1995262314968956.2]\n",
      "[2.7548648017905677, 12.663360985608119, 2238721138568429.2]\n",
      "[2.725588217736067, 12.46162226006748, 2511886431509685.0]\n",
      "[2.6926580060067455, 12.26960588274567, 2818382931264576.0]\n",
      "[2.6571123810210184, 12.084881266587978, 3162277660168521.5]\n",
      "[2.619812152439115, 11.909878998649113, 3548133892335920.0]\n",
      "[2.5814078623654573, 11.744599078929074, 3981071705535165.0]\n",
      "[2.5424971737479276, 11.589041507427861, 4466835921509854.0]\n",
      "[2.5035002053105986, 11.440775697090766, 5011872336272981.0]\n",
      "[2.464841562375758, 11.304662822027206, 5623413251903790.0]\n",
      "[2.4268056618421987, 11.178272295182467, 6309573444802278.0]\n",
      "[2.389694986891454, 11.061604116556557, 7079457843841779.0]\n",
      "[2.3537144202363605, 10.954658286149472, 7943282347243276.0]\n",
      "[2.319075335933823, 10.857434803961215, 8912509381337988.0]\n",
      "[2.2859351717975804, 10.772364257046489, 1.0000000000000654e+16]\n"
     ]
    }
   ],
   "source": [
    "MM=[];RR=[];rhorho=[]\n",
    "\n",
    "for pc in psc:\n",
    "    MRrho=StaticSeqMR([m0,pc,nu0],r0,dr)\n",
    "    print(MRrho)\n",
    "    RR=RR+[MRrho[1]]\n",
    "    MM=MM+[MRrho[0]]\n",
    "    rhorho=rhorho+[MRrho[2]]"
   ]
  },
  {
   "cell_type": "markdown",
   "metadata": {},
   "source": [
    "### Mass-Radius Relation"
   ]
  },
  {
   "cell_type": "markdown",
   "metadata": {},
   "source": [
    "Plotting the M-R relation"
   ]
  },
  {
   "cell_type": "code",
   "execution_count": 11,
   "metadata": {},
   "outputs": [
    {
     "data": {
      "image/png": "[encoded data removed]",
      "text/plain": [
       "<matplotlib.figure.Figure at 0x7f5bc2ad0898>"
      ]
     },
     "metadata": {},
     "output_type": "display_data"
    },
    {
     "data": {
      "text/plain": [
       "<matplotlib.figure.Figure at 0x7f5bc29f0518>"
      ]
     },
     "metadata": {},
     "output_type": "display_data"
    }
   ],
   "source": [
    "plt.rc('axes', labelsize=20)\n",
    "plt.rc('xtick', labelsize=8)\n",
    "plt.rc('ytick', labelsize=8)\n",
    "\n",
    "fig=plt.figure()\n",
    "ax = fig.add_subplot(1, 1, 1)\n",
    "\n",
    "plt.plot(RR, MM,'b-', linewidth=1.2) \n",
    "plt.xlabel(r'$R\\,[km]$')\n",
    "plt.ylabel(r'$M/M_{\\odot}$')\n",
    "plt.savefig('MRrel_NL3.png', format='png', dpi=1000)\n",
    "#plt.savefig('MRrel_NL3.eps')\n",
    "plt.show()\n",
    "plt.clf()"
   ]
  },
  {
   "cell_type": "markdown",
   "metadata": {},
   "source": [
    "### Mass-Central Density Relation"
   ]
  },
  {
   "cell_type": "markdown",
   "metadata": {},
   "source": [
    "Plotting the M-$\\rho_c$ relation"
   ]
  },
  {
   "cell_type": "code",
   "execution_count": 12,
   "metadata": {},
   "outputs": [
    {
     "data": {
      "image/png": "[encoded data removed]",
      "text/plain": [
       "<matplotlib.figure.Figure at 0x7f5bc2a50128>"
      ]
     },
     "metadata": {},
     "output_type": "display_data"
    },
    {
     "data": {
      "text/plain": [
       "<matplotlib.figure.Figure at 0x7f5bc2f36710>"
      ]
     },
     "metadata": {},
     "output_type": "display_data"
    }
   ],
   "source": [
    "plt.rc('axes', labelsize=20)\n",
    "plt.rc('xtick', labelsize=8)\n",
    "plt.rc('ytick', labelsize=8)\n",
    "\n",
    "fig=plt.figure()\n",
    "ax = fig.add_subplot(1, 1, 1)\n",
    "\n",
    "plt.plot(rhorho, MM,'b-', linewidth=1.2)\n",
    "plt.xscale('log')\n",
    "plt.xlabel(r'$\\rho_c\\,[g/cm^{3}]$')\n",
    "plt.ylabel(r'$M/M_{\\odot}$')\n",
    "plt.savefig('Mrhorel_NL3.png', format='png', dpi=1000)\n",
    "#plt.savefig('MRrhorel_NL3.eps')\n",
    "plt.show()\n",
    "plt.clf()"
   ]
  }
 ],
 "metadata": {
  "kernelspec": {
   "display_name": "Python 3",
   "language": "python",
   "name": "python3"
  },
  "language_info": {
   "codemirror_mode": {
    "name": "ipython",
    "version": 3
   },
   "file_extension": ".py",
   "mimetype": "text/x-python",
   "name": "python",
   "nbconvert_exporter": "python",
   "pygments_lexer": "ipython3",
   "version": "3.6.4"
  }
 },
 "nbformat": 4,
 "nbformat_minor": 2
}
