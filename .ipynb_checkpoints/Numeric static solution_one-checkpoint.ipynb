{
 "cells": [
  {
   "cell_type": "code",
   "execution_count": 5,
   "metadata": {},
   "outputs": [],
   "source": [
    "import numpy as np\n",
    "import matplotlib.pyplot as plt\n",
    "from scipy import integrate\n",
    "from scipy import interpolate"
   ]
  },
  {
   "cell_type": "markdown",
   "metadata": {},
   "source": [
    "## System of Equations"
   ]
  },
  {
   "cell_type": "markdown",
   "metadata": {},
   "source": [
    "The equations of structure of an compact object with spherical symmetry (neutron stars in our case) is given by (in units where $c=G=1$):"
   ]
  },
  {
   "cell_type": "markdown",
   "metadata": {},
   "source": [
    "$$ P=P(\\rho), $$\n",
    "$$ \\frac{dm}{dr}=4\\pi \\rho r^2 , $$\n",
    "$$ \\frac{dP}{dr}=-(\\rho+P)\\frac{m+4\\pi r^3 P}{r(r-2m)} , $$"
   ]
  },
  {
   "cell_type": "markdown",
   "metadata": {},
   "source": [
    "and if is required"
   ]
  },
  {
   "cell_type": "markdown",
   "metadata": {},
   "source": [
    "\n",
    "$$ \\frac{d\\nu}{dr}= \\frac{m+4\\pi r^3 P}{r(r-2m)} .$$\n"
   ]
  },
  {
   "cell_type": "markdown",
   "metadata": {},
   "source": [
    "    "
   ]
  },
  {
   "cell_type": "markdown",
   "metadata": {},
   "source": [
    "Nondimensionalizing the variables:\n"
   ]
  },
  {
   "cell_type": "markdown",
   "metadata": {},
   "source": [
    "$r=b\\bar{r} \\quad ; \\quad \\rho=\\Sigma \\bar{\\rho} \\quad ; \\quad m=m_*\\bar{m} \\quad ; \\quad  P=P_* \\bar{P}$ "
   ]
  },
  {
   "cell_type": "markdown",
   "metadata": {},
   "source": [
    "with $\\Sigma=\\Sigma(m_n)$."
   ]
  },
  {
   "cell_type": "markdown",
   "metadata": {},
   "source": [
    "    "
   ]
  },
  {
   "cell_type": "markdown",
   "metadata": {},
   "source": [
    "So if we want just one parameter ($m_n$), given $\\Sigma$, the other parameters $b$, $m_*$, $P_*$ are found by forcing the nondimensional equation to keep the same form:\n",
    "\n",
    "$$ b=\\frac{1}{\\sqrt{\\Sigma}} \\quad ; \\quad m_*=b \\quad ; \\quad P_*=\\Sigma.$$\n",
    "\n",
    "With a particular choice of $\\Sigma$ and fixing the units with factors of $c$ and $G$ we have:\n",
    "\n",
    "\n",
    "$$ \\Sigma=\\frac{m_{n}^{4}c^{3}}{8 \\pi^2 \\hbar^3}\\quad;\\quad b=\\frac{c}{\\sqrt{\\Sigma G}}\\quad, \\quad m= \\frac{b c^2}{G} \\bar{m} \\quad; \\quad P= \\Sigma c^2 \\bar{P},$$"
   ]
  },
  {
   "cell_type": "markdown",
   "metadata": {},
   "source": [
    "and the nondimensional system of equations keeps the same form:"
   ]
  },
  {
   "cell_type": "markdown",
   "metadata": {},
   "source": [
    "$$ \\bar{P}=\\bar{P}(\\bar{\\rho}), $$\n",
    "$$ \\frac{d\\bar{m}}{\\bar{dr}}=4\\pi \\bar{\\rho} \\bar{r}^2 , $$\n",
    "$$ \\frac{d\\bar{P}}{d\\bar{r}}=-(\\bar{\\rho}+\\bar{P})\\frac{\\bar{m}+4\\pi \\bar{r}^3 \\bar{P}}{\\bar{r}(\\bar{r}-2\\bar{m})} . $$"
   ]
  },
  {
   "cell_type": "markdown",
   "metadata": {},
   "source": [
    "## Solving the system"
   ]
  },
  {
   "cell_type": "markdown",
   "metadata": {},
   "source": [
    "To solve this system of equations we need two initial conditions:\n",
    "\n",
    "$$ \\bar{P}{(0)}=P_{c}{(\\bar{\\rho_{c}})} \\quad ; \\quad \\bar{m}{(0)}=0,$$\n",
    "\n",
    "depending on the choice of $\\rho_{c}$."
   ]
  },
  {
   "cell_type": "markdown",
   "metadata": {},
   "source": [
    "We want our equation of state to be a table of numbers $(\\rho_{i},P_{i})$, this equation of state will depend on the theoretical model used to study the interior of the neutron star."
   ]
  },
  {
   "cell_type": "markdown",
   "metadata": {},
   "source": [
    "Loading some constants (in cgs units) from a separeted file and declaring the parameters"
   ]
  },
  {
   "cell_type": "code",
   "execution_count": 6,
   "metadata": {},
   "outputs": [],
   "source": [
    "import Physical_Const as phys\n",
    "h=phys.h \n",
    "c=phys.c\n",
    "G=phys.G\n",
    "Msun=phys.Msun\n",
    "mn=phys.mn # Neutron mass\n",
    "\n",
    "\n",
    "Sigma=mn**4.0*c**3.0/(8.0*np.pi**2*(h/(2.0*np.pi))**3.0)\n",
    "br=c/np.sqrt(Sigma*G) \n",
    "Mdim=(br*c**2.0/G)/Msun # So that m is measured in Solar masses"
   ]
  },
  {
   "cell_type": "code",
   "execution_count": 7,
   "metadata": {},
   "outputs": [
    {
     "name": "stdout",
     "output_type": "stream",
     "text": [
      "2280831545249651.0\n"
     ]
    }
   ],
   "source": [
    "print(Sigma)"
   ]
  },
  {
   "cell_type": "markdown",
   "metadata": {},
   "source": [
    "and loading the equation of state and interpolating it linearly"
   ]
  },
  {
   "cell_type": "code",
   "execution_count": 8,
   "metadata": {},
   "outputs": [],
   "source": [
    "rhoEoS,PEoS=np.loadtxt('EOSFull_NL3_BPS02.dat',usecols=(0,1),unpack=True) \n",
    "\n",
    "# Interpolating P\n",
    "EoS_NL302=interpolate.interp1d(rhoEoS/Sigma,PEoS/(c**2.0*Sigma)) \n",
    "\n",
    "\n",
    "# Interpolating Rho\n",
    "EoS_NL3=interpolate.interp1d(PEoS/(c**2.0*Sigma),rhoEoS/Sigma)\n",
    "\n",
    "def rho_EoS(x):\n",
    "    rhorho=interpolate.interp1d(PEoS/(c**2.0*Sigma),rhoEoS/Sigma)\n",
    "    return rhorho(x)\n",
    "\n",
    "\n",
    "def f(x):\n",
    "    return 2*rho_EoS(x)"
   ]
  },
  {
   "cell_type": "code",
   "execution_count": 9,
   "metadata": {},
   "outputs": [
    {
     "data": {
      "text/plain": [
       "231.93824520986823"
      ]
     },
     "execution_count": 9,
     "metadata": {},
     "output_type": "execute_result"
    }
   ],
   "source": [
    "f(110.0)"
   ]
  },
  {
   "cell_type": "markdown",
   "metadata": {},
   "source": [
    "Comparing the table and the interpolation"
   ]
  },
  {
   "cell_type": "code",
   "execution_count": 10,
   "metadata": {},
   "outputs": [
    {
     "data": {
      "image/png": "[encoded data removed]",
      "text/plain": [
       "<matplotlib.figure.Figure at 0x7f4ddd99cb70>"
      ]
     },
     "metadata": {},
     "output_type": "display_data"
    },
    {
     "data": {
      "text/plain": [
       "<matplotlib.figure.Figure at 0x7f4ddd967470>"
      ]
     },
     "metadata": {},
     "output_type": "display_data"
    }
   ],
   "source": [
    "plt.rc('axes', labelsize=20)\n",
    "plt.rc('xtick', labelsize=8)\n",
    "plt.rc('ytick', labelsize=8)\n",
    "\n",
    "fig=plt.figure()\n",
    "ax = fig.add_subplot(1, 1, 1)\n",
    "\n",
    "plt.plot(rhoEoS/Sigma,EoS_NL302(rhoEoS/Sigma),'k-', \\\n",
    "           linewidth=1.2,label=\"Interpolation\") # Interpolación\n",
    "plt.plot(rhoEoS/Sigma,PEoS/(c**2*Sigma),'ro', \\\n",
    "           markersize=3,label='Data') # Valores de la tabla\n",
    "plt.xlabel(r'$\\log\\bar{\\rho}$')\n",
    "plt.ylabel(r'$\\log\\bar{P}$')\n",
    "plt.savefig('NL3EoS.png', format='png', dpi=1000)\n",
    "#plt.savefig('NL3EoS.eps')\n",
    "plt.show()\n",
    "plt.clf()"
   ]
  },
  {
   "cell_type": "markdown",
   "metadata": {},
   "source": [
    "With the equation of state interpolated we can declare the system of equations:"
   ]
  },
  {
   "cell_type": "code",
   "execution_count": 16,
   "metadata": {},
   "outputs": [],
   "source": [
    "def TOV(r,y,):\n",
    "    mns = y[0]\n",
    "    pns = y[1]\n",
    "    nuns= y[2]\n",
    "   # print(rho_EoS(pns))\n",
    "    dmdr=4.0*np.pi*r**2.0*rho_EoS(pns)\n",
    "    dnudr=(4.0*np.pi*r**3.0*pns+mns)/(r*(r-2.0*mns))\n",
    "    dpdr=-dnudr*(pns+rho_EoS(pns))\n",
    "    return [dmdr,dpdr,dnudr]"
   ]
  },
  {
   "cell_type": "markdown",
   "metadata": {},
   "source": [
    "# Stellar structure"
   ]
  },
  {
   "cell_type": "markdown",
   "metadata": {},
   "source": [
    "Setting up the integration routine"
   ]
  },
  {
   "cell_type": "code",
   "execution_count": 17,
   "metadata": {},
   "outputs": [],
   "source": [
    "def StaticSeqSS(y0,r0,rf,dr):\n",
    "    Static=integrate.ode(TOV).set_integrator('dopri5',atol=1e-9) # Dopri (Dorman-Prince method) is a R-K method of order (4)5\n",
    "    Static.set_initial_value(y0,r0)\n",
    "    mms=[]; pexs=[];rs=[]\n",
    "    mms.append(y0[0]*Mdim); pexs.append(y0[1]*c**2*Sigma); rs.append(r0*br)\n",
    "    while Static.successful() and Static.t<rf and \\\n",
    "        EoS_NL3(Static.y[1])*Sigma>1e8 and Static.y[1]>0.0: #A condition over the density is included to stop the integration when P doesn't hit zero exactly\n",
    "        Static.integrate(Static.t+dr)\n",
    "        mms.append(Mdim*Static.y[0]);pexs.append(Static.y[1]); rs.append(Static.t)\n",
    "    while Static.successful() and Static.t<rf and \\\n",
    "        EoS_NL3(Static.y[1])*Sigma>1e6 and Static.y[1]>0.0: # A refinement of the integration \n",
    "        Static.integrate(Static.t+dr/10.0) # Make step size smaller\n",
    "        mms.append(Static.y[0]*Mdim);pexs.append(Static.y[1]*c**2*Sigma); rs.append(Static.t*br)\n",
    "        mstar=Static.y[0]\n",
    "        rstar=Static.t\n",
    "        nustar=np.log(1-2.0*Static.y[0]/Static.t)-Static.y[2]  \n",
    "    return [mstar*Mdim,rstar*br*1e-5,mms,pexs,rs] \n",
    "    # Returns mass of the star in solar masses, radius of the star in km, m(r) in solar masses, P(r) and r in cgs"
   ]
  },
  {
   "cell_type": "markdown",
   "metadata": {},
   "source": [
    "# Mass-Radius relation"
   ]
  },
  {
   "cell_type": "markdown",
   "metadata": {},
   "source": [
    "Setting up the integration routine (without saving the arrays)"
   ]
  },
  {
   "cell_type": "code",
   "execution_count": 28,
   "metadata": {},
   "outputs": [],
   "source": [
    "def StaticSeqMR(y0,r0,rf,dr):\n",
    "    Static=integrate.ode(TOV).set_integrator('dopri5',atol=1e-9) # Dopri (Dorman-Prince method) is a R-K method of order (4)5\n",
    "    Static.set_initial_value(y0,r0)\n",
    "    while Static.successful() and Static.t<rf and EoS_NL3(Static.y[1])*Sigma>1e8 and Static.y[1]>0.0:\n",
    "         #A condition over the density is included to stop the integration when P doesn't hit zero exactly\n",
    "        #print(Static.y[1])\n",
    "        Static.integrate(Static.t+dr)\n",
    "    while Static.successful() and Static.t<rf and EoS_NL3(Static.y[1])*Sigma>1e6 and Static.y[1]>0.0:    # A refinement of the integration\n",
    "        Static.integrate(Static.t+dr/10.0) # Make step size smaller\n",
    "    mstar=Static.y[0]\n",
    "    rstar=Static.t\n",
    "    nustar=np.log(1-2.0*Static.y[0]/Static.t)-Static.y[2]  \n",
    "    return [mstar*Mdim,rstar*br*1e-5] \n",
    "    # Returns mass of the star in solar masses and radius of the star in km"
   ]
  },
  {
   "cell_type": "markdown",
   "metadata": {},
   "source": [
    "We choose the values for $\\rho_c$ we want to consider and integrate from $r0$ to $rf$ every $dr$ saving the different values of $M_{star}$ y $R_{star}$ (slow):"
   ]
  },
  {
   "cell_type": "code",
   "execution_count": 29,
   "metadata": {},
   "outputs": [],
   "source": [
    "#Initial values\n",
    "dr1=1e-4 # Step size\n",
    "r01=dr1/1000.0 # Initial point\n",
    "rf1=2.0 # Final point\n",
    "rhoc=np.arange(14.1,15.5,0.05)\n",
    "xc=EoS_NL302((10.0**rhoc)/Sigma) "
   ]
  },
  {
   "cell_type": "code",
   "execution_count": 30,
   "metadata": {},
   "outputs": [
    {
     "name": "stdout",
     "output_type": "stream",
     "text": [
      "[0.12532788911347092, 34.913441001825454]\n",
      "[0.1577695252919249, 24.528028634448347]\n",
      "[0.20019970497668554, 20.09172114219861]\n",
      "[0.2532039080095809, 17.84245588177453]\n",
      "[0.3169746963223939, 16.603828718696786]\n",
      "[0.3897393302407121, 15.89750012059947]\n",
      "[0.4741317121919875, 15.462425037807263]\n",
      "[0.5738858557224412, 15.183393643927142]\n",
      "[0.6934098994775721, 15.00547467152276]\n",
      "[0.8417114400194575, 14.897070488882967]\n",
      "[1.0263624420824402, 14.84505592591234]\n",
      "[1.25619583624317, 14.837034988631874]\n",
      "[1.5229863613095165, 14.8513754522547]\n",
      "[1.8025085090446922, 14.855021332836797]\n",
      "[2.0662030759058414, 14.818319468310763]\n",
      "[2.2896493527352253, 14.730089158224933]\n",
      "[2.4656513129251505, 14.594219341866863]\n",
      "[2.5965569857542437, 14.421890719688182]\n",
      "[2.6888794282680384, 14.22428399214055]\n",
      "[2.749924631843809, 14.011364566148272]\n",
      "[2.786305524391109, 13.789938085464513]\n",
      "[2.8035118963947685, 13.565351841609642]\n",
      "[2.80589825083111, 13.341251715165708]\n",
      "[2.796895107792101, 13.1203113518929]\n",
      "[2.7791941252995773, 12.904718280140433]\n",
      "[2.7548648262638, 12.695444734730208]\n",
      "[2.7255882453239613, 12.493706009189571]\n",
      "[2.692658029473215, 12.299988220929475]\n",
      "[2.6571124098833123, 12.115263604771815]\n"
     ]
    }
   ],
   "source": [
    "MM=[];RR=[]\n",
    "\n",
    "for xcc in xc:\n",
    "    MR=StaticSeqMR([0,xcc,0],r01,rf1,dr1)\n",
    "    print(MR)\n",
    "    RR=RR+[MR[1]]\n",
    "    MM=MM+[MR[0]]"
   ]
  },
  {
   "cell_type": "markdown",
   "metadata": {},
   "source": [
    "Finally we plot the M-R relation"
   ]
  },
  {
   "cell_type": "code",
   "execution_count": 31,
   "metadata": {},
   "outputs": [
    {
     "data": {
      "image/png": "[encoded data removed]",
      "text/plain": [
       "<matplotlib.figure.Figure at 0x7f4dcf453da0>"
      ]
     },
     "metadata": {},
     "output_type": "display_data"
    },
    {
     "data": {
      "text/plain": [
       "<matplotlib.figure.Figure at 0x7f4ddd9734a8>"
      ]
     },
     "metadata": {},
     "output_type": "display_data"
    }
   ],
   "source": [
    "plt.rc('axes', labelsize=20)\n",
    "plt.rc('xtick', labelsize=8)\n",
    "plt.rc('ytick', labelsize=8)\n",
    "\n",
    "fig=plt.figure()\n",
    "ax = fig.add_subplot(1, 1, 1)\n",
    "\n",
    "plt.plot(RR, MM,'b-', linewidth=1.2) \n",
    "plt.xlabel(r'$R [km]$')\n",
    "plt.ylabel(r'$M [M_{\\odot}]$')\n",
    "plt.savefig('MRrel_NL3.png', format='png', dpi=1000)\n",
    "#plt.savefig('MRrel_NL3.eps')\n",
    "plt.show()\n",
    "plt.clf()"
   ]
  },
  {
   "cell_type": "code",
   "execution_count": 32,
   "metadata": {},
   "outputs": [
    {
     "data": {
      "text/plain": [
       "[2.0732739527146893, 10.949797112040072]"
      ]
     },
     "execution_count": 32,
     "metadata": {},
     "output_type": "execute_result"
    }
   ],
   "source": [
    "StaticSeqMR([0,110.1,0],r01,rf1,dr1)"
   ]
  },
  {
   "cell_type": "code",
   "execution_count": null,
   "metadata": {},
   "outputs": [],
   "source": []
  }
 ],
 "metadata": {
  "kernelspec": {
   "display_name": "Python 3",
   "language": "python",
   "name": "python3"
  },
  "language_info": {
   "codemirror_mode": {
    "name": "ipython",
    "version": 3
   },
   "file_extension": ".py",
   "mimetype": "text/x-python",
   "name": "python",
   "nbconvert_exporter": "python",
   "pygments_lexer": "ipython3",
   "version": "3.6.4"
  }
 },
 "nbformat": 4,
 "nbformat_minor": 2
}
