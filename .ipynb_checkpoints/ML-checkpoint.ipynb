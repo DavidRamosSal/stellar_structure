{
 "cells": [
  {
   "cell_type": "markdown",
   "metadata": {},
   "source": [
    "With the polytropic EOS written in linear form, a least squares linear regression model can be trained to find the parameters $\\gamma$ and $K$ that better fit the values of a numerical EOS within some range of densities $[\\rho_i,\\rho_{i+1}]$.\n",
    "\n",
    "If a fit starts at a density $\\rho_i$ with density $P_{i}$, the parameter $K_{i+1}$ of the next polytropic segment is fixed to ensure the continuity of the pressure:\n",
    "\n",
    "$$ \\log_{10}(P_i) = \\gamma_{i+1} \\log_{10}(\\rho_i) + \\log_{10}(K_{i+1}) \\quad \\Rightarrow \\quad \\log_{10}(K_{i+1}) =  \\log_{10}(P_i) - \\gamma_{i+1} \\log_{10}(\\rho_i) ,$$\n",
    "\n",
    "so that every segment has only $\\gamma_{i+1}$ to be fitted:\n",
    "\n",
    "\\begin{align}\n",
    "\\log_{10}(P) &= \\gamma_{i+1} \\log_{10}(\\rho) + \\log_{10}(P) - \\gamma_{i+1} \\log_{10}(\\rho_i) \\\\\n",
    "\\log_{10}\\left(\\frac{P}{P_{i}}\\right) &= \\gamma_{i+1} \\log_{10}\\left( \\frac{\\rho}{\\rho_i} \\right).\n",
    "\\end{align}"
   ]
  },
  {
   "cell_type": "code",
   "execution_count": null,
   "metadata": {},
   "outputs": [],
   "source": []
  }
 ],
 "metadata": {
  "kernelspec": {
   "display_name": "Python 3",
   "language": "python",
   "name": "python3"
  },
  "language_info": {
   "codemirror_mode": {
    "name": "ipython",
    "version": 3
   },
   "file_extension": ".py",
   "mimetype": "text/x-python",
   "name": "python",
   "nbconvert_exporter": "python",
   "pygments_lexer": "ipython3",
   "version": "3.7.6"
  }
 },
 "nbformat": 4,
 "nbformat_minor": 4
}
