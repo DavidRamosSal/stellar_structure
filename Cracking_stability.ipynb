{
 "cells": [
  {
   "cell_type": "markdown",
   "metadata": {},
   "source": [
    "# Cracking sources of instability"
   ]
  },
  {
   "cell_type": "markdown",
   "metadata": {},
   "source": [
    "Cracking is a possible instability source of compact objects when these are subjected to local density perturbations. The stability criteria is based on the sign change of the following quantities"
   ]
  },
  {
   "cell_type": "markdown",
   "metadata": {},
   "source": [
    "$$ \\delta \\mathcal{R}_{p}=\\frac{P^{\\prime \\prime}}{\\rho^{\\prime}} \\delta \\rho=\\left[\\left(v^{2}\\right)^{\\prime}+v^{2} \\frac{\\rho^{\\prime \\prime}}{\\rho^{\\prime}}\\right] \\delta \\rho, $$\n",
    "\n",
    "$$ \\delta \\mathcal{R}_{g}=\\left[\\frac{\\partial \\mathcal{R}_{g}}{\\partial \\rho}+\\frac{\\partial \\mathcal{R}_{g}}{\\partial P} v^{2}+\\frac{\\partial \\mathcal{R}_{g}}{\\partial m} \\frac{4 \\pi r^{2} \\rho}{\\rho^{\\prime}}\\right] \\delta \\rho,  $$\n",
    "\n",
    "$$ \\delta \\mathcal{R}_{a}=2\\left[\\frac{v^{2}-v_{\\perp}^{2}}{r}\\right] \\delta \\rho $$\n",
    "where \n",
    "\n",
    "$$ \\frac{\\partial \\mathcal{R}_{g}}{\\partial \\rho}=\\frac{m+4 \\pi r^{3} P}{r(r-2 m)}, \\frac{\\partial \\mathcal{R}_{g}}{\\partial P}=\\frac{m+4 \\pi r^{3}(\\rho+2 P)}{r(r-2 m)}, \\frac{\\partial \\mathcal{R}_{g}}{\\partial m}=\\frac{(\\rho+P)\\left(1+8 \\pi r^{2} P\\right)}{(r-2 m)^{2}}   $$\n",
    "\n",
    "and\n",
    "\n",
    "$$ v^{2} = \\frac{dP}{d\\rho} \\quad , \\quad v_{\\perp}^{2} = \\frac{dP_{\\perp}}{d\\rho} $$"
   ]
  },
  {
   "cell_type": "markdown",
   "metadata": {},
   "source": [
    "## Isotropic case"
   ]
  },
  {
   "cell_type": "markdown",
   "metadata": {},
   "source": [
    "In this case $P=P_{\\perp}$ so that $v=v_{\\perp}$ and $\\delta \\mathcal{R}_{a}=0$. The possible change of sign is due to $\\mathcal{R}_{p}$ and $\\mathcal{R}_{g}$."
   ]
  },
  {
   "cell_type": "markdown",
   "metadata": {},
   "source": [
    "### Calculating $\\delta\\mathcal{R}_{p}$"
   ]
  },
  {
   "cell_type": "code",
   "execution_count": 1,
   "metadata": {},
   "outputs": [],
   "source": [
    "import os\n",
    "import numpy as np\n",
    "import matplotlib.pyplot as plt\n",
    "import matplotlib.ticker\n",
    "import matplotlib as mpl\n",
    "from scipy import integrate, interpolate\n",
    "from Physical_Const import *\n",
    "plt.rc('text', usetex=True)\n",
    "plt.rc('font', family='serif')\n",
    "plt.rc('axes', labelsize=21)\n",
    "plt.rc('xtick', labelsize=14)\n",
    "plt.rc('ytick', labelsize=14)\n",
    "plt.rc('legend',fontsize= 14,markerscale=1.5)\n",
    "plt.rcParams['axes.spines.right'] = True\n",
    "plt.rcParams['axes.spines.top'] = True\n",
    "mpl.rcParams['axes.linewidth'] = 1.0"
   ]
  },
  {
   "cell_type": "markdown",
   "metadata": {},
   "source": [
    "Loading a model to play with"
   ]
  },
  {
   "cell_type": "code",
   "execution_count": 2,
   "metadata": {},
   "outputs": [],
   "source": [
    "model1 = np.loadtxt('results/alf1/14.5.dat',unpack=True)"
   ]
  },
  {
   "cell_type": "markdown",
   "metadata": {},
   "source": [
    "Taking first and second order derivatives of $\\rho$"
   ]
  },
  {
   "cell_type": "code",
   "execution_count": 112,
   "metadata": {},
   "outputs": [],
   "source": [
    "s1=1e-20\n",
    "model1drho=interpolate.UnivariateSpline(model1[-1], model1[2], k=3, s=s1).derivative(n=1)\n",
    "s2=1e-7\n",
    "model1ddrho=interpolate.UnivariateSpline(model1[-1], model1[2], k=5, s=s2).derivative(n=2)"
   ]
  },
  {
   "cell_type": "code",
   "execution_count": 113,
   "metadata": {
    "scrolled": true
   },
   "outputs": [
    {
     "data": {
      "text/plain": [
       "[<matplotlib.lines.Line2D at 0x7f8b6e7cb750>]"
      ]
     },
     "execution_count": 113,
     "metadata": {},
     "output_type": "execute_result"
    },
    {
     "data": {
      "image/png": "[encoded data removed]",
      "text/plain": [
       "<Figure size 432x288 with 1 Axes>"
      ]
     },
     "metadata": {
      "needs_background": "light"
     },
     "output_type": "display_data"
    }
   ],
   "source": [
    "plt.plot(model1[-1]/model1[-1][-1],model1drho(model1[-1]))"
   ]
  },
  {
   "cell_type": "code",
   "execution_count": 114,
   "metadata": {},
   "outputs": [
    {
     "data": {
      "text/plain": [
       "[<matplotlib.lines.Line2D at 0x7f8b6e7ae5d0>]"
      ]
     },
     "execution_count": 114,
     "metadata": {},
     "output_type": "execute_result"
    },
    {
     "data": {
      "image/png": "[encoded data removed]",
      "text/plain": [
       "<Figure size 432x288 with 1 Axes>"
      ]
     },
     "metadata": {
      "needs_background": "light"
     },
     "output_type": "display_data"
    }
   ],
   "source": [
    "plt.plot(model1[-1]/model1[-1][-1],model1ddrho(model1[-1]))"
   ]
  },
  {
   "cell_type": "markdown",
   "metadata": {},
   "source": [
    "Now using one of the TOV equations to find the first derivative of $P$\n",
    "\n",
    "$$ \\frac{\\mathrm{d} P}{\\mathrm{d} r}=-(P+\\rho) \\frac{m+4 \\pi P r^{3}}{r(r-2 m)} $$"
   ]
  },
  {
   "cell_type": "code",
   "execution_count": 115,
   "metadata": {},
   "outputs": [
    {
     "name": "stderr",
     "output_type": "stream",
     "text": [
      "/home/dave/anaconda3/lib/python3.7/site-packages/ipykernel_launcher.py:1: RuntimeWarning: invalid value encountered in true_divide\n",
      "  \"\"\"Entry point for launching an IPython kernel.\n"
     ]
    }
   ],
   "source": [
    "model1dP = -(model1[1]+model1[2])*((model1[0]+4*np.pi*model1[1]*(model1[-1]**3))/(model1[-1]*(model1[-1]-2*model1[0])))"
   ]
  },
  {
   "cell_type": "markdown",
   "metadata": {},
   "source": [
    "Now the speed of sound"
   ]
  },
  {
   "cell_type": "code",
   "execution_count": 116,
   "metadata": {},
   "outputs": [],
   "source": [
    "model1vs = model1dP/model1drho(model1[-1])"
   ]
  },
  {
   "cell_type": "code",
   "execution_count": 117,
   "metadata": {
    "scrolled": true
   },
   "outputs": [
    {
     "data": {
      "text/plain": [
       "[<matplotlib.lines.Line2D at 0x7f8b6e71a150>]"
      ]
     },
     "execution_count": 117,
     "metadata": {},
     "output_type": "execute_result"
    },
    {
     "data": {
      "image/png": "[encoded data removed]",
      "text/plain": [
       "<Figure size 432x288 with 1 Axes>"
      ]
     },
     "metadata": {
      "needs_background": "light"
     },
     "output_type": "display_data"
    }
   ],
   "source": [
    "plt.plot(np.delete(model1[-1],0)/model1[-1][-1],np.delete(model1vs,0))"
   ]
  },
  {
   "cell_type": "markdown",
   "metadata": {},
   "source": [
    "Finally the first derivative of $v^{2}$"
   ]
  },
  {
   "cell_type": "code",
   "execution_count": 118,
   "metadata": {},
   "outputs": [],
   "source": [
    "s3 = 1e-5\n",
    "model1dvs = interpolate.UnivariateSpline(np.delete(model1[-1],0), np.delete(model1vs,0), k=3, s=s3).derivative(n=1)"
   ]
  },
  {
   "cell_type": "code",
   "execution_count": 119,
   "metadata": {},
   "outputs": [
    {
     "data": {
      "text/plain": [
       "[<matplotlib.lines.Line2D at 0x7f8b6e67f1d0>]"
      ]
     },
     "execution_count": 119,
     "metadata": {},
     "output_type": "execute_result"
    },
    {
     "data": {
      "image/png": "[encoded data removed]",
      "text/plain": [
       "<Figure size 432x288 with 1 Axes>"
      ]
     },
     "metadata": {
      "needs_background": "light"
     },
     "output_type": "display_data"
    }
   ],
   "source": [
    "plt.plot(np.delete(model1[-1],0)/model1[-1][-1],model1dvs(np.delete(model1[-1],0)))"
   ]
  },
  {
   "cell_type": "markdown",
   "metadata": {},
   "source": [
    "With these results $\\delta\\mathcal{R}_{p}$ can be calculated"
   ]
  },
  {
   "cell_type": "code",
   "execution_count": 128,
   "metadata": {},
   "outputs": [],
   "source": [
    "dRp = model1dvs(np.delete(model1[-1],0)) + np.delete(model1vs,0)*(np.delete(model1ddrho(model1[-1]),0)/np.delete(model1drho(model1[-1]),0)) "
   ]
  },
  {
   "cell_type": "code",
   "execution_count": 129,
   "metadata": {
    "scrolled": true
   },
   "outputs": [
    {
     "data": {
      "text/plain": [
       "(-1, 1)"
      ]
     },
     "execution_count": 129,
     "metadata": {},
     "output_type": "execute_result"
    },
    {
     "data": {
      "image/png": "[encoded data removed]",
      "text/plain": [
       "<Figure size 432x288 with 1 Axes>"
      ]
     },
     "metadata": {
      "needs_background": "light"
     },
     "output_type": "display_data"
    }
   ],
   "source": [
    "plt.plot(np.delete(model1[-1],0)/model1[-1][-1],dRp)\n",
    "plt.ylim(-1,1)"
   ]
  },
  {
   "cell_type": "markdown",
   "metadata": {},
   "source": [
    "### Calculating $\\delta\\mathcal{R}_{p}$"
   ]
  },
  {
   "cell_type": "code",
   "execution_count": 122,
   "metadata": {},
   "outputs": [
    {
     "name": "stderr",
     "output_type": "stream",
     "text": [
      "/home/dave/anaconda3/lib/python3.7/site-packages/ipykernel_launcher.py:1: RuntimeWarning: invalid value encountered in true_divide\n",
      "  \"\"\"Entry point for launching an IPython kernel.\n"
     ]
    }
   ],
   "source": [
    "dRgdrho = (model1[0]+4*np.pi*model1[1]*(model1[-1]**3))/(model1[-1]*(model1[-1]-2*model1[0]))"
   ]
  },
  {
   "cell_type": "code",
   "execution_count": 123,
   "metadata": {},
   "outputs": [
    {
     "name": "stderr",
     "output_type": "stream",
     "text": [
      "/home/dave/anaconda3/lib/python3.7/site-packages/ipykernel_launcher.py:1: RuntimeWarning: invalid value encountered in true_divide\n",
      "  \"\"\"Entry point for launching an IPython kernel.\n"
     ]
    }
   ],
   "source": [
    "dRgdP = (model1[0]+4*np.pi*(model1[-1]**3)*(model1[2]+2*model1[1]))/(model1[-1]*(model1[-1]-2*model1[0]))"
   ]
  },
  {
   "cell_type": "code",
   "execution_count": 124,
   "metadata": {},
   "outputs": [
    {
     "name": "stderr",
     "output_type": "stream",
     "text": [
      "/home/dave/anaconda3/lib/python3.7/site-packages/ipykernel_launcher.py:1: RuntimeWarning: divide by zero encountered in true_divide\n",
      "  \"\"\"Entry point for launching an IPython kernel.\n"
     ]
    }
   ],
   "source": [
    "dRgdm = ((model1[1]+model1[2])*(1+8*np.pi*(model1[-1]**2)*model1[1]))/((model1[-1]-2*model1[0])**2)"
   ]
  },
  {
   "cell_type": "code",
   "execution_count": 125,
   "metadata": {
    "scrolled": true
   },
   "outputs": [
    {
     "name": "stderr",
     "output_type": "stream",
     "text": [
      "/home/dave/anaconda3/lib/python3.7/site-packages/ipykernel_launcher.py:1: RuntimeWarning: invalid value encountered in multiply\n",
      "  \"\"\"Entry point for launching an IPython kernel.\n"
     ]
    }
   ],
   "source": [
    "dRg = dRgdrho + dRgdP*model1vs + dRgdm*((4*np.pi*(model1[-1]**2)*model1[2])/(model1drho(model1[-1])))"
   ]
  },
  {
   "cell_type": "code",
   "execution_count": 134,
   "metadata": {},
   "outputs": [
    {
     "data": {
      "text/plain": [
       "(-1, 1)"
      ]
     },
     "execution_count": 134,
     "metadata": {},
     "output_type": "execute_result"
    },
    {
     "data": {
      "image/png": "[encoded data removed]",
      "text/plain": [
       "<Figure size 432x288 with 1 Axes>"
      ]
     },
     "metadata": {
      "needs_background": "light"
     },
     "output_type": "display_data"
    }
   ],
   "source": [
    "plt.plot(np.delete(model1[-1],0)/model1[-1][-1],np.delete(dRg,0))\n",
    "plt.ylim(-1,1)"
   ]
  },
  {
   "cell_type": "markdown",
   "metadata": {},
   "source": [
    "Both contributions to $\\delta \\mathcal{R}$ have big values close the center of the object"
   ]
  },
  {
   "cell_type": "code",
   "execution_count": 137,
   "metadata": {},
   "outputs": [],
   "source": [
    "dR = np.delete(dRg,0) + dRp"
   ]
  },
  {
   "cell_type": "code",
   "execution_count": 140,
   "metadata": {},
   "outputs": [
    {
     "data": {
      "text/plain": [
       "(-1, 1)"
      ]
     },
     "execution_count": 140,
     "metadata": {},
     "output_type": "execute_result"
    },
    {
     "data": {
      "image/png": "[encoded data removed]",
      "text/plain": [
       "<Figure size 432x288 with 1 Axes>"
      ]
     },
     "metadata": {
      "needs_background": "light"
     },
     "output_type": "display_data"
    }
   ],
   "source": [
    "plt.plot(np.delete(model1[-1],0)/model1[-1][-1],dR)\n",
    "plt.ylim(-1,1)"
   ]
  }
 ],
 "metadata": {
  "kernelspec": {
   "display_name": "Python 3",
   "language": "python",
   "name": "python3"
  },
  "language_info": {
   "codemirror_mode": {
    "name": "ipython",
    "version": 3
   },
   "file_extension": ".py",
   "mimetype": "text/x-python",
   "name": "python",
   "nbconvert_exporter": "python",
   "pygments_lexer": "ipython3",
   "version": "3.7.6"
  }
 },
 "nbformat": 4,
 "nbformat_minor": 2
}
