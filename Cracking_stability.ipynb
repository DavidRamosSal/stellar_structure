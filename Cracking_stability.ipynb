{
 "cells": [
  {
   "cell_type": "markdown",
   "metadata": {},
   "source": [
    "# Cracking sources of instability"
   ]
  },
  {
   "cell_type": "markdown",
   "metadata": {},
   "source": [
    "Cracking is a possible instability source of compact objects when these are subjected to local density perturbations. The stability criteria is based on the sign change of the following quantities"
   ]
  },
  {
   "cell_type": "markdown",
   "metadata": {},
   "source": [
    "$$ \\delta \\mathcal{R}_{p}=\\frac{P^{\\prime \\prime}}{\\rho^{\\prime}} \\delta \\rho=\\left[\\left(v^{2}\\right)^{\\prime}+v^{2} \\frac{\\rho^{\\prime \\prime}}{\\rho^{\\prime}}\\right] \\delta \\rho, $$\n",
    "\n",
    "$$ \\delta \\mathcal{R}_{g}=\\left[\\frac{\\partial \\mathcal{R}_{g}}{\\partial \\rho}+\\frac{\\partial \\mathcal{R}_{g}}{\\partial P} v^{2}+\\frac{\\partial \\mathcal{R}_{g}}{\\partial m} \\frac{4 \\pi r^{2} \\rho}{\\rho^{\\prime}}\\right] \\delta \\rho,  $$\n",
    "\n",
    "$$ \\delta \\mathcal{R}_{a}=2\\left[\\frac{v^{2}-v_{\\perp}^{2}}{r}\\right] \\delta \\rho $$\n",
    "where \n",
    "\n",
    "$$ \\frac{\\partial \\mathcal{R}_{g}}{\\partial \\rho}=\\frac{m+4 \\pi r^{3} P}{r(r-2 m)}, \\frac{\\partial \\mathcal{R}_{g}}{\\partial P}=\\frac{m+4 \\pi r^{3}(\\rho+2 P)}{r(r-2 m)}, \\frac{\\partial \\mathcal{R}_{g}}{\\partial m}=\\frac{(\\rho+P)\\left(1+8 \\pi r^{2} P\\right)}{(r-2 m)^{2}}   $$\n",
    "\n",
    "and\n",
    "\n",
    "$$ v^{2} = \\frac{dP}{d\\rho} \\quad , \\quad v_{\\perp}^{2} = \\frac{dP_{\\perp}}{d\\rho} $$"
   ]
  },
  {
   "cell_type": "markdown",
   "metadata": {},
   "source": [
    "## Isotropic case"
   ]
  },
  {
   "cell_type": "markdown",
   "metadata": {},
   "source": [
    "In this case $P=P_{\\perp}$ so that $v=v_{\\perp}$ and $\\delta \\mathcal{R}_{a}=0$. The possible change of sign is due to $\\mathcal{R}_{p}$ and $\\mathcal{R}_{g}$."
   ]
  },
  {
   "cell_type": "markdown",
   "metadata": {},
   "source": [
    "### Calculating $\\delta\\mathcal{R}_{p}$"
   ]
  },
  {
   "cell_type": "code",
   "execution_count": 2,
   "metadata": {},
   "outputs": [],
   "source": [
    "import os\n",
    "import numpy as np\n",
    "import matplotlib.pyplot as plt\n",
    "import matplotlib.ticker\n",
    "import matplotlib as mpl\n",
    "from scipy import integrate, interpolate\n",
    "from Physical_Const import *\n",
    "plt.rc('text', usetex=True)\n",
    "plt.rc('font', family='serif')\n",
    "plt.rc('axes', labelsize=21)\n",
    "plt.rc('xtick', labelsize=14)\n",
    "plt.rc('ytick', labelsize=14)\n",
    "plt.rc('legend',fontsize= 14,markerscale=1.5)\n",
    "plt.rcParams['axes.spines.right'] = True\n",
    "plt.rcParams['axes.spines.top'] = True\n",
    "mpl.rcParams['axes.linewidth'] = 1.0"
   ]
  },
  {
   "cell_type": "markdown",
   "metadata": {},
   "source": [
    "Loading a model to play with"
   ]
  },
  {
   "cell_type": "code",
   "execution_count": null,
   "metadata": {},
   "outputs": [],
   "source": [
    "model1 = np.loadtxt('results/bpal12/14.2.dat',unpack=True)"
   ]
  },
  {
   "cell_type": "markdown",
   "metadata": {},
   "source": [
    "Taking first and second order derivatives of $\\rho$"
   ]
  },
  {
   "cell_type": "markdown",
   "metadata": {},
   "source": [
    "Now using one of the TOV equations to find the first derivative of $P$\n",
    "\n",
    "$$ \\frac{\\mathrm{d} P}{\\mathrm{d} r}=-(P+\\rho) \\frac{m+4 \\pi P r^{3}}{r(r-2 m)} $$"
   ]
  },
  {
   "cell_type": "code",
   "execution_count": null,
   "metadata": {
    "scrolled": true
   },
   "outputs": [],
   "source": [
    "model1dP = -(model1[1]+model1[2])*((model1[0]+4*np.pi*model1[1]*(model1[-1]**3))/(model1[-1]*(model1[-1]-2*model1[0])))"
   ]
  },
  {
   "cell_type": "markdown",
   "metadata": {},
   "source": [
    "Alternate way to compute $\\rho^{\\prime}$\n",
    "\n",
    "$$ \\frac{d\\rho}{dr} = \\frac{d\\rho}{dP}\\frac{dP}{dr} $$"
   ]
  },
  {
   "cell_type": "markdown",
   "metadata": {},
   "source": [
    "Loading the EOS"
   ]
  },
  {
   "cell_type": "code",
   "execution_count": null,
   "metadata": {},
   "outputs": [],
   "source": [
    "rhoalf1,Palf1=np.loadtxt('EOS/bpal12.dat',usecols=(2,1),unpack=True)\n",
    "#def P_alf1(rho):\n",
    " #   logP=interpolate.interp1d(np.log10(rhoalf1/rhodim),np.log10((Palf1*c**2)/Pdim))\n",
    " #   return 10.0**logP(np.log10(rho))\n",
    "#def rho_alf1(P):\n",
    " #   logrho=interpolate.interp1d(np.log10((Palf1*c**2)/Pdim),np.log10(rhoalf1/rhodim))\n",
    " #   return 10.0**logrho(np.log10(P))"
   ]
  },
  {
   "cell_type": "code",
   "execution_count": null,
   "metadata": {},
   "outputs": [],
   "source": [
    "model1vs=interpolate.UnivariateSpline(rhoalf1, Palf1, k=3, s=0).derivative(n=1)(model1[2]*rhodim)"
   ]
  },
  {
   "cell_type": "code",
   "execution_count": null,
   "metadata": {},
   "outputs": [],
   "source": [
    "plt.plot(model1[-1]/model1[-1][-1],model1vs)"
   ]
  },
  {
   "cell_type": "code",
   "execution_count": null,
   "metadata": {},
   "outputs": [],
   "source": [
    "model1drho = model1dP/model1vs"
   ]
  },
  {
   "cell_type": "code",
   "execution_count": null,
   "metadata": {
    "scrolled": false
   },
   "outputs": [],
   "source": [
    "plt.plot(model1[-1]/model1[-1][-1],model1drho)"
   ]
  },
  {
   "cell_type": "code",
   "execution_count": null,
   "metadata": {},
   "outputs": [],
   "source": [
    "model1ddrho = interpolate.UnivariateSpline(np.delete(model1[-1],0), np.delete(model1drho,0), k=3, s=0).derivative(n=1)(model1[-1])"
   ]
  },
  {
   "cell_type": "code",
   "execution_count": null,
   "metadata": {},
   "outputs": [],
   "source": [
    "plt.plot(model1[-1]/model1[-1][-1],model1ddrho)"
   ]
  },
  {
   "cell_type": "markdown",
   "metadata": {},
   "source": [
    "Calculating $(v^2)'$"
   ]
  },
  {
   "cell_type": "code",
   "execution_count": null,
   "metadata": {},
   "outputs": [],
   "source": [
    "model1dvs = interpolate.UnivariateSpline(np.delete(model1[-1],0), np.delete(model1vs,0), k=3, s=0).derivative(n=1)(model1[-1])"
   ]
  },
  {
   "cell_type": "code",
   "execution_count": null,
   "metadata": {
    "scrolled": true
   },
   "outputs": [],
   "source": [
    "plt.plot(model1[-1]/model1[-1][-1],model1dvs)"
   ]
  },
  {
   "cell_type": "code",
   "execution_count": null,
   "metadata": {},
   "outputs": [],
   "source": [
    "dRp = np.delete(model1dvs,0) + np.delete(model1vs,0)*np.delete(model1ddrho,0)/(np.delete(model1drho,0))"
   ]
  },
  {
   "cell_type": "code",
   "execution_count": null,
   "metadata": {
    "scrolled": true
   },
   "outputs": [],
   "source": [
    "plt.plot(np.delete(model1[-1],0)/model1[-1][-1],dRp)\n",
    "plt.ylim(-1,1)"
   ]
  },
  {
   "cell_type": "markdown",
   "metadata": {},
   "source": [
    "### Calculating $\\delta\\mathcal{R}_{g}$"
   ]
  },
  {
   "cell_type": "code",
   "execution_count": null,
   "metadata": {},
   "outputs": [],
   "source": [
    "dRgdrho = (model1[0]+4*np.pi*model1[1]*(model1[-1]**3))/(model1[-1]*(model1[-1]-2*model1[0]))"
   ]
  },
  {
   "cell_type": "code",
   "execution_count": null,
   "metadata": {},
   "outputs": [],
   "source": [
    "dRgdP = (model1[0]+4*np.pi*(model1[-1]**3)*(model1[2]+2*model1[1]))/(model1[-1]*(model1[-1]-2*model1[0]))"
   ]
  },
  {
   "cell_type": "code",
   "execution_count": null,
   "metadata": {},
   "outputs": [],
   "source": [
    "dRgdm = ((model1[1]+model1[2])*(1+8*np.pi*(model1[-1]**2)*model1[1]))/((model1[-1]-2*model1[0])**2)"
   ]
  },
  {
   "cell_type": "code",
   "execution_count": null,
   "metadata": {
    "scrolled": true
   },
   "outputs": [],
   "source": [
    "dRg = dRgdrho + dRgdP*model1vs + dRgdm*((4*np.pi*(model1[-1]**2)*model1[2])/(model1drho))"
   ]
  },
  {
   "cell_type": "code",
   "execution_count": null,
   "metadata": {},
   "outputs": [],
   "source": [
    "plt.plot(np.delete(model1[-1],0)/model1[-1][-1],np.delete(dRg,0))\n",
    "plt.ylim(-1,1)"
   ]
  },
  {
   "cell_type": "markdown",
   "metadata": {},
   "source": [
    "Both contributions to $\\delta \\mathcal{R}$ have big values close the center of the object"
   ]
  },
  {
   "cell_type": "code",
   "execution_count": null,
   "metadata": {},
   "outputs": [],
   "source": [
    "dR = np.delete(dRg,0) + dRp"
   ]
  },
  {
   "cell_type": "code",
   "execution_count": null,
   "metadata": {},
   "outputs": [],
   "source": [
    "plt.plot(np.delete(model1[-1],0)/model1[-1][-1],dR)\n",
    "plt.ylim(-1,1)"
   ]
  },
  {
   "cell_type": "markdown",
   "metadata": {},
   "source": [
    "Putting it all together in a function"
   ]
  },
  {
   "cell_type": "code",
   "execution_count": 3,
   "metadata": {},
   "outputs": [],
   "source": [
    "def isocracking_stab(EOS,s=0.0):\n",
    "    models = np.arange(14.5,15,0.1)\n",
    "    dRs= []\n",
    "    rs=[]\n",
    "    for model in models:\n",
    "            model1 = np.loadtxt('results/'+ EOS +'/' + str(round(model,2)) + '.dat' ,unpack=True)\n",
    "            model1dP = -(model1[1]+model1[2])*((model1[0]+4*np.pi*model1[1]*(model1[-1]**3))/(model1[-1]*(model1[-1]-2*model1[0])))\n",
    "            rhoEOS,PEOS=np.loadtxt('EOS/'+ EOS + '.dat',usecols=(2,1),unpack=True)\n",
    "            model1vs=interpolate.UnivariateSpline(rhoEOS, PEOS, k=3, s=s).derivative(n=1)(model1[2]*rhodim)\n",
    "            model1drho = model1dP/model1vs\n",
    "            model1ddrho = interpolate.UnivariateSpline(np.delete(model1[-1],0), np.delete(model1drho,0), k=3, s=s).derivative(n=1)(model1[-1])\n",
    "            model1dvs = interpolate.UnivariateSpline(np.delete(model1[-1],0), np.delete(model1vs,0), k=3, s=s).derivative(n=1)(model1[-1])\n",
    "            dRp = np.delete(model1dvs,0) + np.delete(model1vs,0)*np.delete(model1ddrho,0)/(np.delete(model1drho,0))\n",
    "            dRgdrho = (model1[0]+4*np.pi*model1[1]*(model1[-1]**3))/(model1[-1]*(model1[-1]-2*model1[0]))\n",
    "            dRgdP = (model1[0]+4*np.pi*(model1[-1]**3)*(model1[2]+2*model1[1]))/(model1[-1]*(model1[-1]-2*model1[0]))\n",
    "            dRgdm = ((model1[1]+model1[2])*(1+8*np.pi*(model1[-1]**2)*model1[1]))/((model1[-1]-2*model1[0])**2)\n",
    "            dRg = dRgdrho + dRgdP*model1vs + dRgdm*((4*np.pi*(model1[-1]**2)*model1[2])/(model1drho))\n",
    "            dR = np.delete(dRg,0) + dRp\n",
    "            dRs.append(dR)\n",
    "            rs.append(np.delete(model1[-1],0))\n",
    "    return dRs,rs"
   ]
  },
  {
   "cell_type": "code",
   "execution_count": 18,
   "metadata": {
    "scrolled": true
   },
   "outputs": [
    {
     "name": "stderr",
     "output_type": "stream",
     "text": [
      "/home/dave/anaconda3/lib/python3.7/site-packages/ipykernel_launcher.py:7: RuntimeWarning: invalid value encountered in true_divide\n",
      "  import sys\n",
      "/home/dave/anaconda3/lib/python3.7/site-packages/ipykernel_launcher.py:14: RuntimeWarning: invalid value encountered in true_divide\n",
      "  \n",
      "/home/dave/anaconda3/lib/python3.7/site-packages/ipykernel_launcher.py:15: RuntimeWarning: invalid value encountered in true_divide\n",
      "  from ipykernel import kernelapp as app\n",
      "/home/dave/anaconda3/lib/python3.7/site-packages/ipykernel_launcher.py:16: RuntimeWarning: divide by zero encountered in true_divide\n",
      "  app.launch_new_instance()\n"
     ]
    }
   ],
   "source": [
    "dRsalf1,rsalf1 = isocracking_stab('alf1',s=0)"
   ]
  },
  {
   "cell_type": "code",
   "execution_count": 19,
   "metadata": {},
   "outputs": [
    {
     "data": {
      "image/png": "[encoded data removed]",
      "text/plain": [
       "<Figure size 432x288 with 1 Axes>"
      ]
     },
     "metadata": {
      "needs_background": "light"
     },
     "output_type": "display_data"
    }
   ],
   "source": [
    "fig, ax = plt.subplots()\n",
    "plt.plot(rsalf1[2]/rsalf1[2][-1],dRsalf1[2])\n",
    "plt.xlabel(r'$r$')\n",
    "plt.ylabel(r'$\\delta \\mathcal{R}$')\n",
    "plt.ylim(-5,1)\n",
    "ax.tick_params(axis=\"x\", direction=\"in\",which='both')\n",
    "ax.tick_params(axis=\"y\", direction=\"in\",which='both')\n",
    "plt.savefig('cracking_example2.png', format='png', dpi=1000,bbox_inches=\"tight\")\n",
    "plt.show()"
   ]
  },
  {
   "cell_type": "code",
   "execution_count": null,
   "metadata": {},
   "outputs": [],
   "source": []
  }
 ],
 "metadata": {
  "kernelspec": {
   "display_name": "Python 3",
   "language": "python",
   "name": "python3"
  },
  "language_info": {
   "codemirror_mode": {
    "name": "ipython",
    "version": 3
   },
   "file_extension": ".py",
   "mimetype": "text/x-python",
   "name": "python",
   "nbconvert_exporter": "python",
   "pygments_lexer": "ipython3",
   "version": "3.7.6"
  }
 },
 "nbformat": 4,
 "nbformat_minor": 2
}
