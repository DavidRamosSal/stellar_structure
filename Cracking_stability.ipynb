{
 "cells": [
  {
   "cell_type": "markdown",
   "metadata": {},
   "source": [
    "# Cracking sources of instability"
   ]
  },
  {
   "cell_type": "markdown",
   "metadata": {},
   "source": [
    "Cracking is a possible instability source of compact objects when these are subjected to local density perturbations. The stability criteria is based on the sign change of the following quantities"
   ]
  },
  {
   "cell_type": "markdown",
   "metadata": {},
   "source": [
    "$$ \\delta \\mathcal{R}_{p}=\\frac{P^{\\prime \\prime}}{\\rho^{\\prime}} \\delta \\rho=\\left[\\left(v^{2}\\right)^{\\prime}+v^{2} \\frac{\\rho^{\\prime \\prime}}{\\rho^{\\prime}}\\right] \\delta \\rho, $$\n",
    "\n",
    "$$ \\delta \\mathcal{R}_{g}=\\left[\\frac{\\partial \\mathcal{R}_{g}}{\\partial \\rho}+\\frac{\\partial \\mathcal{R}_{g}}{\\partial P} v^{2}+\\frac{\\partial \\mathcal{R}_{g}}{\\partial m} \\frac{4 \\pi r^{2} \\rho}{\\rho^{\\prime}}\\right] \\delta \\rho,  $$\n",
    "\n",
    "$$ \\delta \\mathcal{R}_{a}=2\\left[\\frac{v^{2}-v_{\\perp}^{2}}{r}\\right] \\delta \\rho $$\n",
    "where \n",
    "\n",
    "$$ \\frac{\\partial \\mathcal{R}_{g}}{\\partial \\rho}=\\frac{m+4 \\pi r^{3} P}{r(r-2 m)}, \\frac{\\partial \\mathcal{R}_{g}}{\\partial P}=\\frac{m+4 \\pi r^{3}(\\rho+2 P)}{r(r-2 m)}, \\frac{\\partial \\mathcal{R}_{g}}{\\partial m}=\\frac{(\\rho+P)\\left(1+8 \\pi r^{2} P\\right)}{(r-2 m)^{2}}   $$\n",
    "\n",
    "and\n",
    "\n",
    "$$ v^{2} = \\frac{dP}{d\\rho} \\quad , \\quad v_{\\perp}^{2} = \\frac{dP_{\\perp}}{d\\rho} $$"
   ]
  },
  {
   "cell_type": "markdown",
   "metadata": {},
   "source": [
    "## Isotropic case"
   ]
  },
  {
   "cell_type": "markdown",
   "metadata": {},
   "source": [
    "In this case $P=P_{\\perp}$ so that $v=v_{\\perp}$ and $\\delta \\mathcal{R}_{a}=0$. The possible change of sign is due to $\\mathcal{R}_{p}$ and $\\mathcal{R}_{g}$."
   ]
  },
  {
   "cell_type": "markdown",
   "metadata": {},
   "source": [
    "### Calculating $\\mathcal{R}_{p}$"
   ]
  },
  {
   "cell_type": "code",
   "execution_count": 2,
   "metadata": {},
   "outputs": [],
   "source": [
    "import os\n",
    "import numpy as np\n",
    "import matplotlib.pyplot as plt\n",
    "import matplotlib.ticker\n",
    "import matplotlib as mpl\n",
    "from scipy import integrate, interpolate\n",
    "from Physical_Const import *\n",
    "plt.rc('text', usetex=True)\n",
    "plt.rc('font', family='serif')\n",
    "plt.rc('axes', labelsize=21)\n",
    "plt.rc('xtick', labelsize=14)\n",
    "plt.rc('ytick', labelsize=14)\n",
    "plt.rc('legend',fontsize= 14,markerscale=1.5)\n",
    "plt.rcParams['axes.spines.right'] = True\n",
    "plt.rcParams['axes.spines.top'] = True\n",
    "mpl.rcParams['axes.linewidth'] = 1.0"
   ]
  },
  {
   "cell_type": "code",
   "execution_count": null,
   "metadata": {},
   "outputs": [],
   "source": []
  }
 ],
 "metadata": {
  "kernelspec": {
   "display_name": "Python 3",
   "language": "python",
   "name": "python3"
  },
  "language_info": {
   "codemirror_mode": {
    "name": "ipython",
    "version": 3
   },
   "file_extension": ".py",
   "mimetype": "text/x-python",
   "name": "python",
   "nbconvert_exporter": "python",
   "pygments_lexer": "ipython3",
   "version": "3.7.4"
  }
 },
 "nbformat": 4,
 "nbformat_minor": 2
}
